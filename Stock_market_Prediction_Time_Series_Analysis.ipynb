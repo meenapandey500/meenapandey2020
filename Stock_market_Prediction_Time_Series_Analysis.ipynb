{
 "cells": [
  {
   "cell_type": "markdown",
   "metadata": {},
   "source": [
    "# Time Series Forecasting of Stock Prices "
   ]
  },
  {
   "cell_type": "code",
   "execution_count": null,
   "metadata": {},
   "outputs": [],
   "source": [
    "'''we will have a look at applying a time series model to stock prices.\n",
    "More specifically, a non-seasonal ARIMA model. We implement a grid search to \n",
    "select the optimal parameters for the model and forecast the next 12 months. \n",
    "This is an attempt to predict Stock prices based on Stock prices of previous days. The stock market refers to the collection of markets and exchanges where regular activities of buying, selling, and issuance of shares of publicly-held companies take place.\n",
    "we will have a look at applying a time series model to stock prices.\n",
    "More specifically, a non-seasonal ARIMA model. We implement a grid search to \n",
    "select the optimal parameters for the model and forecast the next 12 months.\n",
    "This is a time series analysis and we will see simple eight ways to predict the Stock prices. The various models to be used are:\n",
    "Average\n",
    "Weighted Average\n",
    "Moving Average\n",
    "Moving Weighted Average\n",
    "Linear Regression\n",
    "Weighted Linear Regression\n",
    "\n",
    "'''"
   ]
  },
  {
   "cell_type": "code",
   "execution_count": null,
   "metadata": {},
   "outputs": [],
   "source": [
    "#Dataset :  WE will be using Amazon’s historical monthly stock price AMZN.csv"
   ]
  },
  {
   "cell_type": "code",
   "execution_count": null,
   "metadata": {},
   "outputs": [],
   "source": [
    "#Import the necessary libraries"
   ]
  },
  {
   "cell_type": "code",
   "execution_count": 1,
   "metadata": {},
   "outputs": [],
   "source": [
    "import numpy as np\n",
    "import pandas as pd\n",
    "import matplotlib.pyplot as plt\n",
    "%matplotlib inline\n",
    " \n",
    "from statsmodels.tools.eval_measures import rmse\n",
    "import seaborn as sns\n",
    "import statsmodels.api as sm\n",
    "import itertools\n",
    "from statsmodels.tsa.arima_model import ARIMA, ARMA\n",
    "import warnings\n",
    "warnings.filterwarnings(\"ignore\")"
   ]
  },
  {
   "cell_type": "markdown",
   "metadata": {},
   "source": [
    "#Now it’s time to import the dataset and view it. We do so using the panda’s \n",
    "#library and its read_csv function."
   ]
  },
  {
   "cell_type": "code",
   "execution_count": 2,
   "metadata": {},
   "outputs": [
    {
     "data": {
      "text/html": [
       "<div>\n",
       "<style scoped>\n",
       "    .dataframe tbody tr th:only-of-type {\n",
       "        vertical-align: middle;\n",
       "    }\n",
       "\n",
       "    .dataframe tbody tr th {\n",
       "        vertical-align: top;\n",
       "    }\n",
       "\n",
       "    .dataframe thead th {\n",
       "        text-align: right;\n",
       "    }\n",
       "</style>\n",
       "<table border=\"1\" class=\"dataframe\">\n",
       "  <thead>\n",
       "    <tr style=\"text-align: right;\">\n",
       "      <th></th>\n",
       "      <th>Date</th>\n",
       "      <th>Open</th>\n",
       "      <th>High</th>\n",
       "      <th>Low</th>\n",
       "      <th>Close</th>\n",
       "      <th>Adj Close</th>\n",
       "      <th>Volume</th>\n",
       "    </tr>\n",
       "  </thead>\n",
       "  <tbody>\n",
       "    <tr>\n",
       "      <th>0</th>\n",
       "      <td>2014-03-01</td>\n",
       "      <td>358.739990</td>\n",
       "      <td>383.109985</td>\n",
       "      <td>330.880005</td>\n",
       "      <td>336.369995</td>\n",
       "      <td>336.369995</td>\n",
       "      <td>75253500</td>\n",
       "    </tr>\n",
       "    <tr>\n",
       "      <th>1</th>\n",
       "      <td>2014-04-01</td>\n",
       "      <td>338.089996</td>\n",
       "      <td>348.299988</td>\n",
       "      <td>288.000000</td>\n",
       "      <td>304.130005</td>\n",
       "      <td>304.130005</td>\n",
       "      <td>138278700</td>\n",
       "    </tr>\n",
       "    <tr>\n",
       "      <th>2</th>\n",
       "      <td>2014-05-01</td>\n",
       "      <td>304.130005</td>\n",
       "      <td>314.869995</td>\n",
       "      <td>284.380005</td>\n",
       "      <td>312.549988</td>\n",
       "      <td>312.549988</td>\n",
       "      <td>78579200</td>\n",
       "    </tr>\n",
       "    <tr>\n",
       "      <th>3</th>\n",
       "      <td>2014-06-01</td>\n",
       "      <td>312.589996</td>\n",
       "      <td>340.720001</td>\n",
       "      <td>303.839996</td>\n",
       "      <td>324.779999</td>\n",
       "      <td>324.779999</td>\n",
       "      <td>76580100</td>\n",
       "    </tr>\n",
       "    <tr>\n",
       "      <th>4</th>\n",
       "      <td>2014-07-01</td>\n",
       "      <td>325.859985</td>\n",
       "      <td>364.850006</td>\n",
       "      <td>311.859985</td>\n",
       "      <td>312.989990</td>\n",
       "      <td>312.989990</td>\n",
       "      <td>99426000</td>\n",
       "    </tr>\n",
       "  </tbody>\n",
       "</table>\n",
       "</div>"
      ],
      "text/plain": [
       "         Date        Open        High         Low       Close   Adj Close  \\\n",
       "0  2014-03-01  358.739990  383.109985  330.880005  336.369995  336.369995   \n",
       "1  2014-04-01  338.089996  348.299988  288.000000  304.130005  304.130005   \n",
       "2  2014-05-01  304.130005  314.869995  284.380005  312.549988  312.549988   \n",
       "3  2014-06-01  312.589996  340.720001  303.839996  324.779999  324.779999   \n",
       "4  2014-07-01  325.859985  364.850006  311.859985  312.989990  312.989990   \n",
       "\n",
       "      Volume  \n",
       "0   75253500  \n",
       "1  138278700  \n",
       "2   78579200  \n",
       "3   76580100  \n",
       "4   99426000  "
      ]
     },
     "execution_count": 2,
     "metadata": {},
     "output_type": "execute_result"
    }
   ],
   "source": [
    "data = pd.read_csv('AMZN.csv')\n",
    "data.head()"
   ]
  },
  {
   "cell_type": "code",
   "execution_count": null,
   "metadata": {},
   "outputs": [],
   "source": [
    "'''We are only interested in the “Close” price. Also, we need to set the \n",
    "date as the index for the data frame.'''"
   ]
  },
  {
   "cell_type": "code",
   "execution_count": 3,
   "metadata": {},
   "outputs": [],
   "source": [
    "df = data[['Date','Close']]\n",
    "df.Date = pd.to_datetime(df.Date)\n",
    "df = df.set_index(\"Date\")"
   ]
  },
  {
   "cell_type": "code",
   "execution_count": null,
   "metadata": {},
   "outputs": [],
   "source": [
    "'''Now that we have preprocessed our data, we can view the data as a line plot.'''"
   ]
  },
  {
   "cell_type": "code",
   "execution_count": 5,
   "metadata": {},
   "outputs": [
    {
     "data": {
      "image/png": "[encoded data removed]",
      "text/plain": [
       "<Figure size 432x288 with 1 Axes>"
      ]
     },
     "metadata": {
      "needs_background": "light"
     },
     "output_type": "display_data"
    }
   ],
   "source": [
    "df.plot(style=\"-\")\n",
    "plt.show()"
   ]
  },
  {
   "cell_type": "code",
   "execution_count": null,
   "metadata": {},
   "outputs": [],
   "source": [
    "'''we define the parameters and generate all possible combinations of the \n",
    "parameters.'''"
   ]
  },
  {
   "cell_type": "code",
   "execution_count": 6,
   "metadata": {},
   "outputs": [],
   "source": [
    "# Define the p, d and q parameters to take any value between 0 and 3\n",
    "p = d = q = range(0, 3)\n",
    "# Generate all different combinations of p, q and q\n",
    "pdq = list(itertools.product(p, d, q))"
   ]
  },
  {
   "cell_type": "code",
   "execution_count": null,
   "metadata": {},
   "outputs": [],
   "source": [
    "'''the SARIMAX() function is applied to all combinations of parameters and \n",
    "the model with the lowest AIC is printed.'''"
   ]
  },
  {
   "cell_type": "code",
   "execution_count": 19,
   "metadata": {},
   "outputs": [
    {
     "name": "stdout",
     "output_type": "stream",
     "text": [
      "ARIMA(0, 0, 0) - AIC:1225.905012120932\n",
      "ARIMA(0, 0, 1) - AIC:1138.4009161910628\n",
      "ARIMA(0, 0, 2) - AIC:1081.0699161172704\n",
      "ARIMA(0, 1, 0) - AIC:853.4856999726362\n",
      "ARIMA(0, 1, 1) - AIC:854.2648822137808\n",
      "ARIMA(0, 1, 2) - AIC:855.520398342341\n",
      "ARIMA(0, 2, 0) - AIC:899.3477630639445\n",
      "ARIMA(0, 2, 1) - AIC:845.0912114317533\n",
      "ARIMA(0, 2, 2) - AIC:844.4451178406484\n",
      "ARIMA(1, 0, 0) - AIC:872.6299775590843\n",
      "ARIMA(1, 0, 1) - AIC:873.4521899270555\n",
      "ARIMA(1, 0, 2) - AIC:874.6996532894581\n",
      "ARIMA(1, 1, 0) - AIC:854.0828751794445\n",
      "ARIMA(1, 1, 1) - AIC:855.9837194321253\n",
      "ARIMA(1, 1, 2) - AIC:857.490143431709\n",
      "ARIMA(1, 2, 0) - AIC:871.6713396259582\n",
      "ARIMA(1, 2, 1) - AIC:844.3543646556421\n",
      "ARIMA(1, 2, 2) - AIC:846.353600681967\n",
      "ARIMA(2, 0, 0) - AIC:873.2742050042496\n",
      "ARIMA(2, 0, 1) - AIC:876.5897657914255\n",
      "ARIMA(2, 0, 2) - AIC:876.9947510389964\n",
      "ARIMA(2, 1, 0) - AIC:855.8390292159434\n",
      "ARIMA(2, 1, 1) - AIC:855.4436581217542\n",
      "ARIMA(2, 1, 2) - AIC:856.6568438862489\n",
      "ARIMA(2, 2, 0) - AIC:862.3012978916505\n",
      "ARIMA(2, 2, 1) - AIC:846.3535175880166\n",
      "ARIMA(2, 2, 2) - AIC:847.140722938478\n",
      "The optimal model is: ARIMA(1, 2, 1) -AIC844.3543646556421\n"
     ]
    }
   ],
   "source": [
    "warnings.filterwarnings(\"ignore\")\n",
    "aic= []\n",
    "parameters = []\n",
    "for param in pdq:\n",
    "  #for param in pdq:\n",
    "      try:\n",
    "          mod = sm.tsa.statespace.SARIMAX(df, order=param,       \n",
    "enforce_stationarity=True, enforce_invertibility=True)\n",
    "         \n",
    "          results = mod.fit()\n",
    "          # save results in lists\n",
    "          aic.append(results.aic)\n",
    "          parameters.append(param)\n",
    "          #seasonal_param.append(param_seasonal)\n",
    "          print('ARIMA{} - AIC:{}'.format(param, results.aic))\n",
    "      except:\n",
    "          continue\n",
    "# find lowest aic          \n",
    "index_min = min(range(len(aic)), key=aic.__getitem__)           \n",
    " \n",
    "print('The optimal model is: ARIMA{} -AIC{}'.format(parameters[index_min], aic[index_min]))\n"
   ]
  },
  {
   "cell_type": "code",
   "execution_count": null,
   "metadata": {},
   "outputs": [],
   "source": [
    "'''The next step is to fit the ARIMA(0,2,1) model to our time series.'''"
   ]
  },
  {
   "cell_type": "code",
   "execution_count": 22,
   "metadata": {},
   "outputs": [
    {
     "name": "stdout",
     "output_type": "stream",
     "text": [
      "                             ARIMA Model Results                              \n",
      "==============================================================================\n",
      "Dep. Variable:               D2.Close   No. Observations:                   70\n",
      "Model:                 ARIMA(1, 2, 1)   Log Likelihood                -419.117\n",
      "Method:                       css-mle   S.D. of innovations             93.233\n",
      "Date:                Tue, 29 Sep 2020   AIC                            846.234\n",
      "Time:                        15:18:37   BIC                            855.228\n",
      "Sample:                    05-01-2014   HQIC                           849.806\n",
      "                         - 02-01-2020                                         \n",
      "==================================================================================\n",
      "                     coef    std err          z      P>|z|      [0.025      0.975]\n",
      "----------------------------------------------------------------------------------\n",
      "const              0.1941      0.452      0.429      0.669      -0.693       1.081\n",
      "ar.L1.D2.Close    -0.2023      0.119     -1.700      0.094      -0.435       0.031\n",
      "ma.L1.D2.Close    -1.0000      0.045    -22.322      0.000      -1.088      -0.912\n",
      "                                    Roots                                    \n",
      "=============================================================================\n",
      "                  Real          Imaginary           Modulus         Frequency\n",
      "-----------------------------------------------------------------------------\n",
      "AR.1           -4.9429           +0.0000j            4.9429            0.5000\n",
      "MA.1            1.0000           +0.0000j            1.0000            0.0000\n",
      "-----------------------------------------------------------------------------\n"
     ]
    }
   ],
   "source": [
    "model = ARIMA(df, order=parameters[index_min])\n",
    "model_fit = model.fit(disp=0)\n",
    "print(model_fit.summary())"
   ]
  },
  {
   "cell_type": "code",
   "execution_count": null,
   "metadata": {},
   "outputs": [],
   "source": [
    "'''Finally, we can forecast the next 12 months and visualise the data points\n",
    "thereafter.'''"
   ]
  },
  {
   "cell_type": "code",
   "execution_count": 23,
   "metadata": {},
   "outputs": [
    {
     "data": {
      "image/png": "[encoded data removed]",
      "text/plain": [
       "<Figure size 432x288 with 1 Axes>"
      ]
     },
     "metadata": {
      "needs_background": "light"
     },
     "output_type": "display_data"
    }
   ],
   "source": [
    "model_fit.plot_predict(start=2, end=len(df)+12)\n",
    "plt.show()"
   ]
  },
  {
   "cell_type": "code",
   "execution_count": null,
   "metadata": {},
   "outputs": [],
   "source": []
  }
 ],
 "metadata": {
  "kernelspec": {
   "display_name": "Python 3",
   "language": "python",
   "name": "python3"
  },
  "language_info": {
   "codemirror_mode": {
    "name": "ipython",
    "version": 3
   },
   "file_extension": ".py",
   "mimetype": "text/x-python",
   "name": "python",
   "nbconvert_exporter": "python",
   "pygments_lexer": "ipython3",
   "version": "3.7.3"
  }
 },
 "nbformat": 4,
 "nbformat_minor": 2
}
