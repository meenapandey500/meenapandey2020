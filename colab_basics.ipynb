{
  "nbformat": 4,
  "nbformat_minor": 0,
  "metadata": {
    "colab": {
      "name": "colab_basics.ipynb",
      "provenance": []
    },
    "kernelspec": {
      "name": "python3",
      "display_name": "Python 3"
    }
  },
  "cells": [
    {
      "cell_type": "code",
      "metadata": {
        "id": "QJLLjpHn0tbi",
        "colab": {
          "base_uri": "https://localhost:8080/",
          "height": 34
        },
        "outputId": "1a19970d-a6f1-4209-d604-2df93a3f5201"
      },
      "source": [
        "print(\"Hello world\")"
      ],
      "execution_count": null,
      "outputs": [
        {
          "output_type": "stream",
          "text": [
            "Hello world\n"
          ],
          "name": "stdout"
        }
      ]
    },
    {
      "cell_type": "code",
      "metadata": {
        "id": "H1sHnNhd1RuD"
      },
      "source": [
        "a = 10\n",
        "b = 20"
      ],
      "execution_count": null,
      "outputs": []
    },
    {
      "cell_type": "code",
      "metadata": {
        "id": "-24uu3R21SG5",
        "colab": {
          "base_uri": "https://localhost:8080/",
          "height": 34
        },
        "outputId": "5a2bff90-73f4-4175-8d89-8e3f685d6e50"
      },
      "source": [
        "print(a+b)"
      ],
      "execution_count": null,
      "outputs": [
        {
          "output_type": "stream",
          "text": [
            "30\n"
          ],
          "name": "stdout"
        }
      ]
    },
    {
      "cell_type": "markdown",
      "metadata": {
        "id": "uK4dKzmT2Rex"
      },
      "source": [
        "<h1> Hello world </h1>"
      ]
    },
    {
      "cell_type": "markdown",
      "metadata": {
        "id": "wF1i79Q_2YPs"
      },
      "source": [
        "## Hello world 2\n",
        "### Hello world 3"
      ]
    },
    {
      "cell_type": "code",
      "metadata": {
        "id": "4ZAWoze-2hk2",
        "colab": {
          "base_uri": "https://localhost:8080/",
          "height": 71
        },
        "outputId": "d215b1df-f0a3-4d16-e7f1-a7effc331815"
      },
      "source": [
        "import numpy as np\n",
        "import pandas as pd\n",
        "import matplotlib.pyplot as plt\n",
        "import seaborn as sns"
      ],
      "execution_count": null,
      "outputs": [
        {
          "output_type": "stream",
          "text": [
            "/usr/local/lib/python3.6/dist-packages/statsmodels/tools/_testing.py:19: FutureWarning: pandas.util.testing is deprecated. Use the functions in the public API at pandas.testing instead.\n",
            "  import pandas.util.testing as tm\n"
          ],
          "name": "stderr"
        }
      ]
    },
    {
      "cell_type": "code",
      "metadata": {
        "id": "jpF71kiW3NrC"
      },
      "source": [
        "from sklearn.linear_model import LinearRegression"
      ],
      "execution_count": null,
      "outputs": []
    },
    {
      "cell_type": "code",
      "metadata": {
        "id": "3jQCpI3-3ch4"
      },
      "source": [
        "import tensorflow as tf"
      ],
      "execution_count": null,
      "outputs": []
    },
    {
      "cell_type": "markdown",
      "metadata": {
        "id": "9EBWbYkP48da"
      },
      "source": [
        "## Read CSV files"
      ]
    },
    {
      "cell_type": "code",
      "metadata": {
        "id": "TDNrXXt34-yv"
      },
      "source": [
        "df = pd.read_csv(\"https://raw.githubusercontent.com/sukamal1928/Machine_Learning_Cheat_Sheets/master/house.csv\")"
      ],
      "execution_count": null,
      "outputs": []
    },
    {
      "cell_type": "code",
      "metadata": {
        "id": "jURAmdj85azf",
        "colab": {
          "base_uri": "https://localhost:8080/",
          "height": 224
        },
        "outputId": "dca9c224-4827-4971-a7e0-167f746fe859"
      },
      "source": [
        "df.head()"
      ],
      "execution_count": null,
      "outputs": [
        {
          "output_type": "execute_result",
          "data": {
            "text/html": [
              "<div>\n",
              "<style scoped>\n",
              "    .dataframe tbody tr th:only-of-type {\n",
              "        vertical-align: middle;\n",
              "    }\n",
              "\n",
              "    .dataframe tbody tr th {\n",
              "        vertical-align: top;\n",
              "    }\n",
              "\n",
              "    .dataframe thead th {\n",
              "        text-align: right;\n",
              "    }\n",
              "</style>\n",
              "<table border=\"1\" class=\"dataframe\">\n",
              "  <thead>\n",
              "    <tr style=\"text-align: right;\">\n",
              "      <th></th>\n",
              "      <th>id</th>\n",
              "      <th>date</th>\n",
              "      <th>price</th>\n",
              "      <th>bedrooms</th>\n",
              "      <th>bathrooms</th>\n",
              "      <th>sqft_living</th>\n",
              "      <th>sqft_lot</th>\n",
              "      <th>floors</th>\n",
              "      <th>waterfront</th>\n",
              "      <th>view</th>\n",
              "      <th>condition</th>\n",
              "      <th>grade</th>\n",
              "      <th>sqft_above</th>\n",
              "      <th>sqft_basement</th>\n",
              "      <th>yr_built</th>\n",
              "      <th>yr_renovated</th>\n",
              "      <th>zipcode</th>\n",
              "      <th>lat</th>\n",
              "      <th>long</th>\n",
              "      <th>sqft_living15</th>\n",
              "      <th>sqft_lot15</th>\n",
              "    </tr>\n",
              "  </thead>\n",
              "  <tbody>\n",
              "    <tr>\n",
              "      <th>0</th>\n",
              "      <td>7129300520</td>\n",
              "      <td>20141013T000000</td>\n",
              "      <td>221900.0</td>\n",
              "      <td>3</td>\n",
              "      <td>1.00</td>\n",
              "      <td>1180</td>\n",
              "      <td>5650</td>\n",
              "      <td>1.0</td>\n",
              "      <td>0</td>\n",
              "      <td>0</td>\n",
              "      <td>3</td>\n",
              "      <td>7</td>\n",
              "      <td>1180</td>\n",
              "      <td>0</td>\n",
              "      <td>1955</td>\n",
              "      <td>0</td>\n",
              "      <td>98178</td>\n",
              "      <td>47.5112</td>\n",
              "      <td>-122.257</td>\n",
              "      <td>1340</td>\n",
              "      <td>5650</td>\n",
              "    </tr>\n",
              "    <tr>\n",
              "      <th>1</th>\n",
              "      <td>6414100192</td>\n",
              "      <td>20141209T000000</td>\n",
              "      <td>538000.0</td>\n",
              "      <td>3</td>\n",
              "      <td>2.25</td>\n",
              "      <td>2570</td>\n",
              "      <td>7242</td>\n",
              "      <td>2.0</td>\n",
              "      <td>0</td>\n",
              "      <td>0</td>\n",
              "      <td>3</td>\n",
              "      <td>7</td>\n",
              "      <td>2170</td>\n",
              "      <td>400</td>\n",
              "      <td>1951</td>\n",
              "      <td>1991</td>\n",
              "      <td>98125</td>\n",
              "      <td>47.7210</td>\n",
              "      <td>-122.319</td>\n",
              "      <td>1690</td>\n",
              "      <td>7639</td>\n",
              "    </tr>\n",
              "    <tr>\n",
              "      <th>2</th>\n",
              "      <td>5631500400</td>\n",
              "      <td>20150225T000000</td>\n",
              "      <td>180000.0</td>\n",
              "      <td>2</td>\n",
              "      <td>1.00</td>\n",
              "      <td>770</td>\n",
              "      <td>10000</td>\n",
              "      <td>1.0</td>\n",
              "      <td>0</td>\n",
              "      <td>0</td>\n",
              "      <td>3</td>\n",
              "      <td>6</td>\n",
              "      <td>770</td>\n",
              "      <td>0</td>\n",
              "      <td>1933</td>\n",
              "      <td>0</td>\n",
              "      <td>98028</td>\n",
              "      <td>47.7379</td>\n",
              "      <td>-122.233</td>\n",
              "      <td>2720</td>\n",
              "      <td>8062</td>\n",
              "    </tr>\n",
              "    <tr>\n",
              "      <th>3</th>\n",
              "      <td>2487200875</td>\n",
              "      <td>20141209T000000</td>\n",
              "      <td>604000.0</td>\n",
              "      <td>4</td>\n",
              "      <td>3.00</td>\n",
              "      <td>1960</td>\n",
              "      <td>5000</td>\n",
              "      <td>1.0</td>\n",
              "      <td>0</td>\n",
              "      <td>0</td>\n",
              "      <td>5</td>\n",
              "      <td>7</td>\n",
              "      <td>1050</td>\n",
              "      <td>910</td>\n",
              "      <td>1965</td>\n",
              "      <td>0</td>\n",
              "      <td>98136</td>\n",
              "      <td>47.5208</td>\n",
              "      <td>-122.393</td>\n",
              "      <td>1360</td>\n",
              "      <td>5000</td>\n",
              "    </tr>\n",
              "    <tr>\n",
              "      <th>4</th>\n",
              "      <td>1954400510</td>\n",
              "      <td>20150218T000000</td>\n",
              "      <td>510000.0</td>\n",
              "      <td>3</td>\n",
              "      <td>2.00</td>\n",
              "      <td>1680</td>\n",
              "      <td>8080</td>\n",
              "      <td>1.0</td>\n",
              "      <td>0</td>\n",
              "      <td>0</td>\n",
              "      <td>3</td>\n",
              "      <td>8</td>\n",
              "      <td>1680</td>\n",
              "      <td>0</td>\n",
              "      <td>1987</td>\n",
              "      <td>0</td>\n",
              "      <td>98074</td>\n",
              "      <td>47.6168</td>\n",
              "      <td>-122.045</td>\n",
              "      <td>1800</td>\n",
              "      <td>7503</td>\n",
              "    </tr>\n",
              "  </tbody>\n",
              "</table>\n",
              "</div>"
            ],
            "text/plain": [
              "           id             date     price  ...     long  sqft_living15  sqft_lot15\n",
              "0  7129300520  20141013T000000  221900.0  ... -122.257           1340        5650\n",
              "1  6414100192  20141209T000000  538000.0  ... -122.319           1690        7639\n",
              "2  5631500400  20150225T000000  180000.0  ... -122.233           2720        8062\n",
              "3  2487200875  20141209T000000  604000.0  ... -122.393           1360        5000\n",
              "4  1954400510  20150218T000000  510000.0  ... -122.045           1800        7503\n",
              "\n",
              "[5 rows x 21 columns]"
            ]
          },
          "metadata": {
            "tags": []
          },
          "execution_count": 14
        }
      ]
    },
    {
      "cell_type": "markdown",
      "metadata": {
        "id": "sRe7aqZb5ygI"
      },
      "source": [
        "### read from local system"
      ]
    },
    {
      "cell_type": "code",
      "metadata": {
        "id": "VMRoImfG52cl",
        "colab": {
          "resources": {
            "http://localhost:8080/nbextensions/google.colab/files.js": {
              "data": "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",
              "ok": true,
              "headers": [
                [
                  "content-type",
                  "application/javascript"
                ]
              ],
              "status": 200,
              "status_text": ""
            }
          },
          "base_uri": "https://localhost:8080/",
          "height": 109
        },
        "outputId": "769f1931-59d3-483d-c75b-04975fb12e2a"
      },
      "source": [
        "from google.colab import files\n",
        "files.upload()"
      ],
      "execution_count": null,
      "outputs": [
        {
          "output_type": "display_data",
          "data": {
            "text/html": [
              "\n",
              "     <input type=\"file\" id=\"files-4b94888c-a940-4369-89e7-a069f199bba8\" name=\"files[]\" multiple disabled\n",
              "        style=\"border:none\" />\n",
              "     <output id=\"result-4b94888c-a940-4369-89e7-a069f199bba8\">\n",
              "      Upload widget is only available when the cell has been executed in the\n",
              "      current browser session. Please rerun this cell to enable.\n",
              "      </output>\n",
              "      <script src=\"/nbextensions/google.colab/files.js\"></script> "
            ],
            "text/plain": [
              "<IPython.core.display.HTML object>"
            ]
          },
          "metadata": {
            "tags": []
          }
        },
        {
          "output_type": "stream",
          "text": [
            "Saving cars.csv to cars.csv\n"
          ],
          "name": "stdout"
        },
        {
          "output_type": "execute_result",
          "data": {
            "text/plain": [
              "{'cars.csv': b'symboling,normalized-losses,make,fuel-type,body-style,drive-wheels,engine-location,width,height,engine-type,engine-size,horsepower,city-mpg,highway-mpg,price\\n3,?,alfa-romero,gas,convertible,rwd,front,64.1,48.8,dohc,130,111,21,27,13495\\n3,?,alfa-romero,gas,convertible,rwd,front,64.1,48.8,dohc,130,111,21,27,16500\\n1,?,alfa-romero,gas,hatchback,rwd,front,65.5,52.4,ohcv,152,154,19,26,16500\\n2,164,audi,gas,sedan,fwd,front,66.2,54.3,ohc,109,102,24,30,13950\\n2,164,audi,gas,sedan,4wd,front,66.4,54.3,ohc,136,115,18,22,17450\\n2,?,audi,gas,sedan,fwd,front,66.3,53.1,ohc,136,110,19,25,15250\\n1,158,audi,gas,sedan,fwd,front,71.4,55.7,ohc,136,110,19,25,17710\\n1,?,audi,gas,wagon,fwd,front,71.4,55.7,ohc,136,110,19,25,18920\\n1,158,audi,gas,sedan,fwd,front,71.4,55.9,ohc,131,140,17,20,23875\\n0,?,audi,gas,hatchback,4wd,front,67.9,52,ohc,131,160,16,22,12000\\n2,192,bmw,gas,sedan,rwd,front,64.8,54.3,ohc,108,101,23,29,16430\\n0,192,bmw,gas,sedan,rwd,front,64.8,54.3,ohc,108,101,23,29,16925\\n0,188,bmw,gas,sedan,rwd,front,64.8,54.3,ohc,164,121,21,28,20970\\n0,188,bmw,gas,sedan,rwd,front,64.8,54.3,ohc,164,121,21,28,21105\\n1,?,bmw,gas,sedan,rwd,front,66.9,55.7,ohc,164,121,20,25,24565\\n0,?,bmw,gas,sedan,rwd,front,66.9,55.7,ohc,209,182,16,22,30760\\n0,?,bmw,gas,sedan,rwd,front,67.9,53.7,ohc,209,182,16,22,41315\\n0,?,bmw,gas,sedan,rwd,front,70.9,56.3,ohc,209,182,15,20,36880\\n2,121,chevrolet,gas,hatchback,fwd,front,60.3,53.2,l,61,48,47,53,5151\\n1,98,chevrolet,gas,hatchback,fwd,front,63.6,52,ohc,90,70,38,43,6295\\n0,81,chevrolet,gas,sedan,fwd,front,63.6,52,ohc,90,70,38,43,6575\\n1,118,dodge,gas,hatchback,fwd,front,63.8,50.8,ohc,90,68,37,41,5572\\n1,118,dodge,gas,hatchback,fwd,front,63.8,50.8,ohc,90,68,31,38,6377\\n1,118,dodge,gas,hatchback,fwd,front,63.8,50.8,ohc,98,102,24,30,7957\\n1,148,dodge,gas,hatchback,fwd,front,63.8,50.6,ohc,90,68,31,38,6229\\n1,148,dodge,gas,sedan,fwd,front,63.8,50.6,ohc,90,68,31,38,6692\\n1,148,dodge,gas,sedan,fwd,front,63.8,50.6,ohc,90,68,31,38,7609\\n1,148,dodge,gas,sedan,fwd,front,63.8,50.6,ohc,98,102,24,30,8558\\n-1,110,dodge,gas,wagon,fwd,front,64.6,59.8,ohc,122,88,24,30,8921\\n3,145,dodge,gas,hatchback,fwd,front,66.3,50.2,ohc,156,145,19,24,12964\\n2,137,honda,gas,hatchback,fwd,front,63.9,50.8,ohc,92,58,49,54,6479\\n2,137,honda,gas,hatchback,fwd,front,63.9,50.8,ohc,92,76,31,38,6855\\n1,101,honda,gas,hatchback,fwd,front,64,52.6,ohc,79,60,38,42,5399\\n1,101,honda,gas,hatchback,fwd,front,64,52.6,ohc,92,76,30,34,6529\\n1,101,honda,gas,hatchback,fwd,front,64,52.6,ohc,92,76,30,34,7129\\n0,110,honda,gas,sedan,fwd,front,64,54.5,ohc,92,76,30,34,7295\\n0,78,honda,gas,wagon,fwd,front,63.9,58.3,ohc,92,76,30,34,7295\\n0,106,honda,gas,hatchback,fwd,front,65.2,53.3,ohc,110,86,27,33,7895\\n0,106,honda,gas,hatchback,fwd,front,65.2,53.3,ohc,110,86,27,33,9095\\n0,85,honda,gas,sedan,fwd,front,65.2,54.1,ohc,110,86,27,33,8845\\n0,85,honda,gas,sedan,fwd,front,62.5,54.1,ohc,110,86,27,33,10295\\n0,85,honda,gas,sedan,fwd,front,65.2,54.1,ohc,110,101,24,28,12945\\n1,107,honda,gas,sedan,fwd,front,66,51,ohc,110,100,25,31,10345\\n0,?,isuzu,gas,sedan,rwd,front,61.8,53.5,ohc,111,78,24,29,6785\\n1,?,isuzu,gas,sedan,fwd,front,63.6,52,ohc,90,70,38,43,10000\\n0,?,isuzu,gas,sedan,fwd,front,63.6,52,ohc,90,70,38,43,23000\\n2,?,isuzu,gas,hatchback,rwd,front,65.2,51.4,ohc,119,90,24,29,11048\\n0,145,jaguar,gas,sedan,rwd,front,69.6,52.8,dohc,258,176,15,19,32250\\n0,?,jaguar,gas,sedan,rwd,front,69.6,52.8,dohc,258,176,15,19,35550\\n0,?,jaguar,gas,sedan,rwd,front,70.6,47.8,ohcv,326,262,13,17,36000\\n1,104,mazda,gas,hatchback,fwd,front,64.2,54.1,ohc,91,68,30,31,5195\\n1,104,mazda,gas,hatchback,fwd,front,64.2,54.1,ohc,91,68,31,38,6095\\n1,104,mazda,gas,hatchback,fwd,front,64.2,54.1,ohc,91,68,31,38,6795\\n1,113,mazda,gas,sedan,fwd,front,64.2,54.1,ohc,91,68,31,38,6695\\n1,113,mazda,gas,sedan,fwd,front,64.2,54.1,ohc,91,68,31,38,7395\\n3,150,mazda,gas,hatchback,rwd,front,65.7,49.6,rotor,70,101,17,23,10945\\n3,150,mazda,gas,hatchback,rwd,front,65.7,49.6,rotor,70,101,17,23,11845\\n3,150,mazda,gas,hatchback,rwd,front,65.7,49.6,rotor,70,101,17,23,13645\\n3,150,mazda,gas,hatchback,rwd,front,65.7,49.6,rotor,80,135,16,23,15645\\n1,129,mazda,gas,hatchback,fwd,front,66.5,53.7,ohc,122,84,26,32,8845\\n0,115,mazda,gas,sedan,fwd,front,66.5,55.5,ohc,122,84,26,32,8495\\n1,129,mazda,gas,hatchback,fwd,front,66.5,53.7,ohc,122,84,26,32,10595\\n0,115,mazda,gas,sedan,fwd,front,66.5,55.5,ohc,122,84,26,32,10245\\n0,?,mazda,diesel,sedan,fwd,front,66.5,55.5,ohc,122,64,36,42,10795\\n0,115,mazda,gas,hatchback,fwd,front,66.5,55.5,ohc,122,84,26,32,11245\\n0,118,mazda,gas,sedan,rwd,front,66.1,54.4,ohc,140,120,19,27,18280\\n0,?,mazda,diesel,sedan,rwd,front,66.1,54.4,ohc,134,72,31,39,18344\\n-1,93,mercedes-benz,diesel,sedan,rwd,front,70.3,56.5,ohc,183,123,22,25,25552\\n-1,93,mercedes-benz,diesel,wagon,rwd,front,70.3,58.7,ohc,183,123,22,25,28248\\n0,93,mercedes-benz,diesel,hardtop,rwd,front,70.3,54.9,ohc,183,123,22,25,28176\\n-1,93,mercedes-benz,diesel,sedan,rwd,front,71.7,56.3,ohc,183,123,22,25,31600\\n-1,?,mercedes-benz,gas,sedan,rwd,front,71.7,56.5,ohcv,234,155,16,18,34184\\n3,142,mercedes-benz,gas,convertible,rwd,front,70.5,50.8,ohcv,234,155,16,18,35056\\n0,?,mercedes-benz,gas,sedan,rwd,front,71.7,56.7,ohcv,308,184,14,16,40960\\n1,?,mercedes-benz,gas,hardtop,rwd,front,72,55.4,ohcv,304,184,14,16,45400\\n1,?,mercury,gas,hatchback,rwd,front,68,54.8,ohc,140,175,19,24,16503\\n2,161,mitsubishi,gas,hatchback,fwd,front,64.4,50.8,ohc,92,68,37,41,5389\\n2,161,mitsubishi,gas,hatchback,fwd,front,64.4,50.8,ohc,92,68,31,38,6189\\n2,161,mitsubishi,gas,hatchback,fwd,front,64.4,50.8,ohc,92,68,31,38,6669\\n1,161,mitsubishi,gas,hatchback,fwd,front,63.8,50.8,ohc,98,102,24,30,7689\\n3,153,mitsubishi,gas,hatchback,fwd,front,65.4,49.4,ohc,110,116,23,30,9959\\n3,153,mitsubishi,gas,hatchback,fwd,front,65.4,49.4,ohc,122,88,25,32,8499\\n3,?,mitsubishi,gas,hatchback,fwd,front,66.3,50.2,ohc,156,145,19,24,12629\\n3,?,mitsubishi,gas,hatchback,fwd,front,66.3,50.2,ohc,156,145,19,24,14869\\n3,?,mitsubishi,gas,hatchback,fwd,front,66.3,50.2,ohc,156,145,19,24,14489\\n1,125,mitsubishi,gas,sedan,fwd,front,65.4,51.6,ohc,122,88,25,32,6989\\n1,125,mitsubishi,gas,sedan,fwd,front,65.4,51.6,ohc,122,88,25,32,8189\\n1,125,mitsubishi,gas,sedan,fwd,front,65.4,51.6,ohc,110,116,23,30,9279\\n-1,137,mitsubishi,gas,sedan,fwd,front,65.4,51.6,ohc,110,116,23,30,9279\\n1,128,nissan,gas,sedan,fwd,front,63.8,54.5,ohc,97,69,31,37,5499\\n1,128,nissan,diesel,sedan,fwd,front,63.8,54.5,ohc,103,55,45,50,7099\\n1,128,nissan,gas,sedan,fwd,front,63.8,54.5,ohc,97,69,31,37,6649\\n1,122,nissan,gas,sedan,fwd,front,63.8,54.5,ohc,97,69,31,37,6849\\n1,103,nissan,gas,wagon,fwd,front,63.8,53.5,ohc,97,69,31,37,7349\\n1,128,nissan,gas,sedan,fwd,front,63.8,54.5,ohc,97,69,31,37,7299\\n1,128,nissan,gas,hatchback,fwd,front,63.8,53.3,ohc,97,69,31,37,7799\\n1,122,nissan,gas,sedan,fwd,front,63.8,54.5,ohc,97,69,31,37,7499\\n1,103,nissan,gas,wagon,fwd,front,63.8,53.5,ohc,97,69,31,37,7999\\n2,168,nissan,gas,hardtop,fwd,front,63.8,53.3,ohc,97,69,31,37,8249\\n0,106,nissan,gas,hatchback,fwd,front,65.2,54.7,ohc,120,97,27,34,8949\\n0,106,nissan,gas,sedan,fwd,front,65.2,54.7,ohc,120,97,27,34,9549\\n0,128,nissan,gas,sedan,fwd,front,66.5,55.1,ohcv,181,152,17,22,13499\\n0,108,nissan,gas,wagon,fwd,front,66.5,56.1,ohcv,181,152,17,22,14399\\n0,108,nissan,gas,sedan,fwd,front,66.5,55.1,ohcv,181,152,19,25,13499\\n3,194,nissan,gas,hatchback,rwd,front,67.9,49.7,ohcv,181,160,19,25,17199\\n3,194,nissan,gas,hatchback,rwd,front,67.9,49.7,ohcv,181,200,17,23,19699\\n1,231,nissan,gas,hatchback,rwd,front,67.9,49.7,ohcv,181,160,19,25,18399\\n0,161,peugot,gas,sedan,rwd,front,68.4,56.7,l,120,97,19,24,11900\\n0,161,peugot,diesel,sedan,rwd,front,68.4,56.7,l,152,95,28,33,13200\\n0,?,peugot,gas,wagon,rwd,front,68.4,58.7,l,120,97,19,24,12440\\n0,?,peugot,diesel,wagon,rwd,front,68.4,58.7,l,152,95,25,25,13860\\n0,161,peugot,gas,sedan,rwd,front,68.4,56.7,l,120,95,19,24,15580\\n0,161,peugot,diesel,sedan,rwd,front,68.4,56.7,l,152,95,28,33,16900\\n0,?,peugot,gas,wagon,rwd,front,68.4,56.7,l,120,95,19,24,16695\\n0,?,peugot,diesel,wagon,rwd,front,68.4,58.7,l,152,95,25,25,17075\\n0,161,peugot,gas,sedan,rwd,front,68.4,56.7,l,120,97,19,24,16630\\n0,161,peugot,diesel,sedan,rwd,front,68.4,56.7,l,152,95,28,33,17950\\n0,161,peugot,gas,sedan,rwd,front,68.3,56,l,134,142,18,24,18150\\n1,119,plymouth,gas,hatchback,fwd,front,63.8,50.8,ohc,90,68,37,41,5572\\n1,119,plymouth,gas,hatchback,fwd,front,63.8,50.8,ohc,98,102,24,30,7957\\n1,154,plymouth,gas,hatchback,fwd,front,63.8,50.6,ohc,90,68,31,38,6229\\n1,154,plymouth,gas,sedan,fwd,front,63.8,50.8,ohc,90,68,31,38,6692\\n1,154,plymouth,gas,sedan,fwd,front,63.8,50.8,ohc,98,68,31,38,7609\\n-1,74,plymouth,gas,wagon,fwd,front,64.6,59.8,ohc,122,88,24,30,8921\\n3,?,plymouth,gas,hatchback,rwd,front,66.3,50.2,ohc,156,145,19,24,12764\\n3,186,porsche,gas,hatchback,rwd,front,68.3,50.2,ohc,151,143,19,27,22018\\n3,?,porsche,gas,hardtop,rwd,rear,65,51.6,ohcf,194,207,17,25,32528\\n3,?,porsche,gas,hardtop,rwd,rear,65,51.6,ohcf,194,207,17,25,34028\\n3,?,porsche,gas,convertible,rwd,rear,65,51.6,ohcf,194,207,17,25,37028\\n1,?,porsche,gas,hatchback,rwd,front,72.3,50.5,dohcv,203,288,17,28,12000\\n0,?,renault,gas,wagon,fwd,front,66.5,55.2,ohc,132,?,23,31,9295\\n2,?,renault,gas,hatchback,fwd,front,66.6,50.5,ohc,132,?,23,31,9895\\n3,150,saab,gas,hatchback,fwd,front,66.5,56.1,ohc,121,110,21,28,11850\\n2,104,saab,gas,sedan,fwd,front,66.5,56.1,ohc,121,110,21,28,12170\\n3,150,saab,gas,hatchback,fwd,front,66.5,56.1,ohc,121,110,21,28,15040\\n2,104,saab,gas,sedan,fwd,front,66.5,56.1,ohc,121,110,21,28,15510\\n3,150,saab,gas,hatchback,fwd,front,66.5,56.1,dohc,121,160,19,26,18150\\n2,104,saab,gas,sedan,fwd,front,66.5,56.1,dohc,121,160,19,26,18620\\n2,83,subaru,gas,hatchback,fwd,front,63.4,53.7,ohcf,97,69,31,36,5118\\n2,83,subaru,gas,hatchback,fwd,front,63.6,53.7,ohcf,108,73,26,31,7053\\n2,83,subaru,gas,hatchback,4wd,front,63.8,55.7,ohcf,108,73,26,31,7603\\n0,102,subaru,gas,sedan,fwd,front,65.4,52.5,ohcf,108,82,32,37,7126\\n0,102,subaru,gas,sedan,fwd,front,65.4,52.5,ohcf,108,82,28,33,7775\\n0,102,subaru,gas,sedan,fwd,front,65.4,52.5,ohcf,108,94,26,32,9960\\n0,102,subaru,gas,sedan,4wd,front,65.4,54.3,ohcf,108,82,24,25,9233\\n0,102,subaru,gas,sedan,4wd,front,65.4,54.3,ohcf,108,111,24,29,11259\\n0,89,subaru,gas,wagon,fwd,front,65.4,53,ohcf,108,82,28,32,7463\\n0,89,subaru,gas,wagon,fwd,front,65.4,53,ohcf,108,94,25,31,10198\\n0,85,subaru,gas,wagon,4wd,front,65.4,54.9,ohcf,108,82,23,29,8013\\n0,85,subaru,gas,wagon,4wd,front,65.4,54.9,ohcf,108,111,23,23,11694\\n1,87,toyota,gas,hatchback,fwd,front,63.6,54.5,ohc,92,62,35,39,5348\\n1,87,toyota,gas,hatchback,fwd,front,63.6,54.5,ohc,92,62,31,38,6338\\n1,74,toyota,gas,hatchback,fwd,front,63.6,54.5,ohc,92,62,31,38,6488\\n0,77,toyota,gas,wagon,fwd,front,63.6,59.1,ohc,92,62,31,37,6918\\n0,81,toyota,gas,wagon,4wd,front,63.6,59.1,ohc,92,62,27,32,7898\\n0,91,toyota,gas,wagon,4wd,front,63.6,59.1,ohc,92,62,27,32,8778\\n0,91,toyota,gas,sedan,fwd,front,64.4,53,ohc,98,70,30,37,6938\\n0,91,toyota,gas,hatchback,fwd,front,64.4,52.8,ohc,98,70,30,37,7198\\n0,91,toyota,diesel,sedan,fwd,front,64.4,53,ohc,110,56,34,36,7898\\n0,91,toyota,diesel,hatchback,fwd,front,64.4,52.8,ohc,110,56,38,47,7788\\n0,91,toyota,gas,sedan,fwd,front,64.4,53,ohc,98,70,38,47,7738\\n0,91,toyota,gas,hatchback,fwd,front,64.4,52.8,ohc,98,70,28,34,8358\\n0,91,toyota,gas,sedan,fwd,front,64.4,52.8,ohc,98,70,28,34,9258\\n1,168,toyota,gas,sedan,rwd,front,64,52.6,ohc,98,70,29,34,8058\\n1,168,toyota,gas,hatchback,rwd,front,64,52.6,ohc,98,70,29,34,8238\\n1,168,toyota,gas,sedan,rwd,front,64,52.6,dohc,98,112,26,29,9298\\n1,168,toyota,gas,hatchback,rwd,front,64,52.6,dohc,98,112,26,29,9538\\n2,134,toyota,gas,hardtop,rwd,front,65.6,52,ohc,146,116,24,30,8449\\n2,134,toyota,gas,hardtop,rwd,front,65.6,52,ohc,146,116,24,30,9639\\n2,134,toyota,gas,hatchback,rwd,front,65.6,52,ohc,146,116,24,30,9989\\n2,134,toyota,gas,hardtop,rwd,front,65.6,52,ohc,146,116,24,30,11199\\n2,134,toyota,gas,hatchback,rwd,front,65.6,52,ohc,146,116,24,30,11549\\n2,134,toyota,gas,convertible,rwd,front,65.6,53,ohc,146,116,24,30,17669\\n-1,65,toyota,gas,sedan,fwd,front,66.5,54.9,ohc,122,92,29,34,8948\\n-1,65,toyota,diesel,sedan,fwd,front,66.5,54.9,ohc,110,73,30,33,10698\\n-1,65,toyota,gas,hatchback,fwd,front,66.5,53.9,ohc,122,92,27,32,9988\\n-1,65,toyota,gas,sedan,fwd,front,66.5,54.9,ohc,122,92,27,32,10898\\n-1,65,toyota,gas,hatchback,fwd,front,66.5,53.9,ohc,122,92,27,32,11248\\n3,197,toyota,gas,hatchback,rwd,front,67.7,52,dohc,171,161,20,24,16558\\n3,197,toyota,gas,hatchback,rwd,front,67.7,52,dohc,171,161,19,24,15998\\n-1,90,toyota,gas,sedan,rwd,front,66.5,54.1,dohc,171,156,20,24,15690\\n-1,?,toyota,gas,wagon,rwd,front,66.5,54.1,dohc,161,156,19,24,15750\\n2,122,volkswagen,diesel,sedan,fwd,front,65.5,55.7,ohc,97,52,37,46,7775\\n2,122,volkswagen,gas,sedan,fwd,front,65.5,55.7,ohc,109,85,27,34,7975\\n2,94,volkswagen,diesel,sedan,fwd,front,65.5,55.7,ohc,97,52,37,46,7995\\n2,94,volkswagen,gas,sedan,fwd,front,65.5,55.7,ohc,109,85,27,34,8195\\n2,94,volkswagen,gas,sedan,fwd,front,65.5,55.7,ohc,109,85,27,34,8495\\n2,94,volkswagen,diesel,sedan,fwd,front,65.5,55.7,ohc,97,68,37,42,9495\\n2,94,volkswagen,gas,sedan,fwd,front,65.5,55.7,ohc,109,100,26,32,9995\\n3,?,volkswagen,gas,convertible,fwd,front,64.2,55.6,ohc,109,90,24,29,11595\\n3,256,volkswagen,gas,hatchback,fwd,front,64,51.4,ohc,109,90,24,29,9980\\n0,?,volkswagen,gas,sedan,fwd,front,66.9,55.1,ohc,136,110,19,24,13295\\n0,?,volkswagen,diesel,sedan,fwd,front,66.9,55.1,ohc,97,68,33,38,13845\\n0,?,volkswagen,gas,wagon,fwd,front,66.9,55.1,ohc,109,88,25,31,12290\\n-2,103,volvo,gas,sedan,rwd,front,67.2,56.2,ohc,141,114,23,28,12940\\n-1,74,volvo,gas,wagon,rwd,front,67.2,57.5,ohc,141,114,23,28,13415\\n-2,103,volvo,gas,sedan,rwd,front,67.2,56.2,ohc,141,114,24,28,15985\\n-1,74,volvo,gas,wagon,rwd,front,67.2,57.5,ohc,141,114,24,28,16515\\n-2,103,volvo,gas,sedan,rwd,front,67.2,56.2,ohc,130,162,17,22,18420\\n-1,74,volvo,gas,wagon,rwd,front,67.2,57.5,ohc,130,162,17,22,18950\\n-1,95,volvo,gas,sedan,rwd,front,68.9,55.5,ohc,141,114,23,28,16845\\n-1,95,volvo,gas,sedan,rwd,front,68.8,55.5,ohc,141,160,19,25,19045\\n-1,95,volvo,gas,sedan,rwd,front,68.9,55.5,ohcv,173,134,18,23,21485\\n-1,95,volvo,diesel,sedan,rwd,front,68.9,55.5,ohc,145,106,26,27,22470\\n-1,95,volvo,gas,sedan,rwd,front,68.9,55.5,ohc,141,114,19,25,22625\\n'}"
            ]
          },
          "metadata": {
            "tags": []
          },
          "execution_count": 1
        }
      ]
    },
    {
      "cell_type": "code",
      "metadata": {
        "id": "Sy6yFSTt6Gyq"
      },
      "source": [
        "df = pd.read_csv(\"cars.csv\")"
      ],
      "execution_count": null,
      "outputs": []
    },
    {
      "cell_type": "code",
      "metadata": {
        "id": "WS8hmauY6UgT",
        "colab": {
          "base_uri": "https://localhost:8080/",
          "height": 272
        },
        "outputId": "3e608240-ce2d-4f26-8578-21683dd614ad"
      },
      "source": [
        "df.head()"
      ],
      "execution_count": null,
      "outputs": [
        {
          "output_type": "execute_result",
          "data": {
            "text/html": [
              "<div>\n",
              "<style scoped>\n",
              "    .dataframe tbody tr th:only-of-type {\n",
              "        vertical-align: middle;\n",
              "    }\n",
              "\n",
              "    .dataframe tbody tr th {\n",
              "        vertical-align: top;\n",
              "    }\n",
              "\n",
              "    .dataframe thead th {\n",
              "        text-align: right;\n",
              "    }\n",
              "</style>\n",
              "<table border=\"1\" class=\"dataframe\">\n",
              "  <thead>\n",
              "    <tr style=\"text-align: right;\">\n",
              "      <th></th>\n",
              "      <th>symboling</th>\n",
              "      <th>normalized-losses</th>\n",
              "      <th>make</th>\n",
              "      <th>fuel-type</th>\n",
              "      <th>body-style</th>\n",
              "      <th>drive-wheels</th>\n",
              "      <th>engine-location</th>\n",
              "      <th>width</th>\n",
              "      <th>height</th>\n",
              "      <th>engine-type</th>\n",
              "      <th>engine-size</th>\n",
              "      <th>horsepower</th>\n",
              "      <th>city-mpg</th>\n",
              "      <th>highway-mpg</th>\n",
              "      <th>price</th>\n",
              "    </tr>\n",
              "  </thead>\n",
              "  <tbody>\n",
              "    <tr>\n",
              "      <th>0</th>\n",
              "      <td>3</td>\n",
              "      <td>?</td>\n",
              "      <td>alfa-romero</td>\n",
              "      <td>gas</td>\n",
              "      <td>convertible</td>\n",
              "      <td>rwd</td>\n",
              "      <td>front</td>\n",
              "      <td>64.1</td>\n",
              "      <td>48.8</td>\n",
              "      <td>dohc</td>\n",
              "      <td>130</td>\n",
              "      <td>111</td>\n",
              "      <td>21</td>\n",
              "      <td>27</td>\n",
              "      <td>13495</td>\n",
              "    </tr>\n",
              "    <tr>\n",
              "      <th>1</th>\n",
              "      <td>3</td>\n",
              "      <td>?</td>\n",
              "      <td>alfa-romero</td>\n",
              "      <td>gas</td>\n",
              "      <td>convertible</td>\n",
              "      <td>rwd</td>\n",
              "      <td>front</td>\n",
              "      <td>64.1</td>\n",
              "      <td>48.8</td>\n",
              "      <td>dohc</td>\n",
              "      <td>130</td>\n",
              "      <td>111</td>\n",
              "      <td>21</td>\n",
              "      <td>27</td>\n",
              "      <td>16500</td>\n",
              "    </tr>\n",
              "    <tr>\n",
              "      <th>2</th>\n",
              "      <td>1</td>\n",
              "      <td>?</td>\n",
              "      <td>alfa-romero</td>\n",
              "      <td>gas</td>\n",
              "      <td>hatchback</td>\n",
              "      <td>rwd</td>\n",
              "      <td>front</td>\n",
              "      <td>65.5</td>\n",
              "      <td>52.4</td>\n",
              "      <td>ohcv</td>\n",
              "      <td>152</td>\n",
              "      <td>154</td>\n",
              "      <td>19</td>\n",
              "      <td>26</td>\n",
              "      <td>16500</td>\n",
              "    </tr>\n",
              "    <tr>\n",
              "      <th>3</th>\n",
              "      <td>2</td>\n",
              "      <td>164</td>\n",
              "      <td>audi</td>\n",
              "      <td>gas</td>\n",
              "      <td>sedan</td>\n",
              "      <td>fwd</td>\n",
              "      <td>front</td>\n",
              "      <td>66.2</td>\n",
              "      <td>54.3</td>\n",
              "      <td>ohc</td>\n",
              "      <td>109</td>\n",
              "      <td>102</td>\n",
              "      <td>24</td>\n",
              "      <td>30</td>\n",
              "      <td>13950</td>\n",
              "    </tr>\n",
              "    <tr>\n",
              "      <th>4</th>\n",
              "      <td>2</td>\n",
              "      <td>164</td>\n",
              "      <td>audi</td>\n",
              "      <td>gas</td>\n",
              "      <td>sedan</td>\n",
              "      <td>4wd</td>\n",
              "      <td>front</td>\n",
              "      <td>66.4</td>\n",
              "      <td>54.3</td>\n",
              "      <td>ohc</td>\n",
              "      <td>136</td>\n",
              "      <td>115</td>\n",
              "      <td>18</td>\n",
              "      <td>22</td>\n",
              "      <td>17450</td>\n",
              "    </tr>\n",
              "  </tbody>\n",
              "</table>\n",
              "</div>"
            ],
            "text/plain": [
              "   symboling normalized-losses         make  ... city-mpg highway-mpg  price\n",
              "0          3                 ?  alfa-romero  ...       21          27  13495\n",
              "1          3                 ?  alfa-romero  ...       21          27  16500\n",
              "2          1                 ?  alfa-romero  ...       19          26  16500\n",
              "3          2               164         audi  ...       24          30  13950\n",
              "4          2               164         audi  ...       18          22  17450\n",
              "\n",
              "[5 rows x 15 columns]"
            ]
          },
          "metadata": {
            "tags": []
          },
          "execution_count": 17
        }
      ]
    },
    {
      "cell_type": "code",
      "metadata": {
        "id": "RU2lvel16VSr"
      },
      "source": [
        "import tensorflow as tf"
      ],
      "execution_count": null,
      "outputs": []
    },
    {
      "cell_type": "code",
      "metadata": {
        "id": "-RzDmATynFZ9",
        "colab": {
          "base_uri": "https://localhost:8080/",
          "height": 34
        },
        "outputId": "8b405cd9-b05f-4281-8d24-c23e1afe95aa"
      },
      "source": [
        "print(tf.__version__)"
      ],
      "execution_count": null,
      "outputs": [
        {
          "output_type": "stream",
          "text": [
            "2.2.0\n"
          ],
          "name": "stdout"
        }
      ]
    },
    {
      "cell_type": "code",
      "metadata": {
        "id": "FQ48KxwZnMjb"
      },
      "source": [
        "c1 = tf.constant(3)\n",
        "c2 = tf.constant([10,20])\n",
        "c3 = tf.constant([[10,20],[30,40]])"
      ],
      "execution_count": null,
      "outputs": []
    },
    {
      "cell_type": "code",
      "metadata": {
        "id": "bd8vpt48n1Js",
        "colab": {
          "base_uri": "https://localhost:8080/",
          "height": 34
        },
        "outputId": "46fc7c59-0546-40b2-a5c0-3b560abaeb5f"
      },
      "source": [
        "c1"
      ],
      "execution_count": null,
      "outputs": [
        {
          "output_type": "execute_result",
          "data": {
            "text/plain": [
              "<tf.Tensor: shape=(), dtype=int32, numpy=3>"
            ]
          },
          "metadata": {
            "tags": []
          },
          "execution_count": 69
        }
      ]
    },
    {
      "cell_type": "code",
      "metadata": {
        "id": "5S0PdxFE0wSI",
        "colab": {
          "base_uri": "https://localhost:8080/",
          "height": 34
        },
        "outputId": "45624257-f6eb-4470-fe85-d6ea64148291"
      },
      "source": [
        "id(c1)"
      ],
      "execution_count": null,
      "outputs": [
        {
          "output_type": "execute_result",
          "data": {
            "text/plain": [
              "140234806063344"
            ]
          },
          "metadata": {
            "tags": []
          },
          "execution_count": 46
        }
      ]
    },
    {
      "cell_type": "code",
      "metadata": {
        "id": "P-b4pqtJn16q",
        "colab": {
          "base_uri": "https://localhost:8080/",
          "height": 34
        },
        "outputId": "47c83303-5f35-4b2f-8eac-6d506645e58b"
      },
      "source": [
        "c2"
      ],
      "execution_count": null,
      "outputs": [
        {
          "output_type": "execute_result",
          "data": {
            "text/plain": [
              "<tf.Tensor: shape=(2,), dtype=int32, numpy=array([10, 20], dtype=int32)>"
            ]
          },
          "metadata": {
            "tags": []
          },
          "execution_count": 22
        }
      ]
    },
    {
      "cell_type": "code",
      "metadata": {
        "id": "iKZHUr6tn4C9",
        "colab": {
          "base_uri": "https://localhost:8080/",
          "height": 68
        },
        "outputId": "c58f0da4-dee9-45c0-92da-c9ac837d565b"
      },
      "source": [
        "c3"
      ],
      "execution_count": null,
      "outputs": [
        {
          "output_type": "execute_result",
          "data": {
            "text/plain": [
              "<tf.Tensor: shape=(2, 2), dtype=int32, numpy=\n",
              "array([[10, 20],\n",
              "       [30, 40]], dtype=int32)>"
            ]
          },
          "metadata": {
            "tags": []
          },
          "execution_count": 23
        }
      ]
    },
    {
      "cell_type": "code",
      "metadata": {
        "id": "QB2uaYh8x0ru",
        "colab": {
          "base_uri": "https://localhost:8080/",
          "height": 34
        },
        "outputId": "229d5361-62fe-4852-848e-bf53b1cd593c"
      },
      "source": [
        "print(c1.numpy())"
      ],
      "execution_count": null,
      "outputs": [
        {
          "output_type": "stream",
          "text": [
            "3\n"
          ],
          "name": "stdout"
        }
      ]
    },
    {
      "cell_type": "code",
      "metadata": {
        "id": "RGP9Tvrgx0y5",
        "colab": {
          "base_uri": "https://localhost:8080/",
          "height": 34
        },
        "outputId": "bfc34c79-fe8a-4e33-cd63-f2889be3988c"
      },
      "source": [
        "print(c2.numpy())"
      ],
      "execution_count": null,
      "outputs": [
        {
          "output_type": "stream",
          "text": [
            "[10 20]\n"
          ],
          "name": "stdout"
        }
      ]
    },
    {
      "cell_type": "code",
      "metadata": {
        "id": "9bYaPsBjyLV4",
        "colab": {
          "base_uri": "https://localhost:8080/",
          "height": 51
        },
        "outputId": "23ca7ec6-2ee0-4857-b546-58f4817911f1"
      },
      "source": [
        "print(c3.numpy())"
      ],
      "execution_count": null,
      "outputs": [
        {
          "output_type": "stream",
          "text": [
            "[[10 20]\n",
            " [30 40]]\n"
          ],
          "name": "stdout"
        }
      ]
    },
    {
      "cell_type": "code",
      "metadata": {
        "id": "my8eHQCcqSLo"
      },
      "source": [
        "c1 = c1 + 2"
      ],
      "execution_count": null,
      "outputs": []
    },
    {
      "cell_type": "code",
      "metadata": {
        "id": "M5QrrZVK0lff",
        "colab": {
          "base_uri": "https://localhost:8080/",
          "height": 34
        },
        "outputId": "f46d16b4-6e28-40e1-8d8d-567e9d1a6d97"
      },
      "source": [
        "c1"
      ],
      "execution_count": null,
      "outputs": [
        {
          "output_type": "execute_result",
          "data": {
            "text/plain": [
              "<tf.Tensor: shape=(), dtype=int32, numpy=5>"
            ]
          },
          "metadata": {
            "tags": []
          },
          "execution_count": 71
        }
      ]
    },
    {
      "cell_type": "code",
      "metadata": {
        "id": "nHUMmAps0nW9",
        "colab": {
          "base_uri": "https://localhost:8080/",
          "height": 34
        },
        "outputId": "a4b0d5cb-2000-4710-ff8a-e16f6eddf54e"
      },
      "source": [
        "type(c1)"
      ],
      "execution_count": null,
      "outputs": [
        {
          "output_type": "execute_result",
          "data": {
            "text/plain": [
              "int"
            ]
          },
          "metadata": {
            "tags": []
          },
          "execution_count": 57
        }
      ]
    },
    {
      "cell_type": "code",
      "metadata": {
        "id": "LAYTiA1V0snV",
        "colab": {
          "base_uri": "https://localhost:8080/",
          "height": 34
        },
        "outputId": "96c8a448-562a-4a8d-f7fd-e503ec74663e"
      },
      "source": [
        "v1 = tf.Variable(4)\n",
        "v1"
      ],
      "execution_count": null,
      "outputs": [
        {
          "output_type": "execute_result",
          "data": {
            "text/plain": [
              "<tf.Variable 'Variable:0' shape=() dtype=int32, numpy=4>"
            ]
          },
          "metadata": {
            "tags": []
          },
          "execution_count": 41
        }
      ]
    },
    {
      "cell_type": "code",
      "metadata": {
        "id": "75Gj2mJ906r5",
        "colab": {
          "base_uri": "https://localhost:8080/",
          "height": 34
        },
        "outputId": "702c895c-cd7a-41a3-c135-1a1548f69313"
      },
      "source": [
        "v1 = v1 + 1\n",
        "id(v1)"
      ],
      "execution_count": null,
      "outputs": [
        {
          "output_type": "execute_result",
          "data": {
            "text/plain": [
              "140234810033880"
            ]
          },
          "metadata": {
            "tags": []
          },
          "execution_count": 40
        }
      ]
    },
    {
      "cell_type": "code",
      "metadata": {
        "id": "RcFjNN7D0-0k",
        "colab": {
          "base_uri": "https://localhost:8080/",
          "height": 163
        },
        "outputId": "f1b71960-3956-4687-a7db-1d8173b4ee54"
      },
      "source": [
        "c1.numpy()"
      ],
      "execution_count": null,
      "outputs": [
        {
          "output_type": "error",
          "ename": "AttributeError",
          "evalue": "ignored",
          "traceback": [
            "\u001b[0;31m---------------------------------------------------------------------------\u001b[0m",
            "\u001b[0;31mAttributeError\u001b[0m                            Traceback (most recent call last)",
            "\u001b[0;32m<ipython-input-58-cc59d30bab6c>\u001b[0m in \u001b[0;36m<module>\u001b[0;34m()\u001b[0m\n\u001b[0;32m----> 1\u001b[0;31m \u001b[0mc1\u001b[0m\u001b[0;34m.\u001b[0m\u001b[0mnumpy\u001b[0m\u001b[0;34m(\u001b[0m\u001b[0;34m)\u001b[0m\u001b[0;34m\u001b[0m\u001b[0;34m\u001b[0m\u001b[0m\n\u001b[0m",
            "\u001b[0;31mAttributeError\u001b[0m: 'int' object has no attribute 'numpy'"
          ]
        }
      ]
    },
    {
      "cell_type": "code",
      "metadata": {
        "id": "RKUEvIEj3Z2N",
        "colab": {
          "base_uri": "https://localhost:8080/",
          "height": 34
        },
        "outputId": "19432757-9983-4af9-f819-685d0cef5d13"
      },
      "source": [
        "type(c1)"
      ],
      "execution_count": null,
      "outputs": [
        {
          "output_type": "execute_result",
          "data": {
            "text/plain": [
              "tensorflow.python.framework.ops.EagerTensor"
            ]
          },
          "metadata": {
            "tags": []
          },
          "execution_count": 65
        }
      ]
    },
    {
      "cell_type": "code",
      "metadata": {
        "id": "aqxF-EFJ4TUV"
      },
      "source": [
        "c1 = 5"
      ],
      "execution_count": null,
      "outputs": []
    },
    {
      "cell_type": "code",
      "metadata": {
        "id": "DjyWJ_Jk4WfD"
      },
      "source": [
        "c1 = tf.constant(3)"
      ],
      "execution_count": null,
      "outputs": []
    },
    {
      "cell_type": "code",
      "metadata": {
        "id": "k1qmChoO5Dmc",
        "colab": {
          "base_uri": "https://localhost:8080/",
          "height": 34
        },
        "outputId": "61d1f204-9970-466d-a561-bfdb751254ae"
      },
      "source": [
        "c1"
      ],
      "execution_count": null,
      "outputs": [
        {
          "output_type": "execute_result",
          "data": {
            "text/plain": [
              "<tf.Tensor: shape=(), dtype=int32, numpy=3>"
            ]
          },
          "metadata": {
            "tags": []
          },
          "execution_count": 77
        }
      ]
    },
    {
      "cell_type": "code",
      "metadata": {
        "id": "NgeKI51h5ErW",
        "colab": {
          "base_uri": "https://localhost:8080/",
          "height": 34
        },
        "outputId": "ba508cf4-ad5e-424f-b487-136ac47eeb0e"
      },
      "source": [
        "type(c1)"
      ],
      "execution_count": null,
      "outputs": [
        {
          "output_type": "execute_result",
          "data": {
            "text/plain": [
              "tensorflow.python.framework.ops.EagerTensor"
            ]
          },
          "metadata": {
            "tags": []
          },
          "execution_count": 78
        }
      ]
    },
    {
      "cell_type": "code",
      "metadata": {
        "id": "ld1efbgy5Fy5"
      },
      "source": [
        "c1 = 4"
      ],
      "execution_count": null,
      "outputs": []
    },
    {
      "cell_type": "code",
      "metadata": {
        "id": "LL0jr_--5Ixr",
        "colab": {
          "base_uri": "https://localhost:8080/",
          "height": 34
        },
        "outputId": "cd9103da-b01f-4879-dcc9-05e3b297d96e"
      },
      "source": [
        "type(c1)"
      ],
      "execution_count": null,
      "outputs": [
        {
          "output_type": "execute_result",
          "data": {
            "text/plain": [
              "int"
            ]
          },
          "metadata": {
            "tags": []
          },
          "execution_count": 80
        }
      ]
    },
    {
      "cell_type": "code",
      "metadata": {
        "id": "6g2md8lG5KUZ"
      },
      "source": [
        "c1 = tf.constant(3)"
      ],
      "execution_count": null,
      "outputs": []
    },
    {
      "cell_type": "code",
      "metadata": {
        "id": "cDzIiJpY6O6j",
        "colab": {
          "base_uri": "https://localhost:8080/",
          "height": 34
        },
        "outputId": "198c2bfc-4176-46f2-9e0a-bb6605b20515"
      },
      "source": [
        "c1"
      ],
      "execution_count": null,
      "outputs": [
        {
          "output_type": "execute_result",
          "data": {
            "text/plain": [
              "<tf.Tensor: shape=(), dtype=int32, numpy=3>"
            ]
          },
          "metadata": {
            "tags": []
          },
          "execution_count": 82
        }
      ]
    },
    {
      "cell_type": "code",
      "metadata": {
        "id": "-hdzyTTm6PlI"
      },
      "source": [
        "c1 = c1 + 4"
      ],
      "execution_count": null,
      "outputs": []
    },
    {
      "cell_type": "code",
      "metadata": {
        "id": "ZCCWMgas6R1D",
        "colab": {
          "base_uri": "https://localhost:8080/",
          "height": 34
        },
        "outputId": "d595095a-db77-4b9d-800a-514d9c620aef"
      },
      "source": [
        "c1"
      ],
      "execution_count": null,
      "outputs": [
        {
          "output_type": "execute_result",
          "data": {
            "text/plain": [
              "<tf.Tensor: shape=(), dtype=int32, numpy=7>"
            ]
          },
          "metadata": {
            "tags": []
          },
          "execution_count": 84
        }
      ]
    },
    {
      "cell_type": "code",
      "metadata": {
        "id": "AEQPfL8Z6Sjg"
      },
      "source": [
        "v1 = tf.Variable(2)\n",
        "v2 = tf.Variable([10,20,])\n",
        "v3 = tf.Variable([[10,20],[30,40]])"
      ],
      "execution_count": null,
      "outputs": []
    },
    {
      "cell_type": "code",
      "metadata": {
        "id": "uDgQYBCb7WQh",
        "colab": {
          "base_uri": "https://localhost:8080/",
          "height": 34
        },
        "outputId": "d857bf14-84a1-4905-fb60-8cc176c5c968"
      },
      "source": [
        "v1"
      ],
      "execution_count": null,
      "outputs": [
        {
          "output_type": "execute_result",
          "data": {
            "text/plain": [
              "<tf.Variable 'Variable:0' shape=() dtype=int32, numpy=2>"
            ]
          },
          "metadata": {
            "tags": []
          },
          "execution_count": 87
        }
      ]
    },
    {
      "cell_type": "code",
      "metadata": {
        "id": "hD7SwPYm7jCV",
        "colab": {
          "base_uri": "https://localhost:8080/",
          "height": 34
        },
        "outputId": "11a345f3-5b2e-4559-84c4-4348a72c7832"
      },
      "source": [
        "type(v1)"
      ],
      "execution_count": null,
      "outputs": [
        {
          "output_type": "execute_result",
          "data": {
            "text/plain": [
              "tensorflow.python.ops.resource_variable_ops.ResourceVariable"
            ]
          },
          "metadata": {
            "tags": []
          },
          "execution_count": 88
        }
      ]
    },
    {
      "cell_type": "code",
      "metadata": {
        "id": "aFnVKXdT7lE5",
        "colab": {
          "base_uri": "https://localhost:8080/",
          "height": 34
        },
        "outputId": "a199b53c-7468-4422-b83b-7f39c1059b17"
      },
      "source": [
        "v1.assign(4)"
      ],
      "execution_count": null,
      "outputs": [
        {
          "output_type": "execute_result",
          "data": {
            "text/plain": [
              "<tf.Variable 'UnreadVariable' shape=() dtype=int32, numpy=4>"
            ]
          },
          "metadata": {
            "tags": []
          },
          "execution_count": 95
        }
      ]
    },
    {
      "cell_type": "code",
      "metadata": {
        "id": "qOFr1w2q73Tw",
        "colab": {
          "base_uri": "https://localhost:8080/",
          "height": 34
        },
        "outputId": "901be01c-7ad7-4b91-e011-601864202baa"
      },
      "source": [
        "v1"
      ],
      "execution_count": null,
      "outputs": [
        {
          "output_type": "execute_result",
          "data": {
            "text/plain": [
              "<tf.Variable 'Variable:0' shape=() dtype=int32, numpy=2>"
            ]
          },
          "metadata": {
            "tags": []
          },
          "execution_count": 94
        }
      ]
    },
    {
      "cell_type": "code",
      "metadata": {
        "id": "8N9HGPR876Ut",
        "colab": {
          "base_uri": "https://localhost:8080/",
          "height": 34
        },
        "outputId": "ad31cee0-5e69-4fda-e985-61e9dfe7e68e"
      },
      "source": [
        "type(v1)"
      ],
      "execution_count": null,
      "outputs": [
        {
          "output_type": "execute_result",
          "data": {
            "text/plain": [
              "tensorflow.python.ops.resource_variable_ops.ResourceVariable"
            ]
          },
          "metadata": {
            "tags": []
          },
          "execution_count": 97
        }
      ]
    },
    {
      "cell_type": "code",
      "metadata": {
        "id": "wK3DEx5h-7ld",
        "colab": {
          "base_uri": "https://localhost:8080/",
          "height": 34
        },
        "outputId": "cd7dd039-9393-4a64-8e92-cff51f2b332d"
      },
      "source": [
        "v1.assign(4)"
      ],
      "execution_count": null,
      "outputs": [
        {
          "output_type": "execute_result",
          "data": {
            "text/plain": [
              "<tf.Variable 'UnreadVariable' shape=() dtype=int32, numpy=4>"
            ]
          },
          "metadata": {
            "tags": []
          },
          "execution_count": 98
        }
      ]
    },
    {
      "cell_type": "code",
      "metadata": {
        "id": "sVYSULwd_Bcn",
        "colab": {
          "base_uri": "https://localhost:8080/",
          "height": 34
        },
        "outputId": "6748ea53-291a-4cc4-f8f0-a53c7a0cfca7"
      },
      "source": [
        "v1"
      ],
      "execution_count": null,
      "outputs": [
        {
          "output_type": "execute_result",
          "data": {
            "text/plain": [
              "<tf.Variable 'Variable:0' shape=() dtype=int32, numpy=4>"
            ]
          },
          "metadata": {
            "tags": []
          },
          "execution_count": 99
        }
      ]
    },
    {
      "cell_type": "code",
      "metadata": {
        "id": "_3oyca0R_CIZ"
      },
      "source": [
        ""
      ],
      "execution_count": null,
      "outputs": []
    }
  ]
}