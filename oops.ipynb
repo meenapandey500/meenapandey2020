{
 "cells": [
  {
   "cell_type": "code",
   "execution_count": 2,
   "metadata": {},
   "outputs": [
    {
     "name": "stdout",
     "output_type": "stream",
     "text": [
      "Rollno.  110\n",
      "Name : anu agrawal\n",
      "Age :  23\n",
      "Rollno.  110\n",
      "Name : anu agrawal\n",
      "Age :  23\n",
      "rollno. :  110\n",
      "The history saving thread hit an unexpected error (OperationalError('database or disk is full')).History will not be written to the database.\n"
     ]
    }
   ],
   "source": [
    "#create the class\n",
    "class student:  #student class name\n",
    "    rno=110\n",
    "    name=\"anu agrawal\"\n",
    "    age=23 \n",
    "    #here rno,name and age are global variable of class\n",
    "#main program\n",
    "#create object of class\n",
    "s1=student()\n",
    "print(\"Rollno. \" ,s1.rno)\n",
    "print(\"Name :\",s1.name)\n",
    "print(\"Age : \",s1.age)\n",
    "\n",
    "#create object of student\n",
    "s2=student()\n",
    "print(\"Rollno. \" ,s2.rno)\n",
    "print(\"Name :\",s2.name)\n",
    "print(\"Age : \",s2.age)\n",
    "print(\"rollno. : \",student.rno)"
   ]
  },
  {
   "cell_type": "code",
   "execution_count": 13,
   "metadata": {},
   "outputs": [
    {
     "name": "stdout",
     "output_type": "stream",
     "text": [
      "Enter Rollno. : 110\n",
      "Enter name : deepa\n",
      "Enter Age : 34\n",
      "Enter City : bhopal\n",
      "Rollno :  110\n",
      "Name :  deepa\n",
      "Age :  34\n",
      "City :  bhopal\n",
      "Enter Rollno. : 34\n",
      "Enter name : gfgf\n",
      "Enter Age : 56\n",
      "Enter City : fgfggf\n",
      "Rollno :  34\n",
      "Name :  gfgf\n",
      "Age :  56\n",
      "City :  fgfggf\n"
     ]
    }
   ],
   "source": [
    "class student:\n",
    "    def __init__(self):  #constructor function means special type of function\n",
    "            self.rno=int(input(\"Enter Rollno. : \"))\n",
    "            self.name=input(\"Enter name : \")\n",
    "            self.age=int(input(\"Enter Age : \"))\n",
    "            self.city=input(\"Enter City : \")\n",
    "    def display(self):\n",
    "            print(\"Rollno : \",self.rno)\n",
    "            print(\"Name : \",self.name)\n",
    "            print(\"Age : \",self.age)\n",
    "            print(\"City : \",self.city)\n",
    "\n",
    "#main program\n",
    "s1=student( ) #create object of class\n",
    "s1.display( )\n",
    "s2=student() #create object of class\n",
    "s2.display()"
   ]
  },
  {
   "cell_type": "code",
   "execution_count": 16,
   "metadata": {},
   "outputs": [
    {
     "name": "stdout",
     "output_type": "stream",
     "text": [
      "enter number a : 3\n",
      "enter number b : 4\n",
      "sum :  7\n",
      "subtract :  -1\n",
      "multiply :  12\n",
      "divide :  0.75\n"
     ]
    }
   ],
   "source": [
    "class calculator:\n",
    "    def __init__(self):  #constructor function\n",
    "        self.a=int(input(\"enter number a : \"))\n",
    "        self.b=int(input(\"enter number b : \"))\n",
    "    def sum(self):\n",
    "        c=self.a+self.b\n",
    "        print(\"sum : \",c)\n",
    "    def sub(self):\n",
    "        c=self.a-self.b\n",
    "        print(\"subtract : \",c)\n",
    "    def multiply(self):\n",
    "        c=self.a*self.b\n",
    "        print(\"multiply : \",c)\n",
    "    def divide(self):\n",
    "        c=self.a/self.b\n",
    "        print(\"divide : \",c)\n",
    "#main program\n",
    "#create object of class calculator\n",
    "cal=calculator()\n",
    "\n",
    "cal.sum()\n",
    "cal.sub()\n",
    "cal.multiply()\n",
    "cal.divide()"
   ]
  },
  {
   "cell_type": "code",
   "execution_count": null,
   "metadata": {},
   "outputs": [],
   "source": []
  },
  {
   "cell_type": "code",
   "execution_count": null,
   "metadata": {},
   "outputs": [],
   "source": []
  },
  {
   "cell_type": "code",
   "execution_count": null,
   "metadata": {},
   "outputs": [],
   "source": []
  },
  {
   "cell_type": "code",
   "execution_count": null,
   "metadata": {},
   "outputs": [],
   "source": []
  },
  {
   "cell_type": "code",
   "execution_count": null,
   "metadata": {},
   "outputs": [],
   "source": []
  }
 ],
 "metadata": {
  "kernelspec": {
   "display_name": "Python 3",
   "language": "python",
   "name": "python3"
  },
  "language_info": {
   "codemirror_mode": {
    "name": "ipython",
    "version": 3
   },
   "file_extension": ".py",
   "mimetype": "text/x-python",
   "name": "python",
   "nbconvert_exporter": "python",
   "pygments_lexer": "ipython3",
   "version": "3.7.3"
  }
 },
 "nbformat": 4,
 "nbformat_minor": 2
}
