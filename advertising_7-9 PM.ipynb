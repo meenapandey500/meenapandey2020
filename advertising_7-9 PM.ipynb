{
 "cells": [
  {
   "cell_type": "code",
   "execution_count": 1,
   "metadata": {},
   "outputs": [],
   "source": [
    "#Linear Regression : -\n",
    "\n",
    "#dataset Advertising.csv\n"
   ]
  },
  {
   "cell_type": "code",
   "execution_count": 2,
   "metadata": {},
   "outputs": [],
   "source": [
    "import pandas as pd\n",
    "import numpy as np\n",
    "import matplotlib.pyplot as plt\n",
    "import seaborn as sns\n",
    "import warnings\n",
    "warnings.filterwarnings('ignore')"
   ]
  },
  {
   "cell_type": "code",
   "execution_count": 3,
   "metadata": {},
   "outputs": [],
   "source": [
    "#To load .csv file\n",
    "df=pd.read_csv(\"Advertising.csv\")"
   ]
  },
  {
   "cell_type": "code",
   "execution_count": 4,
   "metadata": {},
   "outputs": [
    {
     "data": {
      "text/html": [
       "<div>\n",
       "<style scoped>\n",
       "    .dataframe tbody tr th:only-of-type {\n",
       "        vertical-align: middle;\n",
       "    }\n",
       "\n",
       "    .dataframe tbody tr th {\n",
       "        vertical-align: top;\n",
       "    }\n",
       "\n",
       "    .dataframe thead th {\n",
       "        text-align: right;\n",
       "    }\n",
       "</style>\n",
       "<table border=\"1\" class=\"dataframe\">\n",
       "  <thead>\n",
       "    <tr style=\"text-align: right;\">\n",
       "      <th></th>\n",
       "      <th>Unnamed: 0</th>\n",
       "      <th>TV</th>\n",
       "      <th>radio</th>\n",
       "      <th>newspaper</th>\n",
       "      <th>sales</th>\n",
       "    </tr>\n",
       "  </thead>\n",
       "  <tbody>\n",
       "    <tr>\n",
       "      <th>0</th>\n",
       "      <td>1</td>\n",
       "      <td>230.1</td>\n",
       "      <td>37.8</td>\n",
       "      <td>69.2</td>\n",
       "      <td>22.1</td>\n",
       "    </tr>\n",
       "    <tr>\n",
       "      <th>1</th>\n",
       "      <td>2</td>\n",
       "      <td>44.5</td>\n",
       "      <td>39.3</td>\n",
       "      <td>45.1</td>\n",
       "      <td>10.4</td>\n",
       "    </tr>\n",
       "    <tr>\n",
       "      <th>2</th>\n",
       "      <td>3</td>\n",
       "      <td>17.2</td>\n",
       "      <td>45.9</td>\n",
       "      <td>69.3</td>\n",
       "      <td>9.3</td>\n",
       "    </tr>\n",
       "    <tr>\n",
       "      <th>3</th>\n",
       "      <td>4</td>\n",
       "      <td>151.5</td>\n",
       "      <td>41.3</td>\n",
       "      <td>58.5</td>\n",
       "      <td>18.5</td>\n",
       "    </tr>\n",
       "    <tr>\n",
       "      <th>4</th>\n",
       "      <td>5</td>\n",
       "      <td>180.8</td>\n",
       "      <td>10.8</td>\n",
       "      <td>58.4</td>\n",
       "      <td>12.9</td>\n",
       "    </tr>\n",
       "    <tr>\n",
       "      <th>5</th>\n",
       "      <td>6</td>\n",
       "      <td>8.7</td>\n",
       "      <td>48.9</td>\n",
       "      <td>75.0</td>\n",
       "      <td>7.2</td>\n",
       "    </tr>\n",
       "    <tr>\n",
       "      <th>6</th>\n",
       "      <td>7</td>\n",
       "      <td>57.5</td>\n",
       "      <td>32.8</td>\n",
       "      <td>23.5</td>\n",
       "      <td>11.8</td>\n",
       "    </tr>\n",
       "    <tr>\n",
       "      <th>7</th>\n",
       "      <td>8</td>\n",
       "      <td>120.2</td>\n",
       "      <td>19.6</td>\n",
       "      <td>11.6</td>\n",
       "      <td>13.2</td>\n",
       "    </tr>\n",
       "    <tr>\n",
       "      <th>8</th>\n",
       "      <td>9</td>\n",
       "      <td>8.6</td>\n",
       "      <td>2.1</td>\n",
       "      <td>1.0</td>\n",
       "      <td>4.8</td>\n",
       "    </tr>\n",
       "    <tr>\n",
       "      <th>9</th>\n",
       "      <td>10</td>\n",
       "      <td>199.8</td>\n",
       "      <td>2.6</td>\n",
       "      <td>21.2</td>\n",
       "      <td>10.6</td>\n",
       "    </tr>\n",
       "    <tr>\n",
       "      <th>10</th>\n",
       "      <td>11</td>\n",
       "      <td>66.1</td>\n",
       "      <td>5.8</td>\n",
       "      <td>24.2</td>\n",
       "      <td>8.6</td>\n",
       "    </tr>\n",
       "    <tr>\n",
       "      <th>11</th>\n",
       "      <td>12</td>\n",
       "      <td>214.7</td>\n",
       "      <td>24.0</td>\n",
       "      <td>4.0</td>\n",
       "      <td>17.4</td>\n",
       "    </tr>\n",
       "    <tr>\n",
       "      <th>12</th>\n",
       "      <td>13</td>\n",
       "      <td>23.8</td>\n",
       "      <td>35.1</td>\n",
       "      <td>65.9</td>\n",
       "      <td>9.2</td>\n",
       "    </tr>\n",
       "    <tr>\n",
       "      <th>13</th>\n",
       "      <td>14</td>\n",
       "      <td>97.5</td>\n",
       "      <td>7.6</td>\n",
       "      <td>7.2</td>\n",
       "      <td>9.7</td>\n",
       "    </tr>\n",
       "    <tr>\n",
       "      <th>14</th>\n",
       "      <td>15</td>\n",
       "      <td>204.1</td>\n",
       "      <td>32.9</td>\n",
       "      <td>46.0</td>\n",
       "      <td>19.0</td>\n",
       "    </tr>\n",
       "    <tr>\n",
       "      <th>15</th>\n",
       "      <td>16</td>\n",
       "      <td>195.4</td>\n",
       "      <td>47.7</td>\n",
       "      <td>52.9</td>\n",
       "      <td>22.4</td>\n",
       "    </tr>\n",
       "    <tr>\n",
       "      <th>16</th>\n",
       "      <td>17</td>\n",
       "      <td>67.8</td>\n",
       "      <td>36.6</td>\n",
       "      <td>114.0</td>\n",
       "      <td>12.5</td>\n",
       "    </tr>\n",
       "    <tr>\n",
       "      <th>17</th>\n",
       "      <td>18</td>\n",
       "      <td>281.4</td>\n",
       "      <td>39.6</td>\n",
       "      <td>55.8</td>\n",
       "      <td>24.4</td>\n",
       "    </tr>\n",
       "    <tr>\n",
       "      <th>18</th>\n",
       "      <td>19</td>\n",
       "      <td>69.2</td>\n",
       "      <td>20.5</td>\n",
       "      <td>18.3</td>\n",
       "      <td>11.3</td>\n",
       "    </tr>\n",
       "    <tr>\n",
       "      <th>19</th>\n",
       "      <td>20</td>\n",
       "      <td>147.3</td>\n",
       "      <td>23.9</td>\n",
       "      <td>19.1</td>\n",
       "      <td>14.6</td>\n",
       "    </tr>\n",
       "  </tbody>\n",
       "</table>\n",
       "</div>"
      ],
      "text/plain": [
       "    Unnamed: 0     TV  radio  newspaper  sales\n",
       "0            1  230.1   37.8       69.2   22.1\n",
       "1            2   44.5   39.3       45.1   10.4\n",
       "2            3   17.2   45.9       69.3    9.3\n",
       "3            4  151.5   41.3       58.5   18.5\n",
       "4            5  180.8   10.8       58.4   12.9\n",
       "5            6    8.7   48.9       75.0    7.2\n",
       "6            7   57.5   32.8       23.5   11.8\n",
       "7            8  120.2   19.6       11.6   13.2\n",
       "8            9    8.6    2.1        1.0    4.8\n",
       "9           10  199.8    2.6       21.2   10.6\n",
       "10          11   66.1    5.8       24.2    8.6\n",
       "11          12  214.7   24.0        4.0   17.4\n",
       "12          13   23.8   35.1       65.9    9.2\n",
       "13          14   97.5    7.6        7.2    9.7\n",
       "14          15  204.1   32.9       46.0   19.0\n",
       "15          16  195.4   47.7       52.9   22.4\n",
       "16          17   67.8   36.6      114.0   12.5\n",
       "17          18  281.4   39.6       55.8   24.4\n",
       "18          19   69.2   20.5       18.3   11.3\n",
       "19          20  147.3   23.9       19.1   14.6"
      ]
     },
     "execution_count": 4,
     "metadata": {},
     "output_type": "execute_result"
    }
   ],
   "source": [
    "df.head(20)"
   ]
  },
  {
   "cell_type": "code",
   "execution_count": 5,
   "metadata": {},
   "outputs": [
    {
     "data": {
      "text/plain": [
       "(200, 5)"
      ]
     },
     "execution_count": 5,
     "metadata": {},
     "output_type": "execute_result"
    }
   ],
   "source": [
    "df.shape  # to show no. of rows and columns"
   ]
  },
  {
   "cell_type": "code",
   "execution_count": 6,
   "metadata": {},
   "outputs": [],
   "source": [
    "#to remove unwanted column permanently from df\n",
    "df.drop(\"Unnamed: 0\",axis=1,inplace=True)"
   ]
  },
  {
   "cell_type": "code",
   "execution_count": 7,
   "metadata": {},
   "outputs": [
    {
     "data": {
      "text/html": [
       "<div>\n",
       "<style scoped>\n",
       "    .dataframe tbody tr th:only-of-type {\n",
       "        vertical-align: middle;\n",
       "    }\n",
       "\n",
       "    .dataframe tbody tr th {\n",
       "        vertical-align: top;\n",
       "    }\n",
       "\n",
       "    .dataframe thead th {\n",
       "        text-align: right;\n",
       "    }\n",
       "</style>\n",
       "<table border=\"1\" class=\"dataframe\">\n",
       "  <thead>\n",
       "    <tr style=\"text-align: right;\">\n",
       "      <th></th>\n",
       "      <th>TV</th>\n",
       "      <th>radio</th>\n",
       "      <th>newspaper</th>\n",
       "      <th>sales</th>\n",
       "    </tr>\n",
       "  </thead>\n",
       "  <tbody>\n",
       "    <tr>\n",
       "      <th>0</th>\n",
       "      <td>230.1</td>\n",
       "      <td>37.8</td>\n",
       "      <td>69.2</td>\n",
       "      <td>22.1</td>\n",
       "    </tr>\n",
       "    <tr>\n",
       "      <th>1</th>\n",
       "      <td>44.5</td>\n",
       "      <td>39.3</td>\n",
       "      <td>45.1</td>\n",
       "      <td>10.4</td>\n",
       "    </tr>\n",
       "    <tr>\n",
       "      <th>2</th>\n",
       "      <td>17.2</td>\n",
       "      <td>45.9</td>\n",
       "      <td>69.3</td>\n",
       "      <td>9.3</td>\n",
       "    </tr>\n",
       "    <tr>\n",
       "      <th>3</th>\n",
       "      <td>151.5</td>\n",
       "      <td>41.3</td>\n",
       "      <td>58.5</td>\n",
       "      <td>18.5</td>\n",
       "    </tr>\n",
       "    <tr>\n",
       "      <th>4</th>\n",
       "      <td>180.8</td>\n",
       "      <td>10.8</td>\n",
       "      <td>58.4</td>\n",
       "      <td>12.9</td>\n",
       "    </tr>\n",
       "  </tbody>\n",
       "</table>\n",
       "</div>"
      ],
      "text/plain": [
       "      TV  radio  newspaper  sales\n",
       "0  230.1   37.8       69.2   22.1\n",
       "1   44.5   39.3       45.1   10.4\n",
       "2   17.2   45.9       69.3    9.3\n",
       "3  151.5   41.3       58.5   18.5\n",
       "4  180.8   10.8       58.4   12.9"
      ]
     },
     "execution_count": 7,
     "metadata": {},
     "output_type": "execute_result"
    }
   ],
   "source": [
    "df.head()"
   ]
  },
  {
   "cell_type": "code",
   "execution_count": 8,
   "metadata": {},
   "outputs": [
    {
     "data": {
      "text/plain": [
       "TV           0\n",
       "radio        0\n",
       "newspaper    0\n",
       "sales        0\n",
       "dtype: int64"
      ]
     },
     "execution_count": 8,
     "metadata": {},
     "output_type": "execute_result"
    }
   ],
   "source": [
    "#check null values\n",
    "df.isnull().sum()"
   ]
  },
  {
   "cell_type": "code",
   "execution_count": 9,
   "metadata": {},
   "outputs": [
    {
     "name": "stdout",
     "output_type": "stream",
     "text": [
      "<class 'pandas.core.frame.DataFrame'>\n",
      "RangeIndex: 200 entries, 0 to 199\n",
      "Data columns (total 4 columns):\n",
      "TV           200 non-null float64\n",
      "radio        200 non-null float64\n",
      "newspaper    200 non-null float64\n",
      "sales        200 non-null float64\n",
      "dtypes: float64(4)\n",
      "memory usage: 6.3 KB\n"
     ]
    }
   ],
   "source": [
    "#check datatype\n",
    "df.info()"
   ]
  },
  {
   "cell_type": "code",
   "execution_count": 10,
   "metadata": {},
   "outputs": [],
   "source": [
    "#What is the relationship between input variables along with sales(target) which \n",
    "#want to predict\n",
    "#here Dataframe is completely clean\n",
    "#So , no EDA  is apply(no missing values is nothing)\n",
    "#so, Directly jump into the checking the relationship of input columns\n",
    "#means independent variables TV with output means target variable sales \n",
    "#means visualise scatter plot \n",
    "#here X=\"TV\"  here X means input and Y=\"sales\" hete Y output means target\n"
   ]
  },
  {
   "cell_type": "code",
   "execution_count": 11,
   "metadata": {},
   "outputs": [
    {
     "data": {
      "image/png": "[encoded data removed]",
      "text/plain": [
       "<Figure size 432x288 with 1 Axes>"
      ]
     },
     "metadata": {
      "needs_background": "light"
     },
     "output_type": "display_data"
    }
   ],
   "source": [
    "sns.scatterplot(data=df,x=\"TV\",y=\"sales\")#x=input variable and y=output variable\n",
    "plt.show()"
   ]
  },
  {
   "cell_type": "code",
   "execution_count": 12,
   "metadata": {},
   "outputs": [],
   "source": [
    "#Nice upword growth that means as we investment more on TV the sales is also\n",
    "#increasing that means +ve correlation means good +ve correlation between\n",
    "#TV(input) with sales(output)"
   ]
  },
  {
   "cell_type": "code",
   "execution_count": 13,
   "metadata": {},
   "outputs": [
    {
     "data": {
      "text/html": [
       "<div>\n",
       "<style scoped>\n",
       "    .dataframe tbody tr th:only-of-type {\n",
       "        vertical-align: middle;\n",
       "    }\n",
       "\n",
       "    .dataframe tbody tr th {\n",
       "        vertical-align: top;\n",
       "    }\n",
       "\n",
       "    .dataframe thead th {\n",
       "        text-align: right;\n",
       "    }\n",
       "</style>\n",
       "<table border=\"1\" class=\"dataframe\">\n",
       "  <thead>\n",
       "    <tr style=\"text-align: right;\">\n",
       "      <th></th>\n",
       "      <th>TV</th>\n",
       "      <th>radio</th>\n",
       "      <th>newspaper</th>\n",
       "      <th>sales</th>\n",
       "    </tr>\n",
       "  </thead>\n",
       "  <tbody>\n",
       "    <tr>\n",
       "      <th>TV</th>\n",
       "      <td>1.000000</td>\n",
       "      <td>0.054809</td>\n",
       "      <td>0.056648</td>\n",
       "      <td>0.782224</td>\n",
       "    </tr>\n",
       "    <tr>\n",
       "      <th>radio</th>\n",
       "      <td>0.054809</td>\n",
       "      <td>1.000000</td>\n",
       "      <td>0.354104</td>\n",
       "      <td>0.576223</td>\n",
       "    </tr>\n",
       "    <tr>\n",
       "      <th>newspaper</th>\n",
       "      <td>0.056648</td>\n",
       "      <td>0.354104</td>\n",
       "      <td>1.000000</td>\n",
       "      <td>0.228299</td>\n",
       "    </tr>\n",
       "    <tr>\n",
       "      <th>sales</th>\n",
       "      <td>0.782224</td>\n",
       "      <td>0.576223</td>\n",
       "      <td>0.228299</td>\n",
       "      <td>1.000000</td>\n",
       "    </tr>\n",
       "  </tbody>\n",
       "</table>\n",
       "</div>"
      ],
      "text/plain": [
       "                 TV     radio  newspaper     sales\n",
       "TV         1.000000  0.054809   0.056648  0.782224\n",
       "radio      0.054809  1.000000   0.354104  0.576223\n",
       "newspaper  0.056648  0.354104   1.000000  0.228299\n",
       "sales      0.782224  0.576223   0.228299  1.000000"
      ]
     },
     "execution_count": 13,
     "metadata": {},
     "output_type": "execute_result"
    }
   ],
   "source": [
    "df.corr() #corr() inbuilt method "
   ]
  },
  {
   "cell_type": "code",
   "execution_count": 14,
   "metadata": {},
   "outputs": [
    {
     "data": {
      "image/png": "[encoded data removed]",
      "text/plain": [
       "<Figure size 432x288 with 1 Axes>"
      ]
     },
     "metadata": {
      "needs_background": "light"
     },
     "output_type": "display_data"
    }
   ],
   "source": [
    "#same as rest of column \n",
    "#means visualise scatter plot \n",
    "#here X=\"radio\"  here X means input and Y=\"sales\" hete Y output means target\n",
    "sns.scatterplot(data=df,x=\"radio\",y=\"sales\")#x=input variable and y=output variable\n",
    "plt.show()"
   ]
  },
  {
   "cell_type": "code",
   "execution_count": 15,
   "metadata": {},
   "outputs": [
    {
     "data": {
      "image/png": "[encoded data removed]",
      "text/plain": [
       "<Figure size 432x288 with 1 Axes>"
      ]
     },
     "metadata": {
      "needs_background": "light"
     },
     "output_type": "display_data"
    }
   ],
   "source": [
    "#visualise scatter plot \n",
    "#here X=\"newspaper\"  here X means input and Y=\"sales\" hete Y output means target\n",
    "sns.scatterplot(data=df,x=\"newspaper\",y=\"sales\")#x=input variable and y=output variable\n",
    "plt.show()"
   ]
  },
  {
   "cell_type": "code",
   "execution_count": 16,
   "metadata": {},
   "outputs": [],
   "source": [
    "#see the scatter plot radio with sales : - looks better but lot of data \n",
    "#scattered  and +ve correlation but value of correlation is very less(0.57) as \n",
    "#compared to TV(0.78) .\n",
    "\n",
    "# see the scatter plot of newspaper with sales : - It is very bad correlation\n",
    "# scattered data all over shows no +ve and no -ve correlation just scattered\n",
    "#means very close to 0(0.22) "
   ]
  },
  {
   "cell_type": "code",
   "execution_count": 17,
   "metadata": {},
   "outputs": [
    {
     "data": {
      "image/png": "[encoded data removed]",
      "text/plain": [
       "<Figure size 432x288 with 2 Axes>"
      ]
     },
     "metadata": {
      "needs_background": "light"
     },
     "output_type": "display_data"
    }
   ],
   "source": [
    "#Visualise we want to show correlation \n",
    "sns.heatmap(df.corr(),annot=True)\n",
    "plt.show()"
   ]
  },
  {
   "cell_type": "code",
   "execution_count": 18,
   "metadata": {},
   "outputs": [],
   "source": [
    "#correlation values with TV and sales=0.78 , It is very good\n",
    "#correlation values with radio and sales=0.58 , It is good(ok)\n",
    "#correlation values with newspaper and sales=0.23 , It is very bad"
   ]
  },
  {
   "cell_type": "code",
   "execution_count": 19,
   "metadata": {},
   "outputs": [],
   "source": [
    "#My observation Good correlation with TV and slightly with radio"
   ]
  },
  {
   "cell_type": "code",
   "execution_count": 20,
   "metadata": {},
   "outputs": [
    {
     "data": {
      "text/html": [
       "<div>\n",
       "<style scoped>\n",
       "    .dataframe tbody tr th:only-of-type {\n",
       "        vertical-align: middle;\n",
       "    }\n",
       "\n",
       "    .dataframe tbody tr th {\n",
       "        vertical-align: top;\n",
       "    }\n",
       "\n",
       "    .dataframe thead th {\n",
       "        text-align: right;\n",
       "    }\n",
       "</style>\n",
       "<table border=\"1\" class=\"dataframe\">\n",
       "  <thead>\n",
       "    <tr style=\"text-align: right;\">\n",
       "      <th></th>\n",
       "      <th>TV</th>\n",
       "      <th>radio</th>\n",
       "      <th>newspaper</th>\n",
       "      <th>sales</th>\n",
       "    </tr>\n",
       "  </thead>\n",
       "  <tbody>\n",
       "    <tr>\n",
       "      <th>0</th>\n",
       "      <td>230.1</td>\n",
       "      <td>37.8</td>\n",
       "      <td>69.2</td>\n",
       "      <td>22.1</td>\n",
       "    </tr>\n",
       "    <tr>\n",
       "      <th>1</th>\n",
       "      <td>44.5</td>\n",
       "      <td>39.3</td>\n",
       "      <td>45.1</td>\n",
       "      <td>10.4</td>\n",
       "    </tr>\n",
       "    <tr>\n",
       "      <th>2</th>\n",
       "      <td>17.2</td>\n",
       "      <td>45.9</td>\n",
       "      <td>69.3</td>\n",
       "      <td>9.3</td>\n",
       "    </tr>\n",
       "    <tr>\n",
       "      <th>3</th>\n",
       "      <td>151.5</td>\n",
       "      <td>41.3</td>\n",
       "      <td>58.5</td>\n",
       "      <td>18.5</td>\n",
       "    </tr>\n",
       "    <tr>\n",
       "      <th>4</th>\n",
       "      <td>180.8</td>\n",
       "      <td>10.8</td>\n",
       "      <td>58.4</td>\n",
       "      <td>12.9</td>\n",
       "    </tr>\n",
       "  </tbody>\n",
       "</table>\n",
       "</div>"
      ],
      "text/plain": [
       "      TV  radio  newspaper  sales\n",
       "0  230.1   37.8       69.2   22.1\n",
       "1   44.5   39.3       45.1   10.4\n",
       "2   17.2   45.9       69.3    9.3\n",
       "3  151.5   41.3       58.5   18.5\n",
       "4  180.8   10.8       58.4   12.9"
      ]
     },
     "execution_count": 20,
     "metadata": {},
     "output_type": "execute_result"
    }
   ],
   "source": [
    "df.head()"
   ]
  },
  {
   "cell_type": "code",
   "execution_count": 21,
   "metadata": {},
   "outputs": [],
   "source": [
    "#Performing the modeling With the help of Simple Linear Regression \n",
    "#Modeling With input TV and target sales\n",
    "#Step 1: First input means X and output Y(target)\n",
    "X=df[[\"TV\"]] #always input 2D [[]]\n",
    "Y=df[\"sales\"] #always output means target 1D "
   ]
  },
  {
   "cell_type": "code",
   "execution_count": 22,
   "metadata": {},
   "outputs": [
    {
     "data": {
      "text/plain": [
       "(200, 4)"
      ]
     },
     "execution_count": 22,
     "metadata": {},
     "output_type": "execute_result"
    }
   ],
   "source": [
    "df.shape"
   ]
  },
  {
   "cell_type": "code",
   "execution_count": 23,
   "metadata": {},
   "outputs": [],
   "source": [
    "#train_test_split() : inbuilt  function It is used to split dataset \n",
    "#into training and testing , 70% data use in training and 30% data used in\n",
    "#testing\n",
    "#train_test_split()  : this function define in inbuilt class\n",
    "#train_test_split class\n",
    "from sklearn.model_selection import train_test_split"
   ]
  },
  {
   "cell_type": "code",
   "execution_count": 24,
   "metadata": {},
   "outputs": [],
   "source": [
    "X_train,X_test,Y_train,Y_test=train_test_split(X,Y,test_size=0.3,random_state=1)"
   ]
  },
  {
   "cell_type": "code",
   "execution_count": 25,
   "metadata": {},
   "outputs": [],
   "source": [
    "#train_test_split() is a passing arguments/parameters and return values .\n",
    "#this function returns 4 outputs"
   ]
  },
  {
   "cell_type": "code",
   "execution_count": 26,
   "metadata": {},
   "outputs": [
    {
     "data": {
      "text/plain": [
       "(140, 1)"
      ]
     },
     "execution_count": 26,
     "metadata": {},
     "output_type": "execute_result"
    }
   ],
   "source": [
    "X_train.shape"
   ]
  },
  {
   "cell_type": "code",
   "execution_count": 27,
   "metadata": {},
   "outputs": [
    {
     "data": {
      "text/plain": [
       "(140,)"
      ]
     },
     "execution_count": 27,
     "metadata": {},
     "output_type": "execute_result"
    }
   ],
   "source": [
    "Y_train.shape"
   ]
  },
  {
   "cell_type": "code",
   "execution_count": 28,
   "metadata": {},
   "outputs": [
    {
     "data": {
      "text/html": [
       "<div>\n",
       "<style scoped>\n",
       "    .dataframe tbody tr th:only-of-type {\n",
       "        vertical-align: middle;\n",
       "    }\n",
       "\n",
       "    .dataframe tbody tr th {\n",
       "        vertical-align: top;\n",
       "    }\n",
       "\n",
       "    .dataframe thead th {\n",
       "        text-align: right;\n",
       "    }\n",
       "</style>\n",
       "<table border=\"1\" class=\"dataframe\">\n",
       "  <thead>\n",
       "    <tr style=\"text-align: right;\">\n",
       "      <th></th>\n",
       "      <th>TV</th>\n",
       "    </tr>\n",
       "  </thead>\n",
       "  <tbody>\n",
       "    <tr>\n",
       "      <th>116</th>\n",
       "      <td>139.2</td>\n",
       "    </tr>\n",
       "    <tr>\n",
       "      <th>67</th>\n",
       "      <td>139.3</td>\n",
       "    </tr>\n",
       "    <tr>\n",
       "      <th>78</th>\n",
       "      <td>5.4</td>\n",
       "    </tr>\n",
       "    <tr>\n",
       "      <th>42</th>\n",
       "      <td>293.6</td>\n",
       "    </tr>\n",
       "    <tr>\n",
       "      <th>17</th>\n",
       "      <td>281.4</td>\n",
       "    </tr>\n",
       "    <tr>\n",
       "      <th>5</th>\n",
       "      <td>8.7</td>\n",
       "    </tr>\n",
       "    <tr>\n",
       "      <th>127</th>\n",
       "      <td>80.2</td>\n",
       "    </tr>\n",
       "    <tr>\n",
       "      <th>105</th>\n",
       "      <td>137.9</td>\n",
       "    </tr>\n",
       "    <tr>\n",
       "      <th>48</th>\n",
       "      <td>227.2</td>\n",
       "    </tr>\n",
       "    <tr>\n",
       "      <th>66</th>\n",
       "      <td>31.5</td>\n",
       "    </tr>\n",
       "  </tbody>\n",
       "</table>\n",
       "</div>"
      ],
      "text/plain": [
       "        TV\n",
       "116  139.2\n",
       "67   139.3\n",
       "78     5.4\n",
       "42   293.6\n",
       "17   281.4\n",
       "5      8.7\n",
       "127   80.2\n",
       "105  137.9\n",
       "48   227.2\n",
       "66    31.5"
      ]
     },
     "execution_count": 28,
     "metadata": {},
     "output_type": "execute_result"
    }
   ],
   "source": [
    "X_train.head(10)"
   ]
  },
  {
   "cell_type": "code",
   "execution_count": 29,
   "metadata": {},
   "outputs": [
    {
     "data": {
      "text/html": [
       "<div>\n",
       "<style scoped>\n",
       "    .dataframe tbody tr th:only-of-type {\n",
       "        vertical-align: middle;\n",
       "    }\n",
       "\n",
       "    .dataframe tbody tr th {\n",
       "        vertical-align: top;\n",
       "    }\n",
       "\n",
       "    .dataframe thead th {\n",
       "        text-align: right;\n",
       "    }\n",
       "</style>\n",
       "<table border=\"1\" class=\"dataframe\">\n",
       "  <thead>\n",
       "    <tr style=\"text-align: right;\">\n",
       "      <th></th>\n",
       "      <th>TV</th>\n",
       "    </tr>\n",
       "  </thead>\n",
       "  <tbody>\n",
       "    <tr>\n",
       "      <th>58</th>\n",
       "      <td>210.8</td>\n",
       "    </tr>\n",
       "    <tr>\n",
       "      <th>40</th>\n",
       "      <td>202.5</td>\n",
       "    </tr>\n",
       "    <tr>\n",
       "      <th>34</th>\n",
       "      <td>95.7</td>\n",
       "    </tr>\n",
       "    <tr>\n",
       "      <th>102</th>\n",
       "      <td>280.2</td>\n",
       "    </tr>\n",
       "    <tr>\n",
       "      <th>184</th>\n",
       "      <td>253.8</td>\n",
       "    </tr>\n",
       "    <tr>\n",
       "      <th>198</th>\n",
       "      <td>283.6</td>\n",
       "    </tr>\n",
       "    <tr>\n",
       "      <th>95</th>\n",
       "      <td>163.3</td>\n",
       "    </tr>\n",
       "    <tr>\n",
       "      <th>4</th>\n",
       "      <td>180.8</td>\n",
       "    </tr>\n",
       "    <tr>\n",
       "      <th>29</th>\n",
       "      <td>70.6</td>\n",
       "    </tr>\n",
       "    <tr>\n",
       "      <th>168</th>\n",
       "      <td>215.4</td>\n",
       "    </tr>\n",
       "  </tbody>\n",
       "</table>\n",
       "</div>"
      ],
      "text/plain": [
       "        TV\n",
       "58   210.8\n",
       "40   202.5\n",
       "34    95.7\n",
       "102  280.2\n",
       "184  253.8\n",
       "198  283.6\n",
       "95   163.3\n",
       "4    180.8\n",
       "29    70.6\n",
       "168  215.4"
      ]
     },
     "execution_count": 29,
     "metadata": {},
     "output_type": "execute_result"
    }
   ],
   "source": [
    "X_test.head(10)"
   ]
  },
  {
   "cell_type": "code",
   "execution_count": 30,
   "metadata": {},
   "outputs": [],
   "source": [
    "#we train the model with the help of LinearRegression class\n",
    "from sklearn.linear_model import LinearRegression"
   ]
  },
  {
   "cell_type": "code",
   "execution_count": 31,
   "metadata": {},
   "outputs": [],
   "source": [
    "#create the object of LinearRegression\n",
    "lr=LinearRegression() #here lr user defined object of LinearRegression class"
   ]
  },
  {
   "cell_type": "code",
   "execution_count": 32,
   "metadata": {},
   "outputs": [
    {
     "data": {
      "text/plain": [
       "LinearRegression()"
      ]
     },
     "execution_count": 32,
     "metadata": {},
     "output_type": "execute_result"
    }
   ],
   "source": [
    "#we train the model : use fit() inbuilt function of LinearRegression class\n",
    "#fit() passing arguments/parameters which pass input and labeeled output(70%)\n",
    "lr.fit(X_train,Y_train)"
   ]
  },
  {
   "cell_type": "code",
   "execution_count": 33,
   "metadata": {},
   "outputs": [],
   "source": [
    "#Test the model means use inbuilt function predict()  : inbuilt method of\n",
    "#LinearRegression class\n",
    "#perform testing\n",
    "y_pred=lr.predict(X_test) #y_pred=m*x_test+b"
   ]
  },
  {
   "cell_type": "code",
   "execution_count": 34,
   "metadata": {},
   "outputs": [
    {
     "data": {
      "text/plain": [
       "array([17.06764591, 16.66823297, 11.52879892, 20.4073156 , 19.1368937 ,\n",
       "       20.57093054, 14.78184893, 15.62398466, 10.32093567, 17.2890073 ,\n",
       "       14.83959538, 10.25356482, 17.25532187, 12.20731971, 17.78947654,\n",
       "       12.97246017, 13.26119242, 20.91259704,  8.1554438 , 17.06283371,\n",
       "       11.75497252, 10.18619396,  8.13138278, 12.09182681, 12.35649804,\n",
       "       15.98971218,  8.99757953, 18.89628349, 14.95027608, 18.47762173,\n",
       "       18.46799732, 18.2081383 , 14.12738917, 15.11389102, 18.87703468,\n",
       "       15.82128503, 17.62586159, 13.15051172, 17.35637816,  7.86671155,\n",
       "        7.55391828, 11.2737521 ,  7.82340171, 16.74522823,  7.27481044,\n",
       "       14.01189627, 10.68666319, 17.89534503, 16.78853807, 17.96752809,\n",
       "       20.864475  , 12.84734286,  7.85708714, 15.71060434, 19.70473379,\n",
       "       14.89252963, 17.43818563,  8.12657058, 18.0926454 ,  8.99276733])"
      ]
     },
     "execution_count": 34,
     "metadata": {},
     "output_type": "execute_result"
    }
   ],
   "source": [
    "y_pred"
   ]
  },
  {
   "cell_type": "code",
   "execution_count": 35,
   "metadata": {},
   "outputs": [
    {
     "data": {
      "text/plain": [
       "58     23.8\n",
       "40     16.6\n",
       "34      9.5\n",
       "102    14.8\n",
       "184    17.6\n",
       "198    25.5\n",
       "95     16.9\n",
       "4      12.9\n",
       "29     10.5\n",
       "168    17.1\n",
       "171    14.5\n",
       "18     11.3\n",
       "11     17.4\n",
       "89     16.7\n",
       "110    13.4\n",
       "118    15.9\n",
       "159    12.9\n",
       "35     12.8\n",
       "136     9.5\n",
       "59     18.4\n",
       "51     10.7\n",
       "16     12.5\n",
       "44      8.5\n",
       "94     11.5\n",
       "31     11.9\n",
       "162    14.9\n",
       "38     10.1\n",
       "28     18.9\n",
       "193    19.6\n",
       "27     15.9\n",
       "47     23.2\n",
       "165    11.9\n",
       "194    17.3\n",
       "177    11.7\n",
       "176    20.2\n",
       "97     15.5\n",
       "174    11.5\n",
       "73     11.0\n",
       "69     22.3\n",
       "172     7.6\n",
       "108     5.3\n",
       "107     8.7\n",
       "189     6.7\n",
       "14     19.0\n",
       "56      5.5\n",
       "19     14.6\n",
       "114    14.6\n",
       "39     21.5\n",
       "185    22.6\n",
       "124    19.7\n",
       "98     25.4\n",
       "123    15.2\n",
       "119     6.6\n",
       "53     21.2\n",
       "33     17.4\n",
       "179    12.6\n",
       "181    12.2\n",
       "106     7.2\n",
       "199    13.4\n",
       "138     9.6\n",
       "Name: sales, dtype: float64"
      ]
     },
     "execution_count": 35,
     "metadata": {},
     "output_type": "execute_result"
    }
   ],
   "source": [
    "Y_test"
   ]
  },
  {
   "cell_type": "code",
   "execution_count": 36,
   "metadata": {},
   "outputs": [],
   "source": [
    "#Lecture 9-FEB-2021 "
   ]
  },
  {
   "cell_type": "code",
   "execution_count": 37,
   "metadata": {},
   "outputs": [
    {
     "name": "stdout",
     "output_type": "stream",
     "text": [
      "slope means coefficient :  [0.04812204]\n"
     ]
    }
   ],
   "source": [
    "#slope means coefficient use inbuilt method coef_ : of LinearRegression class\n",
    "m=lr.coef_\n",
    "print(\"slope means coefficient : \",m)"
   ]
  },
  {
   "cell_type": "code",
   "execution_count": 38,
   "metadata": {},
   "outputs": [
    {
     "name": "stdout",
     "output_type": "stream",
     "text": [
      "Intercept :  6.923519536059553\n"
     ]
    }
   ],
   "source": [
    "#Intercept_ inbuilt method of LinearRegression class\n",
    "b=lr.intercept_\n",
    "print(\"Intercept : \",b)"
   ]
  },
  {
   "cell_type": "code",
   "execution_count": 39,
   "metadata": {},
   "outputs": [
    {
     "data": {
      "image/png": "[encoded data removed]",
      "text/plain": [
       "<Figure size 432x288 with 1 Axes>"
      ]
     },
     "metadata": {
      "needs_background": "light"
     },
     "output_type": "display_data"
    }
   ],
   "source": [
    "#Visualize  after training the model with 70% data\n",
    "sns.scatterplot(data=df,x=\"TV\",y=\"sales\")\n",
    "plt.plot(X_test,y_pred,color=\"red\") #line draw (30% testing data)\n",
    "plt.show()"
   ]
  },
  {
   "cell_type": "code",
   "execution_count": 40,
   "metadata": {},
   "outputs": [],
   "source": [
    "#find mean squared error =Residual sum of squared error/no. of datapoints N\n",
    "#RSS : Residual sum of squared error =sum(original output-predicted output)^2\n",
    "from sklearn.metrics import mean_squared_error"
   ]
  },
  {
   "cell_type": "code",
   "execution_count": 41,
   "metadata": {},
   "outputs": [
    {
     "name": "stdout",
     "output_type": "stream",
     "text": [
      "Mean_Squared_Error :  10.571057434656955\n"
     ]
    }
   ],
   "source": [
    "MSE=mean_squared_error(Y_test,y_pred)#mean_squared_error() inbuilt function\n",
    "#which define in inbuilt class mean_squared_error , it is passing arguments\n",
    "#type function\n",
    "print(\"Mean_Squared_Error : \",MSE)"
   ]
  },
  {
   "cell_type": "code",
   "execution_count": 42,
   "metadata": {},
   "outputs": [],
   "source": [
    "#Evaluation of model, find r2-score =(TSS-RSS)/TSS\n",
    "#r2-score inbuilt class\n",
    "from sklearn.metrics import r2_score"
   ]
  },
  {
   "cell_type": "code",
   "execution_count": 43,
   "metadata": {},
   "outputs": [
    {
     "name": "stdout",
     "output_type": "stream",
     "text": [
      "R2-score :  0.575061860494331\n"
     ]
    }
   ],
   "source": [
    "score=r2_score(Y_test,y_pred)\n",
    "print(\"R2-score : \",score)  #range of r2-score :   0 to +1 \n",
    "#threshold value >0.5 then just ok"
   ]
  },
  {
   "cell_type": "code",
   "execution_count": 44,
   "metadata": {},
   "outputs": [],
   "source": [
    "#Performing the modeling With the help of Simple Linear Regression \n",
    "#Modeling With input radio and target sales\n",
    "#Step 1: First input means X and output Y(target)\n",
    "X=df[[\"radio\"]] #always input 2D [[]]\n",
    "Y=df[\"sales\"] #always output means target 1D "
   ]
  },
  {
   "cell_type": "code",
   "execution_count": 45,
   "metadata": {},
   "outputs": [],
   "source": [
    "X_train,X_test,Y_train,Y_test=train_test_split(X,Y,test_size=0.3,random_state=1)"
   ]
  },
  {
   "cell_type": "code",
   "execution_count": 46,
   "metadata": {},
   "outputs": [],
   "source": [
    "#create the object of LinearRegression\n",
    "lr=LinearRegression()"
   ]
  },
  {
   "cell_type": "code",
   "execution_count": 47,
   "metadata": {},
   "outputs": [
    {
     "data": {
      "text/plain": [
       "LinearRegression()"
      ]
     },
     "execution_count": 47,
     "metadata": {},
     "output_type": "execute_result"
    }
   ],
   "source": [
    "#we train the model : use fit() inbuilt function of LinearRegression class\n",
    "#fit() passing arguments/parameters which pass input and labeeled output(70%)\n",
    "lr.fit(X_train,Y_train)"
   ]
  },
  {
   "cell_type": "code",
   "execution_count": 48,
   "metadata": {},
   "outputs": [],
   "source": [
    "#Test the model means use inbuilt function predict()  : inbuilt method of\n",
    "#LinearRegression class\n",
    "#perform testing\n",
    "y_pred=lr.predict(X_test) #y_pred=m*x_test+b"
   ]
  },
  {
   "cell_type": "code",
   "execution_count": 49,
   "metadata": {},
   "outputs": [
    {
     "name": "stdout",
     "output_type": "stream",
     "text": [
      "slope means coefficient :  [0.1874808]\n"
     ]
    }
   ],
   "source": [
    "#slope means coefficient use inbuilt method coef_ : of LinearRegression class\n",
    "m=lr.coef_\n",
    "print(\"slope means coefficient : \",m)"
   ]
  },
  {
   "cell_type": "code",
   "execution_count": 50,
   "metadata": {},
   "outputs": [
    {
     "name": "stdout",
     "output_type": "stream",
     "text": [
      "Intercept :  9.440936561425884\n"
     ]
    }
   ],
   "source": [
    "#Intercept_ inbuilt method of LinearRegression class\n",
    "b=lr.intercept_\n",
    "print(\"Intercept : \",b)"
   ]
  },
  {
   "cell_type": "code",
   "execution_count": 51,
   "metadata": {},
   "outputs": [
    {
     "data": {
      "image/png": "[encoded data removed]",
      "text/plain": [
       "<Figure size 432x288 with 1 Axes>"
      ]
     },
     "metadata": {
      "needs_background": "light"
     },
     "output_type": "display_data"
    }
   ],
   "source": [
    "#Visualize  after training the model with 70% data\n",
    "sns.scatterplot(data=df,x=\"radio\",y=\"sales\")\n",
    "plt.plot(X_test,y_pred,color=\"red\") #line draw (30% testing data)\n",
    "plt.show()"
   ]
  },
  {
   "cell_type": "code",
   "execution_count": 52,
   "metadata": {},
   "outputs": [
    {
     "name": "stdout",
     "output_type": "stream",
     "text": [
      "Mean_Squared_Error :  14.604130559272193\n"
     ]
    }
   ],
   "source": [
    "MSE=mean_squared_error(Y_test,y_pred)#mean_squared_error() inbuilt function\n",
    "#which define in inbuilt class mean_squared_error , it is passing arguments\n",
    "#type function\n",
    "print(\"Mean_Squared_Error : \",MSE)"
   ]
  },
  {
   "cell_type": "code",
   "execution_count": 53,
   "metadata": {},
   "outputs": [
    {
     "name": "stdout",
     "output_type": "stream",
     "text": [
      "R2-score :  0.41293932917162335\n"
     ]
    }
   ],
   "source": [
    "score=r2_score(Y_test,y_pred)\n",
    "print(\"R2-score : \",score)  #range of r2-score :   0 to +1 \n"
   ]
  },
  {
   "cell_type": "code",
   "execution_count": 54,
   "metadata": {},
   "outputs": [],
   "source": [
    "#Performing the modeling With the help of Simple Linear Regression \n",
    "#Modeling With input newspaper and target sales\n",
    "#Step 1: First input means X and output Y(target)\n",
    "X=df[[\"newspaper\"]] #always input 2D [[]]\n",
    "Y=df[\"sales\"] #always output means target 1D "
   ]
  },
  {
   "cell_type": "code",
   "execution_count": 55,
   "metadata": {},
   "outputs": [],
   "source": [
    "X_train,X_test,Y_train,Y_test=train_test_split(X,Y,test_size=0.3,random_state=1)"
   ]
  },
  {
   "cell_type": "code",
   "execution_count": 56,
   "metadata": {},
   "outputs": [],
   "source": [
    "#create the object of LinearRegression\n",
    "lr=LinearRegression()"
   ]
  },
  {
   "cell_type": "code",
   "execution_count": 57,
   "metadata": {},
   "outputs": [
    {
     "data": {
      "text/plain": [
       "LinearRegression()"
      ]
     },
     "execution_count": 57,
     "metadata": {},
     "output_type": "execute_result"
    }
   ],
   "source": [
    "#we train the model : use fit() inbuilt function of LinearRegression class\n",
    "#fit() passing arguments/parameters which pass input and labeeled output(70%)\n",
    "lr.fit(X_train,Y_train)"
   ]
  },
  {
   "cell_type": "code",
   "execution_count": 58,
   "metadata": {},
   "outputs": [],
   "source": [
    "#Test the model means use inbuilt function predict()  : inbuilt method of\n",
    "#LinearRegression class\n",
    "#perform testing\n",
    "y_pred=lr.predict(X_test) #y_pred=m*x_test+b"
   ]
  },
  {
   "cell_type": "code",
   "execution_count": 59,
   "metadata": {},
   "outputs": [
    {
     "name": "stdout",
     "output_type": "stream",
     "text": [
      "slope means coefficient :  [0.06532045]\n"
     ]
    }
   ],
   "source": [
    "#slope means coefficient use inbuilt method coef_ : of LinearRegression class\n",
    "m=lr.coef_\n",
    "print(\"slope means coefficient : \",m)"
   ]
  },
  {
   "cell_type": "code",
   "execution_count": 60,
   "metadata": {},
   "outputs": [
    {
     "name": "stdout",
     "output_type": "stream",
     "text": [
      "Intercept :  11.82966888487788\n"
     ]
    }
   ],
   "source": [
    "#Intercept_ inbuilt method of LinearRegression class\n",
    "b=lr.intercept_\n",
    "print(\"Intercept : \",b)"
   ]
  },
  {
   "cell_type": "code",
   "execution_count": 61,
   "metadata": {},
   "outputs": [
    {
     "data": {
      "image/png": "[encoded data removed]",
      "text/plain": [
       "<Figure size 432x288 with 1 Axes>"
      ]
     },
     "metadata": {
      "needs_background": "light"
     },
     "output_type": "display_data"
    }
   ],
   "source": [
    "#Visualize  after training the model with 70% data\n",
    "sns.scatterplot(data=df,x=\"newspaper\",y=\"sales\")\n",
    "plt.plot(X_test,y_pred,color=\"red\") #line draw (30% testing data)\n",
    "plt.show()"
   ]
  },
  {
   "cell_type": "code",
   "execution_count": 62,
   "metadata": {},
   "outputs": [
    {
     "name": "stdout",
     "output_type": "stream",
     "text": [
      "Mean_Squared_Error :  25.49745237441493\n"
     ]
    }
   ],
   "source": [
    "MSE=mean_squared_error(Y_test,y_pred)#mean_squared_error() inbuilt function\n",
    "#which define in inbuilt class mean_squared_error , it is passing arguments\n",
    "#type function\n",
    "print(\"Mean_Squared_Error : \",MSE)"
   ]
  },
  {
   "cell_type": "code",
   "execution_count": 63,
   "metadata": {},
   "outputs": [
    {
     "name": "stdout",
     "output_type": "stream",
     "text": [
      "R2-score :  -0.024953278429509007\n"
     ]
    }
   ],
   "source": [
    "score=r2_score(Y_test,y_pred)\n",
    "print(\"R2-score : \",score)  #range of r2-score :   0 to +1 \n",
    "#very bad score"
   ]
  },
  {
   "cell_type": "code",
   "execution_count": 64,
   "metadata": {},
   "outputs": [
    {
     "data": {
      "text/plain": [
       "' slope of TV : 0.04812204  and MSE of TV  :  10.571057434656955\\n    slope of radio :0.1874808 and MSE of radio : 14.604130559272193\\n    slope of newspaper : 0.06532045 and MSE of newspaper :25.49745237441493 '"
      ]
     },
     "execution_count": 64,
     "metadata": {},
     "output_type": "execute_result"
    }
   ],
   "source": [
    "''' slope of TV : 0.04812204  and MSE of TV  :  10.571057434656955\n",
    "    slope of radio :0.1874808 and MSE of radio : 14.604130559272193\n",
    "    slope of newspaper : 0.06532045 and MSE of newspaper :25.49745237441493 '''"
   ]
  },
  {
   "cell_type": "code",
   "execution_count": 65,
   "metadata": {},
   "outputs": [
    {
     "data": {
      "text/plain": [
       "Index(['TV', 'radio', 'newspaper', 'sales'], dtype='object')"
      ]
     },
     "execution_count": 65,
     "metadata": {},
     "output_type": "execute_result"
    }
   ],
   "source": [
    "df.columns"
   ]
  },
  {
   "cell_type": "code",
   "execution_count": 66,
   "metadata": {},
   "outputs": [],
   "source": [
    "#Multiple Linear Regression (MLR) :\n",
    "#All three input variables(columns) together in X-axis and output in Y-axis\n",
    "X=df[[\"TV\",\"radio\",\"newspaper\"]] #input [[]] 2D array means many input\n",
    "#here X input variables means independent variables\n",
    "Y=df[\"sales\"]#here Y target means dependent variable (1D)"
   ]
  },
  {
   "cell_type": "code",
   "execution_count": 67,
   "metadata": {},
   "outputs": [],
   "source": [
    "#we cannot visualize scatter with multiple input \n"
   ]
  },
  {
   "cell_type": "code",
   "execution_count": 68,
   "metadata": {},
   "outputs": [],
   "source": [
    "#train_test_split\n",
    "X_train,X_test,Y_train,Y_test=train_test_split(X,Y,test_size=0.3,random_state=1)"
   ]
  },
  {
   "cell_type": "code",
   "execution_count": 69,
   "metadata": {},
   "outputs": [],
   "source": [
    "#create the object of LinearRegression\n",
    "lr=LinearRegression()"
   ]
  },
  {
   "cell_type": "code",
   "execution_count": 70,
   "metadata": {},
   "outputs": [
    {
     "data": {
      "text/plain": [
       "LinearRegression()"
      ]
     },
     "execution_count": 70,
     "metadata": {},
     "output_type": "execute_result"
    }
   ],
   "source": [
    "#we train the model : use fit() inbuilt function of LinearRegression class\n",
    "#fit() passing arguments/parameters which pass input and labeeled output(70%)\n",
    "lr.fit(X_train,Y_train)"
   ]
  },
  {
   "cell_type": "code",
   "execution_count": 71,
   "metadata": {},
   "outputs": [
    {
     "data": {
      "text/plain": [
       "array([0.04695205, 0.17658644, 0.00185115])"
      ]
     },
     "execution_count": 71,
     "metadata": {},
     "output_type": "execute_result"
    }
   ],
   "source": [
    "lr.coef_  #to show slope means coefficient   y=m1*TV+m2*radio+m3*newspaper+b"
   ]
  },
  {
   "cell_type": "code",
   "execution_count": 72,
   "metadata": {},
   "outputs": [
    {
     "data": {
      "text/plain": [
       "2.9372157346906107"
      ]
     },
     "execution_count": 72,
     "metadata": {},
     "output_type": "execute_result"
    }
   ],
   "source": [
    "lr.intercept_ #to show intercept"
   ]
  },
  {
   "cell_type": "code",
   "execution_count": 73,
   "metadata": {},
   "outputs": [],
   "source": [
    "#Lecture 10-feb-2021 "
   ]
  },
  {
   "cell_type": "markdown",
   "metadata": {},
   "source": [
    "# Assumptions of Linear Regression : -\n",
    "'''1. should not be Multicolinearity in linear regression  '''"
   ]
  },
  {
   "cell_type": "code",
   "execution_count": 74,
   "metadata": {},
   "outputs": [
    {
     "data": {
      "image/png": "[encoded data removed]",
      "text/plain": [
       "<Figure size 432x288 with 2 Axes>"
      ]
     },
     "metadata": {
      "needs_background": "light"
     },
     "output_type": "display_data"
    }
   ],
   "source": [
    "#check correlation each input with output and also check each input with \n",
    "#each other  use inbuilt method corr()\n",
    "#we visualise corr()\n",
    "sns.heatmap(df.corr(),annot=True)\n",
    "plt.show()"
   ]
  },
  {
   "cell_type": "code",
   "execution_count": 75,
   "metadata": {},
   "outputs": [],
   "source": [
    "# Multicolinearity means here radio is corelated with sales and newspaper (I/P)\n",
    "#is correlated with radio(Input) corr value0.35 that means indirectly newspaper\n",
    "#also getting corelated with sales\n",
    "#here correlated with newspaper and sales =0.23 it is bad correlation\n",
    "#So in this case , remove any one input(radio and newspaper)but which input\n",
    "#will be remove so we remove those input whose bad correlation with output\n",
    "#here newspaper is bad correlated with output sales then remove newspaper \n",
    "#column means newspaper column input is not imp to predict the value\n",
    "#of sales(o/p)\n"
   ]
  },
  {
   "cell_type": "code",
   "execution_count": 76,
   "metadata": {},
   "outputs": [],
   "source": [
    "#corr value of radio with sales :  0.58  \n",
    "#corr value of newspper with sales : 0.23\n",
    "#corr value of radio and newspaper(both are input and correlated each other:0.35\n",
    "#so we decided , remove newspaper because corr of radio with sales>newspaper with sales\n",
    "#We have input TV and radi and target sales\n",
    "X=df[[\"TV\",\"radio\"]] #input TV and radio : 2D array\n",
    "Y=df[\"sales\"] #output which want to predict : always 1 D array"
   ]
  },
  {
   "cell_type": "code",
   "execution_count": 77,
   "metadata": {},
   "outputs": [],
   "source": [
    "#train_test_split\n",
    "X_train,X_test,Y_train,Y_test=train_test_split(X,Y,test_size=0.3,random_state=1)"
   ]
  },
  {
   "cell_type": "code",
   "execution_count": 78,
   "metadata": {},
   "outputs": [],
   "source": [
    "#create the object of LinearRegression\n",
    "lr=LinearRegression()"
   ]
  },
  {
   "cell_type": "code",
   "execution_count": 79,
   "metadata": {},
   "outputs": [
    {
     "data": {
      "text/plain": [
       "LinearRegression()"
      ]
     },
     "execution_count": 79,
     "metadata": {},
     "output_type": "execute_result"
    }
   ],
   "source": [
    "#we train the model : use fit() inbuilt function of LinearRegression class\n",
    "#fit() passing arguments/parameters which pass input and labeeled output(70%)\n",
    "lr.fit(X_train,Y_train)"
   ]
  },
  {
   "cell_type": "code",
   "execution_count": 80,
   "metadata": {},
   "outputs": [],
   "source": [
    "#Test the model means use inbuilt function predict()  : inbuilt method of\n",
    "#LinearRegression class\n",
    "#perform testing\n",
    "y_pred=lr.predict(X_test) #y_pred=m1*x_test_TV+m2*X_test_radio+b"
   ]
  },
  {
   "cell_type": "code",
   "execution_count": 81,
   "metadata": {},
   "outputs": [
    {
     "data": {
      "text/plain": [
       "array([0.04697554, 0.17765046])"
      ]
     },
     "execution_count": 81,
     "metadata": {},
     "output_type": "execute_result"
    }
   ],
   "source": [
    "#check slope means coefficient \n",
    "lr.coef_    #remain same as previous if remove input newspaper \n",
    "#means no any effect of newspaper for prediction of sales"
   ]
  },
  {
   "cell_type": "code",
   "execution_count": 82,
   "metadata": {},
   "outputs": [
    {
     "data": {
      "text/plain": [
       "2.9647671191401574"
      ]
     },
     "execution_count": 82,
     "metadata": {},
     "output_type": "execute_result"
    }
   ],
   "source": [
    "#find intercept\n",
    "lr.intercept_    #intercept remain same as previous if take TV,radio and newspaper "
   ]
  },
  {
   "cell_type": "code",
   "execution_count": 83,
   "metadata": {},
   "outputs": [
    {
     "name": "stdout",
     "output_type": "stream",
     "text": [
      "Mean_Squared_Error :  1.9147050289721803\n"
     ]
    }
   ],
   "source": [
    "MSE=mean_squared_error(Y_test,y_pred)#mean_squared_error() inbuilt function\n",
    "#which define in inbuilt class mean_squared_error , it is passing arguments\n",
    "#type function\n",
    "print(\"Mean_Squared_Error : \",MSE)"
   ]
  },
  {
   "cell_type": "code",
   "execution_count": 84,
   "metadata": {},
   "outputs": [
    {
     "name": "stdout",
     "output_type": "stream",
     "text": [
      "R2-score :  0.92303218502568\n"
     ]
    }
   ],
   "source": [
    "score=r2_score(Y_test,y_pred)\n",
    "print(\"R2-score : \",score)  #range of r2-score :   0 to +1 \n",
    "#it is very good score because nearest to +1 "
   ]
  },
  {
   "cell_type": "code",
   "execution_count": 85,
   "metadata": {},
   "outputs": [],
   "source": [
    "#here r2-score is best because nearest to +1 and MSE is very low means we\n",
    "#create a successful model "
   ]
  },
  {
   "cell_type": "code",
   "execution_count": 86,
   "metadata": {},
   "outputs": [
    {
     "data": {
      "text/plain": [
       "'1. should not be Multicolinearity in linear regression  \\n Solve this assumption .means we removed the Multicolinearity situation\\n 2. Assumption :  Linear relationship means There should be a linear relation\\n ship. \\n when does linear relation do best work ? \\n where got better relationship \\n \\n we cannot see 3D graph on system so we have some hack(trick) , how to \\n check input and output both are related or not\\n we calculate the residual (this is error means \\n Residual =(actual output-predicted output)\\n '"
      ]
     },
     "execution_count": 86,
     "metadata": {},
     "output_type": "execute_result"
    }
   ],
   "source": [
    "#But \n",
    "# Assumptions of Linear Regression : -\n",
    "'''1. should not be Multicolinearity in linear regression  \n",
    " Solve this assumption .means we removed the Multicolinearity situation\n",
    " 2. Assumption :  Linear relationship means There should be a linear relation\n",
    " ship. \n",
    " when does linear relation do best work ? \n",
    " where got better relationship \n",
    " \n",
    " we cannot see 3D graph on system so we have some hack(trick) , how to \n",
    " check input and output both are related or not\n",
    " we calculate the residual (this is error means \n",
    " Residual =(actual output-predicted output)\n",
    " '''"
   ]
  },
  {
   "cell_type": "code",
   "execution_count": 87,
   "metadata": {},
   "outputs": [
    {
     "name": "stdout",
     "output_type": "stream",
     "text": [
      "58     2.121325\n",
      "40     0.161080\n",
      "34     1.790963\n",
      "102   -3.121584\n",
      "184   -1.071115\n",
      "198    1.751649\n",
      "95     0.650372\n",
      "4     -0.476570\n",
      "29     1.376352\n",
      "168   -0.175850\n",
      "171    0.094861\n",
      "18     1.442691\n",
      "11     0.085973\n",
      "89     0.085626\n",
      "110   -1.628579\n",
      "118    0.475105\n",
      "159    0.479785\n",
      "35    -4.548925\n",
      "136   -1.595709\n",
      "59     0.296797\n",
      "51     1.313444\n",
      "16    -0.151716\n",
      "44    -0.209470\n",
      "94     1.002953\n",
      "31     0.540576\n",
      "162   -0.130433\n",
      "38     0.367320\n",
      "28    -0.566610\n",
      "193    1.338393\n",
      "27    -1.310358\n",
      "47     1.593306\n",
      "165   -2.684544\n",
      "194    0.978638\n",
      "177   -0.645678\n",
      "176    0.201464\n",
      "97     0.118795\n",
      "174   -2.516140\n",
      "73     0.943990\n",
      "69     1.352080\n",
      "172    0.143738\n",
      "108    1.648793\n",
      "107    1.435349\n",
      "189    0.707220\n",
      "14     0.602824\n",
      "56    -2.799666\n",
      "19     0.469889\n",
      "114   -0.352296\n",
      "39     1.127387\n",
      "185    1.993211\n",
      "124    0.216236\n",
      "98     1.311803\n",
      "123    0.305838\n",
      "119   -0.118500\n",
      "53     1.450047\n",
      "33    -1.594481\n",
      "179    0.079578\n",
      "181   -1.988236\n",
      "106    1.106689\n",
      "199   -1.995585\n",
      "138    0.014138\n",
      "Name: sales, dtype: float64\n"
     ]
    }
   ],
   "source": [
    "#find the residuals \n",
    "residuals=Y_test-y_pred\n",
    "print(residuals)"
   ]
  },
  {
   "cell_type": "code",
   "execution_count": 88,
   "metadata": {},
   "outputs": [
    {
     "name": "stdout",
     "output_type": "stream",
     "text": [
      "[21.6786746  16.43892004  7.70903733 17.92158421 18.67111499 23.74835071\n",
      " 16.24962798 13.37657045  9.12364788 17.27585015 14.40513872  9.85730919\n",
      " 17.31402746 16.61437382 15.02857874 15.42489496 12.42021473 17.34892466\n",
      " 11.09570896 18.10320281  9.38655615 12.65171582  8.70947008 10.49704698\n",
      " 11.35942404 15.03043294  9.73268033 19.46660993 18.26160716 17.21035792\n",
      " 21.60669421 14.58454377 16.32136242 12.3456783  19.99853614 15.38120487\n",
      " 14.01613968 10.05601014 20.94792024  7.45626202  3.65120693  7.26465144\n",
      "  5.99278035 18.39717578  8.2996665  14.13011074 14.95229617 20.37261349\n",
      " 20.60678937 19.48376432 24.08819667 14.89416249  6.71850002 19.74995269\n",
      " 18.99448081 12.52042181 14.18823598  6.09331077 15.39558485  9.58586241]\n"
     ]
    }
   ],
   "source": [
    "print(y_pred)"
   ]
  },
  {
   "cell_type": "code",
   "execution_count": 89,
   "metadata": {},
   "outputs": [
    {
     "data": {
      "image/png": "[encoded data removed]",
      "text/plain": [
       "<Figure size 432x288 with 1 Axes>"
      ]
     },
     "metadata": {
      "needs_background": "light"
     },
     "output_type": "display_data"
    }
   ],
   "source": [
    "#visualize scatterplot between y_pred and residuals means \n",
    "#here input x=y_pred  and y=residuals because residuals depend on y_pred value\n",
    "plt.figure()\n",
    "sns.scatterplot(y_pred,residuals)\n",
    "\n",
    "plt.show()"
   ]
  },
  {
   "cell_type": "code",
   "execution_count": 90,
   "metadata": {},
   "outputs": [],
   "source": [
    "# in above scatterplot, This is not a linear relation means this assumption \n",
    "#not fullfill"
   ]
  },
  {
   "cell_type": "code",
   "execution_count": 91,
   "metadata": {},
   "outputs": [
    {
     "data": {
      "image/png": "[encoded data removed]",
      "text/plain": [
       "<Figure size 432x288 with 1 Axes>"
      ]
     },
     "metadata": {
      "needs_background": "light"
     },
     "output_type": "display_data"
    }
   ],
   "source": [
    "#3 Assumption of linear regression : - Residuals should be normally distributed\n",
    "#curve means data should be euqally divide on both sides.\n",
    "#normal distributed curve then use inbuilt function displot() of seaborn\n",
    "#library ,distplot is also known as frequency graph\n",
    "plt.figure()\n",
    "sns.distplot(residuals)\n",
    "plt.show()\n"
   ]
  },
  {
   "cell_type": "code",
   "execution_count": 92,
   "metadata": {},
   "outputs": [],
   "source": [
    "#In above distplot curve , -ve skewness found means no normal distributed curve\n",
    "#found means it is a as-symmetric curve means this assumption is not fullfill\n"
   ]
  },
  {
   "cell_type": "code",
   "execution_count": 93,
   "metadata": {},
   "outputs": [],
   "source": [
    "#find skewness :- if skew=0 then found normal distributed curve means \n",
    "#symmetric curve or bell shaped curve\n",
    "#if skew!=0 then found as-symmetric curve means no normal distributed curve"
   ]
  },
  {
   "cell_type": "code",
   "execution_count": 94,
   "metadata": {},
   "outputs": [
    {
     "name": "stdout",
     "output_type": "stream",
     "text": [
      "skew ness :  -1.0659881179692083\n"
     ]
    }
   ],
   "source": [
    "from scipy.stats import skew\n",
    "print(\"skew ness : \",skew(residuals))"
   ]
  },
  {
   "cell_type": "code",
   "execution_count": 95,
   "metadata": {},
   "outputs": [],
   "source": [
    "#4. Assumption of linear regression : -\n",
    "#relation should be HOMOSKEDAStik : means datapoints are closely each other\n",
    "#should not by Heteroskedastic  means should not be scattered\n",
    "#if linear relationship occurs"
   ]
  },
  {
   "cell_type": "code",
   "execution_count": 96,
   "metadata": {},
   "outputs": [],
   "source": [
    "#here we handled multicolinearity (removed multicolinearity (problem)\n",
    "#but not working 3 assumption \n",
    "#means no relation relationship means here create a curve\n",
    "# no normal distributed curve"
   ]
  },
  {
   "cell_type": "code",
   "execution_count": 97,
   "metadata": {},
   "outputs": [],
   "source": [
    "#increase the degress of X means increase the power of X means independent vairable\n",
    "#if increasing the degree or power of independent variable then It is called\n",
    "#polynomial Linear regression(PLR)"
   ]
  },
  {
   "cell_type": "code",
   "execution_count": 98,
   "metadata": {},
   "outputs": [],
   "source": [
    "#Polynomial Linear Regression \n",
    "#demo of PLR\n",
    "#create user defined function for different power of independent variable\n",
    "#Linear  means degree/power=1 of IV\n",
    "def poly_1(X):  #here poly_1()  user defined function it is passing argument \n",
    "    #and return value and here X independent variable\n",
    "    m=4  #assign slope or coefficient m=4\n",
    "    b=5  #suppose intercept b=5\n",
    "    Y=m*X+b   #Y=mx+b because power of X=1 , here Y dependent variable\n",
    "    return Y"
   ]
  },
  {
   "cell_type": "code",
   "execution_count": 99,
   "metadata": {},
   "outputs": [
    {
     "name": "stdout",
     "output_type": "stream",
     "text": [
      "[-100  -99  -98  -97  -96  -95  -94  -93  -92  -91  -90  -89  -88  -87\n",
      "  -86  -85  -84  -83  -82  -81  -80  -79  -78  -77  -76  -75  -74  -73\n",
      "  -72  -71  -70  -69  -68  -67  -66  -65  -64  -63  -62  -61  -60  -59\n",
      "  -58  -57  -56  -55  -54  -53  -52  -51  -50  -49  -48  -47  -46  -45\n",
      "  -44  -43  -42  -41  -40  -39  -38  -37  -36  -35  -34  -33  -32  -31\n",
      "  -30  -29  -28  -27  -26  -25  -24  -23  -22  -21  -20  -19  -18  -17\n",
      "  -16  -15  -14  -13  -12  -11  -10   -9   -8   -7   -6   -5   -4   -3\n",
      "   -2   -1    0    1    2    3    4    5    6    7    8    9   10   11\n",
      "   12   13   14   15   16   17   18   19   20   21   22   23   24   25\n",
      "   26   27   28   29   30   31   32   33   34   35   36   37   38   39\n",
      "   40   41   42   43   44   45   46   47   48   49   50   51   52   53\n",
      "   54   55   56   57   58   59   60   61   62   63   64   65   66   67\n",
      "   68   69   70   71   72   73   74   75   76   77   78   79   80   81\n",
      "   82   83   84   85   86   87   88   89   90   91   92   93   94   95\n",
      "   96   97   98   99]\n"
     ]
    }
   ],
   "source": [
    "#create numpy 1D array\n",
    "X=np.arange(-100,100) #arange() inbuilt function here start=-100 ,\n",
    "#stop=100-1=99 and step=+1 by defualt X=-100,-99,-98,....0,2,3,....99\n",
    "print(X)"
   ]
  },
  {
   "cell_type": "code",
   "execution_count": 100,
   "metadata": {},
   "outputs": [
    {
     "data": {
      "image/png": "[encoded data removed]",
      "text/plain": [
       "<Figure size 432x288 with 1 Axes>"
      ]
     },
     "metadata": {
      "needs_background": "light"
     },
     "output_type": "display_data"
    }
   ],
   "source": [
    "#call function poly_1\n",
    "Y=poly_1(X) #Y dependent variable\n",
    "#visualise the graph \n",
    "plt.plot(X,Y)  #plot() inbuilt function matplotlib.pyplot class\n",
    "plt.xlabel(\"X\")\n",
    "plt.ylabel(\"Y\")\n",
    "plt.title(\"Linear Graph\")\n",
    "plt.show()"
   ]
  },
  {
   "cell_type": "code",
   "execution_count": 101,
   "metadata": {},
   "outputs": [],
   "source": [
    "#Quadratic if degree/power of independent variavle X=2\n",
    "def poly_2(X): #here poly_2()  user defined function it is passing argument \n",
    "    #and return value and here X independent variable\n",
    "    m1=6 #suppose coefficient of X^2 =m1\n",
    "    m2=4 #suppose coefficient of X^1 =m2\n",
    "    b=5  #suppose intercept b=5\n",
    "    Y=m1*X**2+m2*X+b\n",
    "    #quadratix equation ax^2+bx+c=0 means a=m1 b=m2 c=b\n",
    "    return Y"
   ]
  },
  {
   "cell_type": "code",
   "execution_count": 102,
   "metadata": {},
   "outputs": [
    {
     "data": {
      "image/png": "[encoded data removed]",
      "text/plain": [
       "<Figure size 432x288 with 1 Axes>"
      ]
     },
     "metadata": {
      "needs_background": "light"
     },
     "output_type": "display_data"
    }
   ],
   "source": [
    "#call function\n",
    "#call function poly_2\n",
    "Y=poly_2(X) #Y dependent variable\n",
    "#visualise the graph \n",
    "plt.plot(X,Y)  #plot() inbuilt function matplotlib.pyplot class\n",
    "plt.xlabel(\"X\")\n",
    "plt.ylabel(\"Y\")\n",
    "plt.title(\"Quadratic Graph\")\n",
    "plt.show()"
   ]
  },
  {
   "cell_type": "code",
   "execution_count": 103,
   "metadata": {},
   "outputs": [],
   "source": [
    "#Cubic if degree/power of independent variavle X=3\n",
    "def poly_3(X): #here poly_3()  user defined function it is passing argument \n",
    "    #and return value and here X independent variable\n",
    "    m1=8 #suppose coefficient of X^3 =m1\n",
    "    m2=6 #suppose coefficient of X^2 =m2\n",
    "    m3=4 #suppose coefficient of X^1 =m3\n",
    "    b=5  #suppose intercept b=5\n",
    "    Y=m1*X**3+m2*X**2+m3*X+b\n",
    "    #cubic equation ax^3+bx^2+cx^1+d=0 means a=m1 b=m2 c=m3 and d=intercept=b\n",
    "    return Y"
   ]
  },
  {
   "cell_type": "code",
   "execution_count": 104,
   "metadata": {},
   "outputs": [
    {
     "data": {
      "image/png": "[encoded data removed]",
      "text/plain": [
       "<Figure size 432x288 with 1 Axes>"
      ]
     },
     "metadata": {
      "needs_background": "light"
     },
     "output_type": "display_data"
    }
   ],
   "source": [
    "#call function\n",
    "#call function poly_3\n",
    "Y=poly_3(X) #Y dependent variable\n",
    "#visualise the graph \n",
    "plt.plot(X,Y)  #plot() inbuilt function matplotlib.pyplot class\n",
    "plt.xlabel(\"X\")\n",
    "plt.ylabel(\"Y\")\n",
    "plt.title(\"Cubic Graph\")\n",
    "plt.show()"
   ]
  },
  {
   "cell_type": "code",
   "execution_count": 105,
   "metadata": {},
   "outputs": [],
   "source": [
    "#we work on dataset \n",
    "#apply polynomial linear regression means increase the degree of independent\n",
    "#variable X means degree=2 \n",
    "#equation : ax2+bx+c=0  here 2 inputs ax1**2+bx1+cx2**2+dx2+e\n",
    "#here we have 2 inputs : - X=TV,radio means X1=\"TV\" and X2=\"radio\"\n",
    "#eq. m1*TV**2+m2*TV**1+m3*radio**2+m4*radio**1+b"
   ]
  },
  {
   "cell_type": "code",
   "execution_count": 106,
   "metadata": {},
   "outputs": [],
   "source": [
    "#call PolynomialFeatures inbuilt class \n",
    "from sklearn.preprocessing import PolynomialFeatures"
   ]
  },
  {
   "cell_type": "code",
   "execution_count": 107,
   "metadata": {},
   "outputs": [],
   "source": [
    "#select X and Y variables\n",
    "X=df[[\"TV\",\"radio\"]]\n",
    "Y=df[\"sales\"]"
   ]
  },
  {
   "cell_type": "code",
   "execution_count": 108,
   "metadata": {},
   "outputs": [],
   "source": [
    "#create the object of PolynomialFeatures\n",
    "pf=PolynomialFeatures(3)#here 3 means pass degree means how much degree/power\n",
    "#of X"
   ]
  },
  {
   "cell_type": "code",
   "execution_count": 109,
   "metadata": {},
   "outputs": [],
   "source": [
    "#we create polynomial version of X so we call fit_transform() : inbuilt\n",
    "#method of PolynomialFeatures class\n",
    "X_poly=pf.fit_transform(X)  #m1*TV**2+m2*TV**1+m3*radio**2+m4*radio**1+b"
   ]
  },
  {
   "cell_type": "code",
   "execution_count": 110,
   "metadata": {},
   "outputs": [],
   "source": [
    "#train_test_split() means 70%,30%\n",
    "X_train,X_test,Y_train,Y_test=train_test_split(X_poly,Y,test_size=0.3,random_state=1)"
   ]
  },
  {
   "cell_type": "code",
   "execution_count": 111,
   "metadata": {},
   "outputs": [],
   "source": [
    "#create the object of LinearRegression class\n",
    "lr=LinearRegression()"
   ]
  },
  {
   "cell_type": "code",
   "execution_count": 112,
   "metadata": {},
   "outputs": [
    {
     "data": {
      "text/plain": [
       "LinearRegression()"
      ]
     },
     "execution_count": 112,
     "metadata": {},
     "output_type": "execute_result"
    }
   ],
   "source": [
    "#we train the model\n",
    "lr.fit(X_train,Y_train)"
   ]
  },
  {
   "cell_type": "code",
   "execution_count": 113,
   "metadata": {},
   "outputs": [],
   "source": [
    "#we testing the model\n",
    "y_pred=lr.predict(X_test)"
   ]
  },
  {
   "cell_type": "code",
   "execution_count": 114,
   "metadata": {},
   "outputs": [
    {
     "name": "stdout",
     "output_type": "stream",
     "text": [
      "Mean_Squared_Error :  0.14469078647701522\n"
     ]
    }
   ],
   "source": [
    "#check mean_squared_error\n",
    "MSE=mean_squared_error(Y_test,y_pred)#mean_squared_error() inbuilt function\n",
    "#which define in inbuilt class mean_squared_error , it is passing arguments\n",
    "#type function\n",
    "print(\"Mean_Squared_Error : \",MSE)"
   ]
  },
  {
   "cell_type": "code",
   "execution_count": 115,
   "metadata": {},
   "outputs": [],
   "source": [
    "#MSE error is very less means model is great"
   ]
  },
  {
   "cell_type": "code",
   "execution_count": 116,
   "metadata": {},
   "outputs": [
    {
     "name": "stdout",
     "output_type": "stream",
     "text": [
      "R2-score :  0.9941836818133654\n"
     ]
    }
   ],
   "source": [
    "#Evaluation of model \n",
    "score=r2_score(Y_test,y_pred)\n",
    "print(\"R2-score : \",score)  #range of r2-score :   0 to +1 \n",
    "#it is very good score because nearest to +1 "
   ]
  },
  {
   "cell_type": "code",
   "execution_count": 117,
   "metadata": {},
   "outputs": [],
   "source": [
    "#Great r2-score  It is closest to +1 "
   ]
  },
  {
   "cell_type": "code",
   "execution_count": 118,
   "metadata": {},
   "outputs": [],
   "source": [
    "#work on assumption \n",
    "#create the Normal distributed curve with the help of residuals\n",
    "#find residuals\n",
    "residuals=Y_test-y_pred"
   ]
  },
  {
   "cell_type": "code",
   "execution_count": 119,
   "metadata": {},
   "outputs": [
    {
     "name": "stdout",
     "output_type": "stream",
     "text": [
      "skew ness :  0.06955995143564175\n"
     ]
    },
    {
     "data": {
      "image/png": "[encoded data removed]",
      "text/plain": [
       "<Figure size 432x288 with 1 Axes>"
      ]
     },
     "metadata": {
      "needs_background": "light"
     },
     "output_type": "display_data"
    }
   ],
   "source": [
    "#3 Assumption of linear regression : - Residuals should be normally distributed\n",
    "#curve means data should be euqally divide on both sides.\n",
    "#normal distributed curve then use inbuilt function displot() of seaborn\n",
    "#library ,distplot is also known as frequency graph\n",
    "print(\"skew ness : \",skew(residuals))\n",
    "plt.figure()\n",
    "sns.distplot(residuals)\n",
    "plt.show()"
   ]
  },
  {
   "cell_type": "code",
   "execution_count": 120,
   "metadata": {},
   "outputs": [],
   "source": [
    "#here got Normal distributed curve means this assumption of linear regression \n",
    "#is fullfill"
   ]
  },
  {
   "cell_type": "code",
   "execution_count": 121,
   "metadata": {},
   "outputs": [
    {
     "data": {
      "image/png": "[encoded data removed]",
      "text/plain": [
       "<Figure size 432x288 with 1 Axes>"
      ]
     },
     "metadata": {
      "needs_background": "light"
     },
     "output_type": "display_data"
    }
   ],
   "source": [
    "#Work on next assumption of linear regression\n",
    "# there should be linear relationship\n",
    "plt.figure()\n",
    "sns.scatterplot(y_pred,residuals)\n",
    "plt.show()"
   ]
  },
  {
   "cell_type": "code",
   "execution_count": 122,
   "metadata": {},
   "outputs": [],
   "source": [
    "#here this is linear relation ship between residuals and y_pred \n",
    "#means input and output are related to each other\n",
    "#but datpoints are scattered means heteroskadastic "
   ]
  }
 ],
 "metadata": {
  "kernelspec": {
   "display_name": "Python 3",
   "language": "python",
   "name": "python3"
  },
  "language_info": {
   "codemirror_mode": {
    "name": "ipython",
    "version": 3
   },
   "file_extension": ".py",
   "mimetype": "text/x-python",
   "name": "python",
   "nbconvert_exporter": "python",
   "pygments_lexer": "ipython3",
   "version": "3.7.3"
  }
 },
 "nbformat": 4,
 "nbformat_minor": 2
}
