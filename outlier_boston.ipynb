{
 "cells": [
  {
   "cell_type": "code",
   "execution_count": 1,
   "metadata": {},
   "outputs": [],
   "source": [
    "import pandas as pd\n",
    "import numpy as np\n",
    "import seaborn as sns\n",
    "import matplotlib.pyplot as plt"
   ]
  },
  {
   "cell_type": "code",
   "execution_count": 2,
   "metadata": {},
   "outputs": [],
   "source": [
    "from sklearn.datasets import load_boston\n",
    "boston=load_boston()"
   ]
  },
  {
   "cell_type": "code",
   "execution_count": 3,
   "metadata": {},
   "outputs": [
    {
     "name": "stdout",
     "output_type": "stream",
     "text": [
      "(506, 13)\n"
     ]
    }
   ],
   "source": [
    "print(boston.data.shape)\n"
   ]
  },
  {
   "cell_type": "code",
   "execution_count": 4,
   "metadata": {},
   "outputs": [
    {
     "name": "stdout",
     "output_type": "stream",
     "text": [
      "['CRIM' 'ZN' 'INDUS' 'CHAS' 'NOX' 'RM' 'AGE' 'DIS' 'RAD' 'TAX' 'PTRATIO'\n",
      " 'B' 'LSTAT']\n"
     ]
    }
   ],
   "source": [
    "print(boston.feature_names)"
   ]
  },
  {
   "cell_type": "code",
   "execution_count": 5,
   "metadata": {},
   "outputs": [],
   "source": [
    "boston=pd.DataFrame(boston.data)"
   ]
  },
  {
   "cell_type": "code",
   "execution_count": 6,
   "metadata": {},
   "outputs": [
    {
     "data": {
      "text/html": [
       "<div>\n",
       "<style scoped>\n",
       "    .dataframe tbody tr th:only-of-type {\n",
       "        vertical-align: middle;\n",
       "    }\n",
       "\n",
       "    .dataframe tbody tr th {\n",
       "        vertical-align: top;\n",
       "    }\n",
       "\n",
       "    .dataframe thead th {\n",
       "        text-align: right;\n",
       "    }\n",
       "</style>\n",
       "<table border=\"1\" class=\"dataframe\">\n",
       "  <thead>\n",
       "    <tr style=\"text-align: right;\">\n",
       "      <th></th>\n",
       "      <th>0</th>\n",
       "      <th>1</th>\n",
       "      <th>2</th>\n",
       "      <th>3</th>\n",
       "      <th>4</th>\n",
       "      <th>5</th>\n",
       "      <th>6</th>\n",
       "      <th>7</th>\n",
       "      <th>8</th>\n",
       "      <th>9</th>\n",
       "      <th>10</th>\n",
       "      <th>11</th>\n",
       "      <th>12</th>\n",
       "    </tr>\n",
       "  </thead>\n",
       "  <tbody>\n",
       "    <tr>\n",
       "      <th>0</th>\n",
       "      <td>0.00632</td>\n",
       "      <td>18.0</td>\n",
       "      <td>2.31</td>\n",
       "      <td>0.0</td>\n",
       "      <td>0.538</td>\n",
       "      <td>6.575</td>\n",
       "      <td>65.2</td>\n",
       "      <td>4.0900</td>\n",
       "      <td>1.0</td>\n",
       "      <td>296.0</td>\n",
       "      <td>15.3</td>\n",
       "      <td>396.90</td>\n",
       "      <td>4.98</td>\n",
       "    </tr>\n",
       "    <tr>\n",
       "      <th>1</th>\n",
       "      <td>0.02731</td>\n",
       "      <td>0.0</td>\n",
       "      <td>7.07</td>\n",
       "      <td>0.0</td>\n",
       "      <td>0.469</td>\n",
       "      <td>6.421</td>\n",
       "      <td>78.9</td>\n",
       "      <td>4.9671</td>\n",
       "      <td>2.0</td>\n",
       "      <td>242.0</td>\n",
       "      <td>17.8</td>\n",
       "      <td>396.90</td>\n",
       "      <td>9.14</td>\n",
       "    </tr>\n",
       "    <tr>\n",
       "      <th>2</th>\n",
       "      <td>0.02729</td>\n",
       "      <td>0.0</td>\n",
       "      <td>7.07</td>\n",
       "      <td>0.0</td>\n",
       "      <td>0.469</td>\n",
       "      <td>7.185</td>\n",
       "      <td>61.1</td>\n",
       "      <td>4.9671</td>\n",
       "      <td>2.0</td>\n",
       "      <td>242.0</td>\n",
       "      <td>17.8</td>\n",
       "      <td>392.83</td>\n",
       "      <td>4.03</td>\n",
       "    </tr>\n",
       "    <tr>\n",
       "      <th>3</th>\n",
       "      <td>0.03237</td>\n",
       "      <td>0.0</td>\n",
       "      <td>2.18</td>\n",
       "      <td>0.0</td>\n",
       "      <td>0.458</td>\n",
       "      <td>6.998</td>\n",
       "      <td>45.8</td>\n",
       "      <td>6.0622</td>\n",
       "      <td>3.0</td>\n",
       "      <td>222.0</td>\n",
       "      <td>18.7</td>\n",
       "      <td>394.63</td>\n",
       "      <td>2.94</td>\n",
       "    </tr>\n",
       "    <tr>\n",
       "      <th>4</th>\n",
       "      <td>0.06905</td>\n",
       "      <td>0.0</td>\n",
       "      <td>2.18</td>\n",
       "      <td>0.0</td>\n",
       "      <td>0.458</td>\n",
       "      <td>7.147</td>\n",
       "      <td>54.2</td>\n",
       "      <td>6.0622</td>\n",
       "      <td>3.0</td>\n",
       "      <td>222.0</td>\n",
       "      <td>18.7</td>\n",
       "      <td>396.90</td>\n",
       "      <td>5.33</td>\n",
       "    </tr>\n",
       "  </tbody>\n",
       "</table>\n",
       "</div>"
      ],
      "text/plain": [
       "        0     1     2    3      4      5     6       7    8      9     10  \\\n",
       "0  0.00632  18.0  2.31  0.0  0.538  6.575  65.2  4.0900  1.0  296.0  15.3   \n",
       "1  0.02731   0.0  7.07  0.0  0.469  6.421  78.9  4.9671  2.0  242.0  17.8   \n",
       "2  0.02729   0.0  7.07  0.0  0.469  7.185  61.1  4.9671  2.0  242.0  17.8   \n",
       "3  0.03237   0.0  2.18  0.0  0.458  6.998  45.8  6.0622  3.0  222.0  18.7   \n",
       "4  0.06905   0.0  2.18  0.0  0.458  7.147  54.2  6.0622  3.0  222.0  18.7   \n",
       "\n",
       "       11    12  \n",
       "0  396.90  4.98  \n",
       "1  396.90  9.14  \n",
       "2  392.83  4.03  \n",
       "3  394.63  2.94  \n",
       "4  396.90  5.33  "
      ]
     },
     "execution_count": 6,
     "metadata": {},
     "output_type": "execute_result"
    }
   ],
   "source": [
    "boston.head()"
   ]
  },
  {
   "cell_type": "code",
   "execution_count": 7,
   "metadata": {},
   "outputs": [
    {
     "data": {
      "image/png": "[encoded data removed]",
      "text/plain": [
       "<Figure size 432x288 with 1 Axes>"
      ]
     },
     "metadata": {
      "needs_background": "light"
     },
     "output_type": "display_data"
    }
   ],
   "source": [
    "sns.boxplot(boston[7])\n",
    "plt.show()"
   ]
  },
  {
   "cell_type": "code",
   "execution_count": 8,
   "metadata": {},
   "outputs": [
    {
     "data": {
      "text/plain": [
       "'majority of datapoints in this section \\nvalues are not outlier which are enclosed in this boundary lower whisker and\\nupper whisker boundaries and majority of datapoints in this section(fill) and \\noutside the boundaries points are outlier there are 3 points to find outliers\\nbetween 10 and 12'"
      ]
     },
     "execution_count": 8,
     "metadata": {},
     "output_type": "execute_result"
    }
   ],
   "source": [
    "'''majority of datapoints in this section \n",
    "values are not outlier which are enclosed in this boundary lower whisker and\n",
    "upper whisker boundaries and majority of datapoints in this section(fill) and \n",
    "outside the boundaries points are outlier there are 3 points to find outliers\n",
    "between 10 and 12'''"
   ]
  },
  {
   "cell_type": "code",
   "execution_count": 9,
   "metadata": {},
   "outputs": [],
   "source": [
    "boston_c=boston"
   ]
  },
  {
   "cell_type": "code",
   "execution_count": 10,
   "metadata": {},
   "outputs": [],
   "source": [
    "from scipy import stats"
   ]
  },
  {
   "cell_type": "code",
   "execution_count": 11,
   "metadata": {},
   "outputs": [],
   "source": [
    "zscore=np.abs(stats.zscore(boston_c))"
   ]
  },
  {
   "cell_type": "code",
   "execution_count": 12,
   "metadata": {},
   "outputs": [
    {
     "name": "stdout",
     "output_type": "stream",
     "text": [
      "[[0.41978194 0.28482986 1.2879095  ... 1.45900038 0.44105193 1.0755623 ]\n",
      " [0.41733926 0.48772236 0.59338101 ... 0.30309415 0.44105193 0.49243937]\n",
      " [0.41734159 0.48772236 0.59338101 ... 0.30309415 0.39642699 1.2087274 ]\n",
      " ...\n",
      " [0.41344658 0.48772236 0.11573841 ... 1.17646583 0.44105193 0.98304761]\n",
      " [0.40776407 0.48772236 0.11573841 ... 1.17646583 0.4032249  0.86530163]\n",
      " [0.41500016 0.48772236 0.11573841 ... 1.17646583 0.44105193 0.66905833]]\n"
     ]
    }
   ],
   "source": [
    "print(zscore)"
   ]
  },
  {
   "cell_type": "code",
   "execution_count": 13,
   "metadata": {},
   "outputs": [
    {
     "data": {
      "text/plain": [
       "'this values show very difficult to find which points are outlier\\nso lets defined thershold to identify the outlier'"
      ]
     },
     "execution_count": 13,
     "metadata": {},
     "output_type": "execute_result"
    }
   ],
   "source": [
    "'''this values show very difficult to find which points are outlier\n",
    "so lets defined thershold to identify the outlier'''"
   ]
  },
  {
   "cell_type": "code",
   "execution_count": 14,
   "metadata": {},
   "outputs": [
    {
     "name": "stdout",
     "output_type": "stream",
     "text": [
      "(array([ 55,  56,  57, 102, 141, 142, 152, 154, 155, 160, 162, 163, 199,\n",
      "       200, 201, 202, 203, 204, 208, 209, 210, 211, 212, 216, 218, 219,\n",
      "       220, 221, 222, 225, 234, 236, 256, 257, 262, 269, 273, 274, 276,\n",
      "       277, 282, 283, 283, 284, 347, 351, 352, 353, 353, 354, 355, 356,\n",
      "       357, 358, 363, 364, 364, 365, 367, 369, 370, 372, 373, 374, 374,\n",
      "       380, 398, 404, 405, 406, 410, 410, 411, 412, 412, 414, 414, 415,\n",
      "       416, 418, 418, 419, 423, 424, 425, 426, 427, 427, 429, 431, 436,\n",
      "       437, 438, 445, 450, 454, 455, 456, 457, 466], dtype=int64), array([ 1,  1,  1, 11, 12,  3,  3,  3,  3,  3,  3,  3,  1,  1,  1,  1,  1,\n",
      "        1,  3,  3,  3,  3,  3,  3,  3,  3,  3,  3,  3,  5,  3,  3,  1,  5,\n",
      "        5,  3,  3,  3,  3,  3,  3,  1,  3,  1,  1,  7,  7,  1,  7,  7,  7,\n",
      "        3,  3,  3,  3,  3,  5,  5,  5,  3,  3,  3, 12,  5, 12,  0,  0,  0,\n",
      "        0,  5,  0, 11, 11, 11, 12,  0, 12, 11, 11,  0, 11, 11, 11, 11, 11,\n",
      "       11,  0, 11, 11, 11, 11, 11, 11, 11, 11, 11, 11, 11, 11, 11],\n",
      "      dtype=int64))\n"
     ]
    }
   ],
   "source": [
    "threshold=3\n",
    "print(np.where(zscore>3))"
   ]
  },
  {
   "cell_type": "code",
   "execution_count": 15,
   "metadata": {},
   "outputs": [
    {
     "data": {
      "text/plain": [
       "'first of array represent the rows numbers and next array are\\nthe column address'"
      ]
     },
     "execution_count": 15,
     "metadata": {},
     "output_type": "execute_result"
    }
   ],
   "source": [
    "'''first of array represent the rows numbers and next array are\n",
    "the column address'''"
   ]
  },
  {
   "cell_type": "code",
   "execution_count": 16,
   "metadata": {},
   "outputs": [
    {
     "name": "stdout",
     "output_type": "stream",
     "text": [
      "3.134425327914092\n"
     ]
    }
   ],
   "source": [
    "print(zscore[102][11])  #this is the outlier value"
   ]
  },
  {
   "cell_type": "code",
   "execution_count": 17,
   "metadata": {},
   "outputs": [],
   "source": [
    "#Another method(mathmatical method to find outlier)\n",
    "boston_iqr=boston"
   ]
  },
  {
   "cell_type": "code",
   "execution_count": 18,
   "metadata": {},
   "outputs": [
    {
     "name": "stdout",
     "output_type": "stream",
     "text": [
      "0       3.595038\n",
      "1      12.500000\n",
      "2      12.910000\n",
      "3       0.000000\n",
      "4       0.175000\n",
      "5       0.738000\n",
      "6      49.050000\n",
      "7       3.088250\n",
      "8      20.000000\n",
      "9     387.000000\n",
      "10      2.800000\n",
      "11     20.847500\n",
      "12     10.005000\n",
      "dtype: float64\n"
     ]
    }
   ],
   "source": [
    "Q1=boston_iqr.quantile(.25)\n",
    "Q3=boston_iqr.quantile(.75)\n",
    "IQR=Q3-Q1\n",
    "print(IQR)\n"
   ]
  },
  {
   "cell_type": "code",
   "execution_count": 19,
   "metadata": {
    "scrolled": false
   },
   "outputs": [
    {
     "name": "stdout",
     "output_type": "stream",
     "text": [
      "        0      1      2      3      4      5      6      7      8      9   \\\n",
      "0    False  False  False  False  False  False  False  False  False  False   \n",
      "1    False  False  False  False  False  False  False  False  False  False   \n",
      "2    False  False  False  False  False  False  False  False  False  False   \n",
      "3    False  False  False  False  False  False  False  False  False  False   \n",
      "4    False  False  False  False  False  False  False  False  False  False   \n",
      "5    False  False  False  False  False  False  False  False  False  False   \n",
      "6    False  False  False  False  False  False  False  False  False  False   \n",
      "7    False  False  False  False  False  False  False  False  False  False   \n",
      "8    False  False  False  False  False  False  False  False  False  False   \n",
      "9    False  False  False  False  False  False  False  False  False  False   \n",
      "10   False  False  False  False  False  False  False  False  False  False   \n",
      "11   False  False  False  False  False  False  False  False  False  False   \n",
      "12   False  False  False  False  False  False  False  False  False  False   \n",
      "13   False  False  False  False  False  False  False  False  False  False   \n",
      "14   False  False  False  False  False  False  False  False  False  False   \n",
      "15   False  False  False  False  False  False  False  False  False  False   \n",
      "16   False  False  False  False  False  False  False  False  False  False   \n",
      "17   False  False  False  False  False  False  False  False  False  False   \n",
      "18   False  False  False  False  False  False  False  False  False  False   \n",
      "19   False  False  False  False  False  False  False  False  False  False   \n",
      "20   False  False  False  False  False  False  False  False  False  False   \n",
      "21   False  False  False  False  False  False  False  False  False  False   \n",
      "22   False  False  False  False  False  False  False  False  False  False   \n",
      "23   False  False  False  False  False  False  False  False  False  False   \n",
      "24   False  False  False  False  False  False  False  False  False  False   \n",
      "25   False  False  False  False  False  False  False  False  False  False   \n",
      "26   False  False  False  False  False  False  False  False  False  False   \n",
      "27   False  False  False  False  False  False  False  False  False  False   \n",
      "28   False  False  False  False  False  False  False  False  False  False   \n",
      "29   False  False  False  False  False  False  False  False  False  False   \n",
      "..     ...    ...    ...    ...    ...    ...    ...    ...    ...    ...   \n",
      "476  False  False  False  False  False  False  False  False  False  False   \n",
      "477   True  False  False  False  False  False  False  False  False  False   \n",
      "478   True  False  False  False  False  False  False  False  False  False   \n",
      "479   True  False  False  False  False  False  False  False  False  False   \n",
      "480  False  False  False  False  False  False  False  False  False  False   \n",
      "481  False  False  False  False  False  False  False  False  False  False   \n",
      "482  False  False  False  False  False  False  False  False  False  False   \n",
      "483  False  False  False  False  False  False  False  False  False  False   \n",
      "484  False  False  False  False  False  False  False  False  False  False   \n",
      "485  False  False  False  False  False  False  False  False  False  False   \n",
      "486  False  False  False  False  False  False  False  False  False  False   \n",
      "487  False  False  False  False  False  False  False  False  False  False   \n",
      "488  False  False  False  False  False  False  False  False  False  False   \n",
      "489  False  False  False  False  False  False  False  False  False  False   \n",
      "490  False  False  False  False  False  False  False  False  False  False   \n",
      "491  False  False  False  False  False  False  False  False  False  False   \n",
      "492  False  False  False  False  False  False  False  False  False  False   \n",
      "493  False  False  False  False  False  False  False  False  False  False   \n",
      "494  False  False  False  False  False  False  False  False  False  False   \n",
      "495  False  False  False  False  False  False  False  False  False  False   \n",
      "496  False  False  False  False  False  False  False  False  False  False   \n",
      "497  False  False  False  False  False  False  False  False  False  False   \n",
      "498  False  False  False  False  False  False  False  False  False  False   \n",
      "499  False  False  False  False  False  False  False  False  False  False   \n",
      "500  False  False  False  False  False  False  False  False  False  False   \n",
      "501  False  False  False  False  False  False  False  False  False  False   \n",
      "502  False  False  False  False  False  False  False  False  False  False   \n",
      "503  False  False  False  False  False  False  False  False  False  False   \n",
      "504  False  False  False  False  False  False  False  False  False  False   \n",
      "505  False  False  False  False  False  False  False  False  False  False   \n",
      "\n",
      "        10     11     12  \n",
      "0    False  False  False  \n",
      "1    False  False  False  \n",
      "2    False  False  False  \n",
      "3    False  False  False  \n",
      "4    False  False  False  \n",
      "5    False  False  False  \n",
      "6    False  False  False  \n",
      "7    False  False  False  \n",
      "8    False  False  False  \n",
      "9    False  False  False  \n",
      "10   False  False  False  \n",
      "11   False  False  False  \n",
      "12   False  False  False  \n",
      "13   False  False  False  \n",
      "14   False  False  False  \n",
      "15   False  False  False  \n",
      "16   False  False  False  \n",
      "17   False  False  False  \n",
      "18   False   True  False  \n",
      "19   False  False  False  \n",
      "20   False  False  False  \n",
      "21   False  False  False  \n",
      "22   False  False  False  \n",
      "23   False  False  False  \n",
      "24   False  False  False  \n",
      "25   False   True  False  \n",
      "26   False  False  False  \n",
      "27   False   True  False  \n",
      "28   False  False  False  \n",
      "29   False  False  False  \n",
      "..     ...    ...    ...  \n",
      "476  False  False  False  \n",
      "477  False  False  False  \n",
      "478  False  False  False  \n",
      "479  False  False  False  \n",
      "480  False  False  False  \n",
      "481  False  False  False  \n",
      "482  False  False  False  \n",
      "483  False  False  False  \n",
      "484  False  False  False  \n",
      "485  False  False  False  \n",
      "486  False  False  False  \n",
      "487  False  False  False  \n",
      "488  False  False  False  \n",
      "489  False   True  False  \n",
      "490  False   True  False  \n",
      "491  False  False  False  \n",
      "492  False  False  False  \n",
      "493  False  False  False  \n",
      "494  False  False  False  \n",
      "495  False  False  False  \n",
      "496  False  False  False  \n",
      "497  False  False  False  \n",
      "498  False  False  False  \n",
      "499  False  False  False  \n",
      "500  False  False  False  \n",
      "501  False  False  False  \n",
      "502  False  False  False  \n",
      "503  False  False  False  \n",
      "504  False  False  False  \n",
      "505  False  False  False  \n",
      "\n",
      "[506 rows x 13 columns]\n"
     ]
    }
   ],
   "source": [
    "print((boston_iqr<(Q1-1.5*IQR)) |(boston_iqr>(Q3+1.5*IQR)))"
   ]
  },
  {
   "cell_type": "code",
   "execution_count": 20,
   "metadata": {},
   "outputs": [],
   "source": [
    "#outlier find 18th row and 11th column\n"
   ]
  },
  {
   "cell_type": "code",
   "execution_count": 21,
   "metadata": {},
   "outputs": [],
   "source": [
    "#Remove outlier"
   ]
  },
  {
   "cell_type": "code",
   "execution_count": 22,
   "metadata": {},
   "outputs": [],
   "source": [
    "boston_clean=boston #copt dataset"
   ]
  },
  {
   "cell_type": "code",
   "execution_count": 23,
   "metadata": {},
   "outputs": [],
   "source": [
    "boston_clean=boston_clean[(zscore<3).all(axis=1)]# all the rows \n",
    "#filter out the outliers"
   ]
  },
  {
   "cell_type": "code",
   "execution_count": 24,
   "metadata": {},
   "outputs": [
    {
     "data": {
      "text/plain": [
       "(506, 13)"
      ]
     },
     "execution_count": 24,
     "metadata": {},
     "output_type": "execute_result"
    }
   ],
   "source": [
    "boston.shape"
   ]
  },
  {
   "cell_type": "code",
   "execution_count": 25,
   "metadata": {},
   "outputs": [
    {
     "data": {
      "text/plain": [
       "(415, 13)"
      ]
     },
     "execution_count": 25,
     "metadata": {},
     "output_type": "execute_result"
    }
   ],
   "source": [
    "boston_clean.shape"
   ]
  },
  {
   "cell_type": "code",
   "execution_count": 34,
   "metadata": {},
   "outputs": [],
   "source": [
    "#Remove Outlier IQR\n",
    "boston_iqr_clean=boston_iqr[~((boston_iqr<(Q1-1.5*IQR)) |(boston_iqr>(Q3+1.5*IQR))).any(axis=1)]"
   ]
  },
  {
   "cell_type": "code",
   "execution_count": 35,
   "metadata": {},
   "outputs": [
    {
     "data": {
      "text/plain": [
       "(274, 13)"
      ]
     },
     "execution_count": 35,
     "metadata": {},
     "output_type": "execute_result"
    }
   ],
   "source": [
    "boston_iqr_clean.shape"
   ]
  },
  {
   "cell_type": "code",
   "execution_count": 36,
   "metadata": {},
   "outputs": [
    {
     "data": {
      "text/plain": [
       "(506, 13)"
      ]
     },
     "execution_count": 36,
     "metadata": {},
     "output_type": "execute_result"
    }
   ],
   "source": [
    "boston_iqr.shape"
   ]
  }
 ],
 "metadata": {
  "kernelspec": {
   "display_name": "Python 3",
   "language": "python",
   "name": "python3"
  },
  "language_info": {
   "codemirror_mode": {
    "name": "ipython",
    "version": 3
   },
   "file_extension": ".py",
   "mimetype": "text/x-python",
   "name": "python",
   "nbconvert_exporter": "python",
   "pygments_lexer": "ipython3",
   "version": "3.7.3"
  }
 },
 "nbformat": 4,
 "nbformat_minor": 2
}
