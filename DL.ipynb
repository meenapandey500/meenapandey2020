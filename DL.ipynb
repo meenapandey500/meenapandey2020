{
 "cells": [
  {
   "cell_type": "code",
   "execution_count": 24,
   "metadata": {},
   "outputs": [
    {
     "name": "stdout",
     "output_type": "stream",
     "text": [
      "[0.38186561149111675, 0.7386714394295201, 0.8148702771203601]\n"
     ]
    }
   ],
   "source": [
    "import numpy, random, os\n",
    "lr = 1 #learning rate\n",
    "bias = 1 #value of bias\n",
    "weights = [random.random(),random.random(),random.random()] \n",
    "#weights generated in a list (3 weights in total for 2 neurons and the bias)\n",
    "print(weights)"
   ]
  },
  {
   "cell_type": "code",
   "execution_count": 36,
   "metadata": {},
   "outputs": [],
   "source": [
    "def Perceptron(input1, input2, output) :\n",
    "    y_pred = input1*weights[0]+input2*weights[1]+bias*weights[2]\n",
    "    if(y_pred>0):\n",
    "        y_pred=1\n",
    "    else:\n",
    "        y_pred=0\n",
    "    error=output-y_pred\n",
    "    #if(y_pred> 0) : #activation function (here Heaviside)\n",
    "    #    y_pred  = 1\n",
    "    #else :\n",
    "    #    y_pred  = 0  \n",
    "    \n",
    "                                  \n",
    "    weights[0] += error * input1 * lr\n",
    "    weights[1] += error * input2 * lr\n",
    "    weights[2] += error * bias * lr"
   ]
  },
  {
   "cell_type": "code",
   "execution_count": 37,
   "metadata": {
    "scrolled": false
   },
   "outputs": [],
   "source": [
    "for i in range(50) :\n",
    "    Perceptron(1,1,1) #True or true\n",
    "    Perceptron(1,0,1) #True or false\n",
    "    Perceptron(0,1,1) #False or true\n",
    "    Perceptron(0,0,0) #False or false"
   ]
  },
  {
   "cell_type": "code",
   "execution_count": 40,
   "metadata": {},
   "outputs": [
    {
     "name": "stdout",
     "output_type": "stream",
     "text": [
      "90\n",
      "89\n",
      "Predicted output :  99.92453342054816\n",
      "90 or 89 is :  1\n"
     ]
    }
   ],
   "source": [
    "x = int(input())\n",
    "y = int(input())\n",
    "outputP = x*weights[0] + y*weights[1] + bias*weights[2]\n",
    "print(\"Predicted output : \",outputP)\n",
    "if outputP > 0 : #activation function\n",
    "   outputP = 1\n",
    "else :\n",
    "   outputP = 0\n",
    "print(x, \"or\", y, \"is : \", outputP)"
   ]
  },
  {
   "cell_type": "code",
   "execution_count": null,
   "metadata": {},
   "outputs": [],
   "source": []
  }
 ],
 "metadata": {
  "kernelspec": {
   "display_name": "Python 3",
   "language": "python",
   "name": "python3"
  },
  "language_info": {
   "codemirror_mode": {
    "name": "ipython",
    "version": 3
   },
   "file_extension": ".py",
   "mimetype": "text/x-python",
   "name": "python",
   "nbconvert_exporter": "python",
   "pygments_lexer": "ipython3",
   "version": "3.7.3"
  }
 },
 "nbformat": 4,
 "nbformat_minor": 2
}
