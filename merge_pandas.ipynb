{
 "cells": [
  {
   "cell_type": "code",
   "execution_count": 2,
   "metadata": {},
   "outputs": [],
   "source": [
    "import pandas as pd"
   ]
  },
  {
   "cell_type": "code",
   "execution_count": 1,
   "metadata": {},
   "outputs": [],
   "source": [
    "#merge dataframe : to join 2 or more dataframe \n",
    "#for eg.  \n",
    "#We create dictionary d1 and d2\n",
    "d1={\"Name\":[\"Anu\",\"Deepak\",\"Rohan\",\"Meenu\",\"Kiran\",\"Rahul\"],\n",
    "    \"Python\":[89,90,87,76,99,80]}\n",
    "d2={\"Name\":[\"Anu\",\"Rohan\",\"Meenu\",\"Rahul\"],\"ML\":[67,79,80,98]}"
   ]
  },
  {
   "cell_type": "code",
   "execution_count": 3,
   "metadata": {},
   "outputs": [],
   "source": [
    "#convert dictionart d1 and d2 into dataframe\n",
    "df1=pd.DataFrame(d1)\n",
    "df2=pd.DataFrame(d2)"
   ]
  },
  {
   "cell_type": "code",
   "execution_count": 6,
   "metadata": {},
   "outputs": [
    {
     "name": "stdout",
     "output_type": "stream",
     "text": [
      "     Name  Python\n",
      "0     Anu      89\n",
      "1  Deepak      90\n",
      "2   Rohan      87\n",
      "3   Meenu      76\n",
      "4   Kiran      99\n",
      "5   Rahul      80\n"
     ]
    }
   ],
   "source": [
    "print(df1)"
   ]
  },
  {
   "cell_type": "code",
   "execution_count": 7,
   "metadata": {},
   "outputs": [
    {
     "name": "stdout",
     "output_type": "stream",
     "text": [
      "    Name  ML\n",
      "0    Anu  67\n",
      "1  Rohan  79\n",
      "2  Meenu  80\n",
      "3  Rahul  98\n"
     ]
    }
   ],
   "source": [
    "print(df2)"
   ]
  },
  {
   "cell_type": "code",
   "execution_count": 9,
   "metadata": {},
   "outputs": [
    {
     "name": "stdout",
     "output_type": "stream",
     "text": [
      "    Name  Python  ML\n",
      "0    Anu      89  67\n",
      "1  Rohan      87  79\n",
      "2  Meenu      76  80\n",
      "3  Rahul      80  98\n"
     ]
    }
   ],
   "source": [
    "#Name column is common column in both dataframe then merge on common column\n",
    "#Name and store in new DataFrame df3\n",
    "#Equal join \n",
    "df3=pd.merge(df1,df2,on=\"Name\") #how=\"equal\"\n",
    "print(df3)"
   ]
  },
  {
   "cell_type": "code",
   "execution_count": 10,
   "metadata": {},
   "outputs": [
    {
     "name": "stdout",
     "output_type": "stream",
     "text": [
      "     Name  Python    ML\n",
      "0     Anu      89  67.0\n",
      "1  Deepak      90   NaN\n",
      "2   Rohan      87  79.0\n",
      "3   Meenu      76  80.0\n",
      "4   Kiran      99   NaN\n",
      "5   Rahul      80  98.0\n"
     ]
    }
   ],
   "source": [
    "#outer merge \n",
    "df4=pd.merge(df1,df2,on=\"Name\",how=\"outer\")\n",
    "print(df4)"
   ]
  },
  {
   "cell_type": "code",
   "execution_count": 12,
   "metadata": {},
   "outputs": [
    {
     "name": "stdout",
     "output_type": "stream",
     "text": [
      "     Name  Course\n",
      "0  Suresh  Python\n",
      "1   Kamal       R\n",
      "2   Rekha  Python\n"
     ]
    }
   ],
   "source": [
    "#Append : \n",
    "d1={\"Name\":[\"Suresh\",\"Kamal\",\"Rekha\"],\"Course\":[\"Python\",\"R\",\"Python\"]}\n",
    "#converts dict d1 into dataframe df1\n",
    "df1=pd.DataFrame(d1)\n",
    "print(df1)"
   ]
  },
  {
   "cell_type": "code",
   "execution_count": 13,
   "metadata": {},
   "outputs": [
    {
     "name": "stdout",
     "output_type": "stream",
     "text": [
      "     Name  Course\n",
      "0  Pankaj      ML\n",
      "1    Hina       R\n",
      "2    Tina  Python\n",
      "3   Kiran      ML\n"
     ]
    }
   ],
   "source": [
    "d2={\"Name\":[\"Pankaj\",\"Hina\",\"Tina\",\"Kiran\"],\"Course\":[\"ML\",\"R\",\"Python\",\"ML\"]}\n",
    "#converts dict d2 into dataframe df2\n",
    "df2=pd.DataFrame(d2)\n",
    "print(df2)"
   ]
  },
  {
   "cell_type": "code",
   "execution_count": 15,
   "metadata": {},
   "outputs": [
    {
     "name": "stdout",
     "output_type": "stream",
     "text": [
      "     Name  Course\n",
      "0  Suresh  Python\n",
      "1   Kamal       R\n",
      "2   Rekha  Python\n",
      "0  Pankaj      ML\n",
      "1    Hina       R\n",
      "2    Tina  Python\n",
      "3   Kiran      ML\n"
     ]
    }
   ],
   "source": [
    "#Append \n",
    "df3=df1.append(df2)\n",
    "print(df3)"
   ]
  },
  {
   "cell_type": "code",
   "execution_count": 16,
   "metadata": {},
   "outputs": [
    {
     "name": "stdout",
     "output_type": "stream",
     "text": [
      "     Name  Course\n",
      "0  Suresh  Python\n",
      "1   Kamal       R\n",
      "2   Rekha  Python\n",
      "3  Pankaj      ML\n",
      "4    Hina       R\n",
      "5    Tina  Python\n",
      "6   Kiran      ML\n"
     ]
    }
   ],
   "source": [
    "#Append \n",
    "df3=df1.append(df2,ignore_index=True)\n",
    "print(df3)"
   ]
  },
  {
   "cell_type": "code",
   "execution_count": null,
   "metadata": {},
   "outputs": [],
   "source": []
  }
 ],
 "metadata": {
  "kernelspec": {
   "display_name": "Python 3",
   "language": "python",
   "name": "python3"
  },
  "language_info": {
   "codemirror_mode": {
    "name": "ipython",
    "version": 3
   },
   "file_extension": ".py",
   "mimetype": "text/x-python",
   "name": "python",
   "nbconvert_exporter": "python",
   "pygments_lexer": "ipython3",
   "version": "3.7.3"
  }
 },
 "nbformat": 4,
 "nbformat_minor": 2
}
