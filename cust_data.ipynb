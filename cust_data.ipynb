{
 "cells": [
  {
   "cell_type": "code",
   "execution_count": null,
   "metadata": {},
   "outputs": [],
   "source": [
    "#cust_data.csv"
   ]
  },
  {
   "cell_type": "code",
   "execution_count": 1,
   "metadata": {},
   "outputs": [],
   "source": [
    "import numpy as np\n",
    "import pandas as pd\n",
    "import matplotlib.pyplot as plt\n",
    "import seaborn as sns\n",
    "import warnings \n",
    "warnings.filterwarnings('ignore')\n"
   ]
  },
  {
   "cell_type": "code",
   "execution_count": 2,
   "metadata": {},
   "outputs": [],
   "source": [
    "df2=pd.read_csv(\"cust_data.csv\")"
   ]
  },
  {
   "cell_type": "code",
   "execution_count": 3,
   "metadata": {},
   "outputs": [
    {
     "name": "stdout",
     "output_type": "stream",
     "text": [
      "<class 'pandas.core.frame.DataFrame'>\n",
      "RangeIndex: 149902 entries, 0 to 149901\n",
      "Data columns (total 10 columns):\n",
      "ID                                      149902 non-null int64\n",
      "SeriousDlqin2yrs                        149902 non-null int64\n",
      "RevolvingUtilizationOfUnsecuredLines    149902 non-null float64\n",
      "NumberOfTime30_59DaysPastDueNotWorse    149902 non-null int64\n",
      "DebtRatio                               149902 non-null float64\n",
      "MonthlyIncome                           120191 non-null float64\n",
      "NumberOfOpenCreditLinesAndLoans         149902 non-null int64\n",
      "NumberOfTimes90DaysLate                 149902 non-null int64\n",
      "NumberRealEstateLoansOrLines            149902 non-null int64\n",
      "NumberOfTime60_89DaysPastDueNotWorse    149902 non-null int64\n",
      "dtypes: float64(3), int64(7)\n",
      "memory usage: 11.4 MB\n"
     ]
    }
   ],
   "source": [
    "df2.info()"
   ]
  },
  {
   "cell_type": "code",
   "execution_count": 4,
   "metadata": {},
   "outputs": [
    {
     "data": {
      "text/html": [
       "<div>\n",
       "<style scoped>\n",
       "    .dataframe tbody tr th:only-of-type {\n",
       "        vertical-align: middle;\n",
       "    }\n",
       "\n",
       "    .dataframe tbody tr th {\n",
       "        vertical-align: top;\n",
       "    }\n",
       "\n",
       "    .dataframe thead th {\n",
       "        text-align: right;\n",
       "    }\n",
       "</style>\n",
       "<table border=\"1\" class=\"dataframe\">\n",
       "  <thead>\n",
       "    <tr style=\"text-align: right;\">\n",
       "      <th></th>\n",
       "      <th>ID</th>\n",
       "      <th>SeriousDlqin2yrs</th>\n",
       "      <th>RevolvingUtilizationOfUnsecuredLines</th>\n",
       "      <th>NumberOfTime30_59DaysPastDueNotWorse</th>\n",
       "      <th>DebtRatio</th>\n",
       "      <th>MonthlyIncome</th>\n",
       "      <th>NumberOfOpenCreditLinesAndLoans</th>\n",
       "      <th>NumberOfTimes90DaysLate</th>\n",
       "      <th>NumberRealEstateLoansOrLines</th>\n",
       "      <th>NumberOfTime60_89DaysPastDueNotWorse</th>\n",
       "    </tr>\n",
       "  </thead>\n",
       "  <tbody>\n",
       "    <tr>\n",
       "      <th>0</th>\n",
       "      <td>83236</td>\n",
       "      <td>0</td>\n",
       "      <td>0.311726</td>\n",
       "      <td>0</td>\n",
       "      <td>0.296409</td>\n",
       "      <td>11500.0</td>\n",
       "      <td>12</td>\n",
       "      <td>0</td>\n",
       "      <td>3</td>\n",
       "      <td>0</td>\n",
       "    </tr>\n",
       "    <tr>\n",
       "      <th>1</th>\n",
       "      <td>2503</td>\n",
       "      <td>0</td>\n",
       "      <td>0.124988</td>\n",
       "      <td>0</td>\n",
       "      <td>0.115903</td>\n",
       "      <td>14166.0</td>\n",
       "      <td>13</td>\n",
       "      <td>0</td>\n",
       "      <td>1</td>\n",
       "      <td>0</td>\n",
       "    </tr>\n",
       "    <tr>\n",
       "      <th>2</th>\n",
       "      <td>137013</td>\n",
       "      <td>0</td>\n",
       "      <td>0.060258</td>\n",
       "      <td>0</td>\n",
       "      <td>0.515147</td>\n",
       "      <td>6733.0</td>\n",
       "      <td>7</td>\n",
       "      <td>0</td>\n",
       "      <td>3</td>\n",
       "      <td>0</td>\n",
       "    </tr>\n",
       "    <tr>\n",
       "      <th>3</th>\n",
       "      <td>51306</td>\n",
       "      <td>0</td>\n",
       "      <td>0.064322</td>\n",
       "      <td>0</td>\n",
       "      <td>0.165127</td>\n",
       "      <td>13316.0</td>\n",
       "      <td>10</td>\n",
       "      <td>0</td>\n",
       "      <td>1</td>\n",
       "      <td>0</td>\n",
       "    </tr>\n",
       "    <tr>\n",
       "      <th>4</th>\n",
       "      <td>71937</td>\n",
       "      <td>0</td>\n",
       "      <td>0.211186</td>\n",
       "      <td>0</td>\n",
       "      <td>0.022283</td>\n",
       "      <td>2557.0</td>\n",
       "      <td>3</td>\n",
       "      <td>0</td>\n",
       "      <td>0</td>\n",
       "      <td>0</td>\n",
       "    </tr>\n",
       "  </tbody>\n",
       "</table>\n",
       "</div>"
      ],
      "text/plain": [
       "       ID  SeriousDlqin2yrs  RevolvingUtilizationOfUnsecuredLines  \\\n",
       "0   83236                 0                              0.311726   \n",
       "1    2503                 0                              0.124988   \n",
       "2  137013                 0                              0.060258   \n",
       "3   51306                 0                              0.064322   \n",
       "4   71937                 0                              0.211186   \n",
       "\n",
       "   NumberOfTime30_59DaysPastDueNotWorse  DebtRatio  MonthlyIncome  \\\n",
       "0                                     0   0.296409        11500.0   \n",
       "1                                     0   0.115903        14166.0   \n",
       "2                                     0   0.515147         6733.0   \n",
       "3                                     0   0.165127        13316.0   \n",
       "4                                     0   0.022283         2557.0   \n",
       "\n",
       "   NumberOfOpenCreditLinesAndLoans  NumberOfTimes90DaysLate  \\\n",
       "0                               12                        0   \n",
       "1                               13                        0   \n",
       "2                                7                        0   \n",
       "3                               10                        0   \n",
       "4                                3                        0   \n",
       "\n",
       "   NumberRealEstateLoansOrLines  NumberOfTime60_89DaysPastDueNotWorse  \n",
       "0                             3                                     0  \n",
       "1                             1                                     0  \n",
       "2                             3                                     0  \n",
       "3                             1                                     0  \n",
       "4                             0                                     0  "
      ]
     },
     "execution_count": 4,
     "metadata": {},
     "output_type": "execute_result"
    }
   ],
   "source": [
    "df2.head()"
   ]
  },
  {
   "cell_type": "code",
   "execution_count": 5,
   "metadata": {},
   "outputs": [
    {
     "data": {
      "text/plain": [
       "ID                                          0\n",
       "SeriousDlqin2yrs                            0\n",
       "RevolvingUtilizationOfUnsecuredLines        0\n",
       "NumberOfTime30_59DaysPastDueNotWorse        0\n",
       "DebtRatio                                   0\n",
       "MonthlyIncome                           29711\n",
       "NumberOfOpenCreditLinesAndLoans             0\n",
       "NumberOfTimes90DaysLate                     0\n",
       "NumberRealEstateLoansOrLines                0\n",
       "NumberOfTime60_89DaysPastDueNotWorse        0\n",
       "dtype: int64"
      ]
     },
     "execution_count": 5,
     "metadata": {},
     "output_type": "execute_result"
    }
   ],
   "source": [
    "df2.isnull().sum()"
   ]
  },
  {
   "cell_type": "code",
   "execution_count": 6,
   "metadata": {},
   "outputs": [
    {
     "data": {
      "text/plain": [
       "19.820282584621953"
      ]
     },
     "execution_count": 6,
     "metadata": {},
     "output_type": "execute_result"
    }
   ],
   "source": [
    "#find percentage of null values in MonthlyIncome columns\n",
    "df2[\"MonthlyIncome\"].isnull().sum()/df2.shape[0]*100"
   ]
  },
  {
   "cell_type": "code",
   "execution_count": 7,
   "metadata": {},
   "outputs": [
    {
     "data": {
      "text/plain": [
       "array([11500., 14166.,  6733., ..., 14672.,  1637., 21083.])"
      ]
     },
     "execution_count": 7,
     "metadata": {},
     "output_type": "execute_result"
    }
   ],
   "source": [
    "df2[\"MonthlyIncome\"].unique()"
   ]
  },
  {
   "cell_type": "code",
   "execution_count": 8,
   "metadata": {},
   "outputs": [],
   "source": [
    "df2[\"MonthlyIncome\"].fillna(df2[\"MonthlyIncome\"].mean(),inplace=True)"
   ]
  },
  {
   "cell_type": "code",
   "execution_count": 9,
   "metadata": {},
   "outputs": [
    {
     "data": {
      "text/html": [
       "<div>\n",
       "<style scoped>\n",
       "    .dataframe tbody tr th:only-of-type {\n",
       "        vertical-align: middle;\n",
       "    }\n",
       "\n",
       "    .dataframe tbody tr th {\n",
       "        vertical-align: top;\n",
       "    }\n",
       "\n",
       "    .dataframe thead th {\n",
       "        text-align: right;\n",
       "    }\n",
       "</style>\n",
       "<table border=\"1\" class=\"dataframe\">\n",
       "  <thead>\n",
       "    <tr style=\"text-align: right;\">\n",
       "      <th></th>\n",
       "      <th>ID</th>\n",
       "      <th>SeriousDlqin2yrs</th>\n",
       "      <th>RevolvingUtilizationOfUnsecuredLines</th>\n",
       "      <th>NumberOfTime30_59DaysPastDueNotWorse</th>\n",
       "      <th>DebtRatio</th>\n",
       "      <th>MonthlyIncome</th>\n",
       "      <th>NumberOfOpenCreditLinesAndLoans</th>\n",
       "      <th>NumberOfTimes90DaysLate</th>\n",
       "      <th>NumberRealEstateLoansOrLines</th>\n",
       "      <th>NumberOfTime60_89DaysPastDueNotWorse</th>\n",
       "    </tr>\n",
       "  </thead>\n",
       "  <tbody>\n",
       "    <tr>\n",
       "      <th>0</th>\n",
       "      <td>83236</td>\n",
       "      <td>0</td>\n",
       "      <td>0.311726</td>\n",
       "      <td>0</td>\n",
       "      <td>0.296409</td>\n",
       "      <td>11500.0</td>\n",
       "      <td>12</td>\n",
       "      <td>0</td>\n",
       "      <td>3</td>\n",
       "      <td>0</td>\n",
       "    </tr>\n",
       "    <tr>\n",
       "      <th>1</th>\n",
       "      <td>2503</td>\n",
       "      <td>0</td>\n",
       "      <td>0.124988</td>\n",
       "      <td>0</td>\n",
       "      <td>0.115903</td>\n",
       "      <td>14166.0</td>\n",
       "      <td>13</td>\n",
       "      <td>0</td>\n",
       "      <td>1</td>\n",
       "      <td>0</td>\n",
       "    </tr>\n",
       "    <tr>\n",
       "      <th>2</th>\n",
       "      <td>137013</td>\n",
       "      <td>0</td>\n",
       "      <td>0.060258</td>\n",
       "      <td>0</td>\n",
       "      <td>0.515147</td>\n",
       "      <td>6733.0</td>\n",
       "      <td>7</td>\n",
       "      <td>0</td>\n",
       "      <td>3</td>\n",
       "      <td>0</td>\n",
       "    </tr>\n",
       "    <tr>\n",
       "      <th>3</th>\n",
       "      <td>51306</td>\n",
       "      <td>0</td>\n",
       "      <td>0.064322</td>\n",
       "      <td>0</td>\n",
       "      <td>0.165127</td>\n",
       "      <td>13316.0</td>\n",
       "      <td>10</td>\n",
       "      <td>0</td>\n",
       "      <td>1</td>\n",
       "      <td>0</td>\n",
       "    </tr>\n",
       "    <tr>\n",
       "      <th>4</th>\n",
       "      <td>71937</td>\n",
       "      <td>0</td>\n",
       "      <td>0.211186</td>\n",
       "      <td>0</td>\n",
       "      <td>0.022283</td>\n",
       "      <td>2557.0</td>\n",
       "      <td>3</td>\n",
       "      <td>0</td>\n",
       "      <td>0</td>\n",
       "      <td>0</td>\n",
       "    </tr>\n",
       "  </tbody>\n",
       "</table>\n",
       "</div>"
      ],
      "text/plain": [
       "       ID  SeriousDlqin2yrs  RevolvingUtilizationOfUnsecuredLines  \\\n",
       "0   83236                 0                              0.311726   \n",
       "1    2503                 0                              0.124988   \n",
       "2  137013                 0                              0.060258   \n",
       "3   51306                 0                              0.064322   \n",
       "4   71937                 0                              0.211186   \n",
       "\n",
       "   NumberOfTime30_59DaysPastDueNotWorse  DebtRatio  MonthlyIncome  \\\n",
       "0                                     0   0.296409        11500.0   \n",
       "1                                     0   0.115903        14166.0   \n",
       "2                                     0   0.515147         6733.0   \n",
       "3                                     0   0.165127        13316.0   \n",
       "4                                     0   0.022283         2557.0   \n",
       "\n",
       "   NumberOfOpenCreditLinesAndLoans  NumberOfTimes90DaysLate  \\\n",
       "0                               12                        0   \n",
       "1                               13                        0   \n",
       "2                                7                        0   \n",
       "3                               10                        0   \n",
       "4                                3                        0   \n",
       "\n",
       "   NumberRealEstateLoansOrLines  NumberOfTime60_89DaysPastDueNotWorse  \n",
       "0                             3                                     0  \n",
       "1                             1                                     0  \n",
       "2                             3                                     0  \n",
       "3                             1                                     0  \n",
       "4                             0                                     0  "
      ]
     },
     "execution_count": 9,
     "metadata": {},
     "output_type": "execute_result"
    }
   ],
   "source": [
    "df2.head()"
   ]
  },
  {
   "cell_type": "code",
   "execution_count": 10,
   "metadata": {},
   "outputs": [
    {
     "data": {
      "text/plain": [
       "ID                                      0\n",
       "SeriousDlqin2yrs                        0\n",
       "RevolvingUtilizationOfUnsecuredLines    0\n",
       "NumberOfTime30_59DaysPastDueNotWorse    0\n",
       "DebtRatio                               0\n",
       "MonthlyIncome                           0\n",
       "NumberOfOpenCreditLinesAndLoans         0\n",
       "NumberOfTimes90DaysLate                 0\n",
       "NumberRealEstateLoansOrLines            0\n",
       "NumberOfTime60_89DaysPastDueNotWorse    0\n",
       "dtype: int64"
      ]
     },
     "execution_count": 10,
     "metadata": {},
     "output_type": "execute_result"
    }
   ],
   "source": [
    "df2.isnull().sum()"
   ]
  },
  {
   "cell_type": "code",
   "execution_count": 11,
   "metadata": {},
   "outputs": [
    {
     "name": "stdout",
     "output_type": "stream",
     "text": [
      "<class 'pandas.core.frame.DataFrame'>\n",
      "RangeIndex: 149902 entries, 0 to 149901\n",
      "Data columns (total 10 columns):\n",
      "ID                                      149902 non-null int64\n",
      "SeriousDlqin2yrs                        149902 non-null int64\n",
      "RevolvingUtilizationOfUnsecuredLines    149902 non-null float64\n",
      "NumberOfTime30_59DaysPastDueNotWorse    149902 non-null int64\n",
      "DebtRatio                               149902 non-null float64\n",
      "MonthlyIncome                           149902 non-null float64\n",
      "NumberOfOpenCreditLinesAndLoans         149902 non-null int64\n",
      "NumberOfTimes90DaysLate                 149902 non-null int64\n",
      "NumberRealEstateLoansOrLines            149902 non-null int64\n",
      "NumberOfTime60_89DaysPastDueNotWorse    149902 non-null int64\n",
      "dtypes: float64(3), int64(7)\n",
      "memory usage: 11.4 MB\n"
     ]
    }
   ],
   "source": [
    "df2.info()"
   ]
  },
  {
   "cell_type": "code",
   "execution_count": 12,
   "metadata": {},
   "outputs": [],
   "source": [
    "#to remove unwanted column ID \n",
    "df2.drop(\"ID\",axis=1,inplace=True)"
   ]
  },
  {
   "cell_type": "code",
   "execution_count": 13,
   "metadata": {},
   "outputs": [
    {
     "name": "stdout",
     "output_type": "stream",
     "text": [
      "<class 'pandas.core.frame.DataFrame'>\n",
      "RangeIndex: 149902 entries, 0 to 149901\n",
      "Data columns (total 9 columns):\n",
      "SeriousDlqin2yrs                        149902 non-null int64\n",
      "RevolvingUtilizationOfUnsecuredLines    149902 non-null float64\n",
      "NumberOfTime30_59DaysPastDueNotWorse    149902 non-null int64\n",
      "DebtRatio                               149902 non-null float64\n",
      "MonthlyIncome                           149902 non-null float64\n",
      "NumberOfOpenCreditLinesAndLoans         149902 non-null int64\n",
      "NumberOfTimes90DaysLate                 149902 non-null int64\n",
      "NumberRealEstateLoansOrLines            149902 non-null int64\n",
      "NumberOfTime60_89DaysPastDueNotWorse    149902 non-null int64\n",
      "dtypes: float64(3), int64(6)\n",
      "memory usage: 10.3 MB\n"
     ]
    }
   ],
   "source": [
    "df2.info()"
   ]
  },
  {
   "cell_type": "code",
   "execution_count": 14,
   "metadata": {},
   "outputs": [
    {
     "data": {
      "text/html": [
       "<div>\n",
       "<style scoped>\n",
       "    .dataframe tbody tr th:only-of-type {\n",
       "        vertical-align: middle;\n",
       "    }\n",
       "\n",
       "    .dataframe tbody tr th {\n",
       "        vertical-align: top;\n",
       "    }\n",
       "\n",
       "    .dataframe thead th {\n",
       "        text-align: right;\n",
       "    }\n",
       "</style>\n",
       "<table border=\"1\" class=\"dataframe\">\n",
       "  <thead>\n",
       "    <tr style=\"text-align: right;\">\n",
       "      <th></th>\n",
       "      <th>SeriousDlqin2yrs</th>\n",
       "      <th>RevolvingUtilizationOfUnsecuredLines</th>\n",
       "      <th>NumberOfTime30_59DaysPastDueNotWorse</th>\n",
       "      <th>DebtRatio</th>\n",
       "      <th>MonthlyIncome</th>\n",
       "      <th>NumberOfOpenCreditLinesAndLoans</th>\n",
       "      <th>NumberOfTimes90DaysLate</th>\n",
       "      <th>NumberRealEstateLoansOrLines</th>\n",
       "      <th>NumberOfTime60_89DaysPastDueNotWorse</th>\n",
       "    </tr>\n",
       "  </thead>\n",
       "  <tbody>\n",
       "    <tr>\n",
       "      <th>0</th>\n",
       "      <td>0</td>\n",
       "      <td>0.311726</td>\n",
       "      <td>0</td>\n",
       "      <td>0.296409</td>\n",
       "      <td>11500.0</td>\n",
       "      <td>12</td>\n",
       "      <td>0</td>\n",
       "      <td>3</td>\n",
       "      <td>0</td>\n",
       "    </tr>\n",
       "    <tr>\n",
       "      <th>1</th>\n",
       "      <td>0</td>\n",
       "      <td>0.124988</td>\n",
       "      <td>0</td>\n",
       "      <td>0.115903</td>\n",
       "      <td>14166.0</td>\n",
       "      <td>13</td>\n",
       "      <td>0</td>\n",
       "      <td>1</td>\n",
       "      <td>0</td>\n",
       "    </tr>\n",
       "    <tr>\n",
       "      <th>2</th>\n",
       "      <td>0</td>\n",
       "      <td>0.060258</td>\n",
       "      <td>0</td>\n",
       "      <td>0.515147</td>\n",
       "      <td>6733.0</td>\n",
       "      <td>7</td>\n",
       "      <td>0</td>\n",
       "      <td>3</td>\n",
       "      <td>0</td>\n",
       "    </tr>\n",
       "    <tr>\n",
       "      <th>3</th>\n",
       "      <td>0</td>\n",
       "      <td>0.064322</td>\n",
       "      <td>0</td>\n",
       "      <td>0.165127</td>\n",
       "      <td>13316.0</td>\n",
       "      <td>10</td>\n",
       "      <td>0</td>\n",
       "      <td>1</td>\n",
       "      <td>0</td>\n",
       "    </tr>\n",
       "    <tr>\n",
       "      <th>4</th>\n",
       "      <td>0</td>\n",
       "      <td>0.211186</td>\n",
       "      <td>0</td>\n",
       "      <td>0.022283</td>\n",
       "      <td>2557.0</td>\n",
       "      <td>3</td>\n",
       "      <td>0</td>\n",
       "      <td>0</td>\n",
       "      <td>0</td>\n",
       "    </tr>\n",
       "  </tbody>\n",
       "</table>\n",
       "</div>"
      ],
      "text/plain": [
       "   SeriousDlqin2yrs  RevolvingUtilizationOfUnsecuredLines  \\\n",
       "0                 0                              0.311726   \n",
       "1                 0                              0.124988   \n",
       "2                 0                              0.060258   \n",
       "3                 0                              0.064322   \n",
       "4                 0                              0.211186   \n",
       "\n",
       "   NumberOfTime30_59DaysPastDueNotWorse  DebtRatio  MonthlyIncome  \\\n",
       "0                                     0   0.296409        11500.0   \n",
       "1                                     0   0.115903        14166.0   \n",
       "2                                     0   0.515147         6733.0   \n",
       "3                                     0   0.165127        13316.0   \n",
       "4                                     0   0.022283         2557.0   \n",
       "\n",
       "   NumberOfOpenCreditLinesAndLoans  NumberOfTimes90DaysLate  \\\n",
       "0                               12                        0   \n",
       "1                               13                        0   \n",
       "2                                7                        0   \n",
       "3                               10                        0   \n",
       "4                                3                        0   \n",
       "\n",
       "   NumberRealEstateLoansOrLines  NumberOfTime60_89DaysPastDueNotWorse  \n",
       "0                             3                                     0  \n",
       "1                             1                                     0  \n",
       "2                             3                                     0  \n",
       "3                             1                                     0  \n",
       "4                             0                                     0  "
      ]
     },
     "execution_count": 14,
     "metadata": {},
     "output_type": "execute_result"
    }
   ],
   "source": [
    "df2.head()"
   ]
  }
 ],
 "metadata": {
  "kernelspec": {
   "display_name": "Python 3",
   "language": "python",
   "name": "python3"
  },
  "language_info": {
   "codemirror_mode": {
    "name": "ipython",
    "version": 3
   },
   "file_extension": ".py",
   "mimetype": "text/x-python",
   "name": "python",
   "nbconvert_exporter": "python",
   "pygments_lexer": "ipython3",
   "version": "3.7.3"
  }
 },
 "nbformat": 4,
 "nbformat_minor": 2
}
